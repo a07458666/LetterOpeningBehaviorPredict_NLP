{
 "cells": [
  {
   "cell_type": "markdown",
   "metadata": {},
   "source": [
    "# 字典建構系統"
   ]
  },
  {
   "cell_type": "code",
   "execution_count": 1,
   "metadata": {},
   "outputs": [],
   "source": [
    "import pandas as pd\n",
    "import re\n",
    "import os\n",
    "import jieba\n",
    "import jieba.posseg as pseg\n",
    "import pickle\n",
    "import numpy as np\n",
    "from tqdm import tqdm_notebook"
   ]
  },
  {
   "cell_type": "code",
   "execution_count": 2,
   "metadata": {},
   "outputs": [
    {
     "data": {
      "text/plain": [
       "'/project/at082-group17'"
      ]
     },
     "execution_count": 2,
     "metadata": {},
     "output_type": "execute_result"
    }
   ],
   "source": [
    "## turn back to main directory\n",
    "os.chdir(\"../\")\n",
    "os.getcwd()"
   ]
  },
  {
   "cell_type": "markdown",
   "metadata": {},
   "source": [
    "## load mail data"
   ]
  },
  {
   "cell_type": "code",
   "execution_count": 3,
   "metadata": {},
   "outputs": [],
   "source": [
    "mail = pd.read_csv('data/mail_data.csv')"
   ]
  },
  {
   "cell_type": "markdown",
   "metadata": {},
   "source": [
    "## 根據規則 清除符號"
   ]
  },
  {
   "cell_type": "code",
   "execution_count": 4,
   "metadata": {},
   "outputs": [],
   "source": [
    "## filter rules\n",
    "mail['subject'] = mail['subject'].str.replace('https?:\\/\\/\\S*|︱', '')\n",
    "mail['subject'] = mail['subject'].str.replace('【', ' ')\n",
    "mail['subject'] = mail['subject'].str.replace('】', ' ')\n",
    "mail['subject'] = mail['subject'].str.replace('{', ' ')\n",
    "mail['subject'] = mail['subject'].str.replace('}', ' ')\n",
    "mail['subject'] = mail['subject'].str.replace('$', '')\n",
    "mail['subject'] = mail['subject'].str.replace('『', ' ')\n",
    "mail['subject'] = mail['subject'].str.replace('』', ' ')\n",
    "\n",
    "mail['subject'] = mail['subject'].replace('', np.nan)\n",
    "mail['content'] = mail['fromName'] + ' ' + mail['subject']"
   ]
  },
  {
   "cell_type": "code",
   "execution_count": 5,
   "metadata": {},
   "outputs": [
    {
     "name": "stderr",
     "output_type": "stream",
     "text": [
      "Building prefix dict from /project/at082-group17/AT082_17_Leopard_Read/jieba/dict.txt.big ...\n",
      "Dumping model to file cache /tmp/jieba.u7a77d3d723a86361a2a598a9f10e1ebc.cache\n",
      "Loading model cost 1.543 seconds.\n",
      "Prefix dict has been built succesfully.\n"
     ]
    }
   ],
   "source": [
    "## set dictionary (can define yourself)\n",
    "jieba.set_dictionary('AT082_17_Leopard_Read/jieba/dict.txt.big')\n",
    "stop_words = open('AT082_17_Leopard_Read/jieba/stop_words.txt').read().splitlines()\n",
    "jieba.load_userdict(\"AT082_17_Leopard_Read/jieba/userdict.txt\") "
   ]
  },
  {
   "cell_type": "code",
   "execution_count": 6,
   "metadata": {},
   "outputs": [],
   "source": [
    "data = mail['content'].unique().tolist()"
   ]
  },
  {
   "cell_type": "code",
   "execution_count": 11,
   "metadata": {},
   "outputs": [
    {
     "data": {
      "application/vnd.jupyter.widget-view+json": {
       "model_id": "d061a2b701a447ada13242873116f508",
       "version_major": 2,
       "version_minor": 0
      },
      "text/plain": [
       "HBox(children=(IntProgress(value=0, max=30627), HTML(value='')))"
      ]
     },
     "metadata": {},
     "output_type": "display_data"
    },
    {
     "name": "stdout",
     "output_type": "stream",
     "text": [
      "\n"
     ]
    }
   ],
   "source": [
    "sentences = []\n",
    "\n",
    "for i, text in enumerate(tqdm_notebook(data)):\n",
    "    line = []\n",
    "\n",
    "    for w in jieba.cut(text, cut_all=False):\n",
    "        \n",
    "        ## remove stopwords and digits\n",
    "        ## can define your own rules\n",
    "        if w not in stop_words and not bool(re.match('[0-9]+', w)):\n",
    "            line.append(w)\n",
    "\n",
    "    sentences.append(line)"
   ]
  },
  {
   "cell_type": "markdown",
   "metadata": {},
   "source": [
    "# 辭典修改教學\n",
    "print('/'.join(jieba.cut('如果放到post中将出错。', HMM=False)))<br>\n",
    "如果/放到/post/中将/出错/。<br>\n",
    "jieba.suggest_freq(('中', '将'), True)<br>\n",
    "print('/'.join(jieba.cut('如果放到post中将出错。', HMM=False)))<br>\n",
    "如果/放到/post/中/将/出错/。<br>\n",
    "<br>\n",
    "print('/'.join(jieba.cut('「台中」正确应该不会被切开', HMM=False)))<br>\n",
    "「/台/中/」/正确/应该/不会/被/切开<br>\n",
    "jieba.suggest_freq('台中', True)<br>\n",
    "print('/'.join(jieba.cut('「台中」正确应该不会被切开', HMM=False)))<br>\n",
    "「/台中/」/正确/应该/不会/被/切开<br>\n",
    "<br>\n",
    "\n",
    "jieba.add_word('台中')<br>"
   ]
  },
  {
   "cell_type": "code",
   "execution_count": 8,
   "metadata": {},
   "outputs": [
    {
     "name": "stderr",
     "output_type": "stream",
     "text": [
      "/opt/conda/lib/python3.6/site-packages/IPython/html.py:14: ShimWarning: The `IPython.html` package has been deprecated since IPython 4.0. You should import from `notebook` instead. `IPython.html.widgets` has moved to `ipywidgets`.\n",
      "  \"`IPython.html.widgets` has moved to `ipywidgets`.\", ShimWarning)\n"
     ]
    }
   ],
   "source": [
    "import ipywidgets as widgets\n",
    "from IPython.html.widgets import interact\n",
    "from IPython.html.widgets import interact_manual\n",
    "from IPython.display import display"
   ]
  },
  {
   "cell_type": "code",
   "execution_count": 9,
   "metadata": {},
   "outputs": [],
   "source": [
    "def changeInput(index):\n",
    "    if index != '':\n",
    "        index = int(index)\n",
    "        if index >= 0 and index <= len(sentences):\n",
    "            print(data[index])\n",
    "            print(sentences[index])\n",
    "def addWord(addWord):\n",
    "    jieba.add_word(addWord)\n",
    "    file = open(\"AT082_17_Leopard_Read/jieba/userdict.txt\", 'a')\n",
    "    file.write(addWord + '\\n')\n",
    "    file.close()\n",
    "    print(addWord + 'is add')\n",
    "# def removeWord(removeWord):\n",
    "#     jieba.del_word(removeWord)\n",
    "#     print(removeWord + 'is remove')"
   ]
  },
  {
   "cell_type": "code",
   "execution_count": 10,
   "metadata": {},
   "outputs": [
    {
     "data": {
      "application/vnd.jupyter.widget-view+json": {
       "model_id": "c49bf314380d417485bfa7db85c967c2",
       "version_major": 2,
       "version_minor": 0
      },
      "text/plain": [
       "interactive(children=(Text(value='0', description='index'), Output()), _dom_classes=('widget-interact',))"
      ]
     },
     "metadata": {},
     "output_type": "display_data"
    },
    {
     "data": {
      "application/vnd.jupyter.widget-view+json": {
       "model_id": "607dd62285ef4fb38816e3071e550cbb",
       "version_major": 2,
       "version_minor": 0
      },
      "text/plain": [
       "interactive(children=(Text(value='', description='addWord'), Button(description='Run Interact', style=ButtonSt…"
      ]
     },
     "metadata": {},
     "output_type": "display_data"
    }
   ],
   "source": [
    "interact(changeInput, index = '0')\n",
    "addIneract = interact_manual(addWord, addWord = '')\n",
    "#removeIneract = interact_manual(removeWord, removeWord = '')\n",
    "addIneract.widget.children[1].description = 'Add'\n",
    "#removeIneract.widget.children[1].description = 'Remove'"
   ]
  },
  {
   "cell_type": "markdown",
   "metadata": {},
   "source": [
    "# 紀錄進度\n",
    "完成到第5筆<br>\n",
    "add '推廣部'"
   ]
  },
  {
   "cell_type": "code",
   "execution_count": null,
   "metadata": {},
   "outputs": [],
   "source": []
  }
 ],
 "metadata": {
  "kernelspec": {
   "display_name": "Python 3",
   "language": "python",
   "name": "python3"
  },
  "language_info": {
   "codemirror_mode": {
    "name": "ipython",
    "version": 3
   },
   "file_extension": ".py",
   "mimetype": "text/x-python",
   "name": "python",
   "nbconvert_exporter": "python",
   "pygments_lexer": "ipython3",
   "version": "3.6.6"
  }
 },
 "nbformat": 4,
 "nbformat_minor": 2
}
