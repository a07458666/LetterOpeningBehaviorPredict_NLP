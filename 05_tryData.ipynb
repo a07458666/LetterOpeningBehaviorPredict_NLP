{
 "cells": [
  {
   "cell_type": "markdown",
   "metadata": {},
   "source": [
    "# 讀取開信行為資料\n",
    "\n",
    "recipientSn 寄信行為<br>\n",
    "campaignSn 活動編號<br>\n",
    "mailAddress 收件人email<br>\n",
    "domain 收件eamil的domain<br>\n",
    "openedFlag 開信行為<br>"
   ]
  },
  {
   "cell_type": "code",
   "execution_count": 1,
   "metadata": {},
   "outputs": [],
   "source": [
    "import pandas as pd\n",
    "import re\n",
    "import os\n",
    "import jieba\n",
    "import jieba.posseg as pseg\n",
    "import pickle\n",
    "import numpy as np\n",
    "from tqdm import tqdm_notebook"
   ]
  },
  {
   "cell_type": "code",
   "execution_count": 2,
   "metadata": {},
   "outputs": [
    {
     "data": {
      "text/plain": [
       "'/project/at082-group17'"
      ]
     },
     "execution_count": 2,
     "metadata": {},
     "output_type": "execute_result"
    }
   ],
   "source": [
    "## turn back to main directory\n",
    "os.chdir(\"../\")\n",
    "os.getcwd()"
   ]
  },
  {
   "cell_type": "code",
   "execution_count": 26,
   "metadata": {},
   "outputs": [],
   "source": [
    "fileName = '201903'"
   ]
  },
  {
   "cell_type": "markdown",
   "metadata": {},
   "source": [
    "## 篩選要讀取的欄位"
   ]
  },
  {
   "cell_type": "code",
   "execution_count": 27,
   "metadata": {},
   "outputs": [
    {
     "name": "stdout",
     "output_type": "stream",
     "text": [
      "['recipientSn', 'campaignSn', 'mailAddress', 'domain', 'openedFlag', 'bouncedFlag', 'fromMailAddress', 'scheduledDate']\n"
     ]
    }
   ],
   "source": [
    "# 取出col欄位\n",
    "useCols = list(pd.read_csv('data/2018_1_8/' + fileName + '.csv', nrows =1))\n",
    "useCols.remove('subject')\n",
    "useCols.remove('fromName')\n",
    "print(useCols)"
   ]
  },
  {
   "cell_type": "markdown",
   "metadata": {},
   "source": [
    "## 讀檔！！！ 這很久"
   ]
  },
  {
   "cell_type": "code",
   "execution_count": 28,
   "metadata": {},
   "outputs": [],
   "source": [
    "openMailData = pd.read_csv('data/2018_1_8/' + fileName + '.csv', usecols = useCols, parse_dates = ['scheduledDate'])"
   ]
  },
  {
   "cell_type": "code",
   "execution_count": 29,
   "metadata": {},
   "outputs": [
    {
     "data": {
      "text/html": [
       "<div>\n",
       "<style scoped>\n",
       "    .dataframe tbody tr th:only-of-type {\n",
       "        vertical-align: middle;\n",
       "    }\n",
       "\n",
       "    .dataframe tbody tr th {\n",
       "        vertical-align: top;\n",
       "    }\n",
       "\n",
       "    .dataframe thead th {\n",
       "        text-align: right;\n",
       "    }\n",
       "</style>\n",
       "<table border=\"1\" class=\"dataframe\">\n",
       "  <thead>\n",
       "    <tr style=\"text-align: right;\">\n",
       "      <th></th>\n",
       "      <th>recipientSn</th>\n",
       "      <th>campaignSn</th>\n",
       "      <th>mailAddress</th>\n",
       "      <th>domain</th>\n",
       "      <th>openedFlag</th>\n",
       "      <th>bouncedFlag</th>\n",
       "      <th>fromMailAddress</th>\n",
       "      <th>scheduledDate</th>\n",
       "    </tr>\n",
       "  </thead>\n",
       "  <tbody>\n",
       "    <tr>\n",
       "      <th>0</th>\n",
       "      <td>0000000068d9fa81016934e0638e22dc</td>\n",
       "      <td>000000006911118b016934deb6555b88</td>\n",
       "      <td>72ecb4a0c0d39dc412592b9a59614d203bcd18f87fa512...</td>\n",
       "      <td>hotmail.com</td>\n",
       "      <td>NaN</td>\n",
       "      <td>NaN</td>\n",
       "      <td>vividomi0v0@gmail.com</td>\n",
       "      <td>2019-03-01 00:11:51</td>\n",
       "    </tr>\n",
       "    <tr>\n",
       "      <th>1</th>\n",
       "      <td>0000000068d9fa81016934e064da22dd</td>\n",
       "      <td>000000006911118b016934deb6555b88</td>\n",
       "      <td>ce593074723f55202b89b8e5521b7c596f8a8320c67ff1...</td>\n",
       "      <td>gmail.com</td>\n",
       "      <td>NaN</td>\n",
       "      <td>NaN</td>\n",
       "      <td>vividomi0v0@gmail.com</td>\n",
       "      <td>2019-03-01 00:11:51</td>\n",
       "    </tr>\n",
       "    <tr>\n",
       "      <th>2</th>\n",
       "      <td>0000000068d9fa81016934e064da22de</td>\n",
       "      <td>000000006911118b016934deb6555b88</td>\n",
       "      <td>2bec838f1574135bcadb3290b6d8b401ed011b4b7e291c...</td>\n",
       "      <td>gmail.com</td>\n",
       "      <td>NaN</td>\n",
       "      <td>NaN</td>\n",
       "      <td>vividomi0v0@gmail.com</td>\n",
       "      <td>2019-03-01 00:11:51</td>\n",
       "    </tr>\n",
       "    <tr>\n",
       "      <th>3</th>\n",
       "      <td>0000000068d9fa81016934e064da22df</td>\n",
       "      <td>000000006911118b016934deb6555b88</td>\n",
       "      <td>9f54e3b717ba81ad300b51814162322db4603737694a70...</td>\n",
       "      <td>firstlaw.com</td>\n",
       "      <td>Y</td>\n",
       "      <td>NaN</td>\n",
       "      <td>vividomi0v0@gmail.com</td>\n",
       "      <td>2019-03-01 00:11:51</td>\n",
       "    </tr>\n",
       "    <tr>\n",
       "      <th>4</th>\n",
       "      <td>0000000068d9fa81016934e064da22e0</td>\n",
       "      <td>000000006911118b016934deb6555b88</td>\n",
       "      <td>7498256384788f94c6fe23148a4cdf7b764c24837d40bf...</td>\n",
       "      <td>gmail.com</td>\n",
       "      <td>NaN</td>\n",
       "      <td>NaN</td>\n",
       "      <td>vividomi0v0@gmail.com</td>\n",
       "      <td>2019-03-01 00:11:51</td>\n",
       "    </tr>\n",
       "  </tbody>\n",
       "</table>\n",
       "</div>"
      ],
      "text/plain": [
       "                        recipientSn                        campaignSn  \\\n",
       "0  0000000068d9fa81016934e0638e22dc  000000006911118b016934deb6555b88   \n",
       "1  0000000068d9fa81016934e064da22dd  000000006911118b016934deb6555b88   \n",
       "2  0000000068d9fa81016934e064da22de  000000006911118b016934deb6555b88   \n",
       "3  0000000068d9fa81016934e064da22df  000000006911118b016934deb6555b88   \n",
       "4  0000000068d9fa81016934e064da22e0  000000006911118b016934deb6555b88   \n",
       "\n",
       "                                         mailAddress        domain openedFlag  \\\n",
       "0  72ecb4a0c0d39dc412592b9a59614d203bcd18f87fa512...   hotmail.com        NaN   \n",
       "1  ce593074723f55202b89b8e5521b7c596f8a8320c67ff1...     gmail.com        NaN   \n",
       "2  2bec838f1574135bcadb3290b6d8b401ed011b4b7e291c...     gmail.com        NaN   \n",
       "3  9f54e3b717ba81ad300b51814162322db4603737694a70...  firstlaw.com          Y   \n",
       "4  7498256384788f94c6fe23148a4cdf7b764c24837d40bf...     gmail.com        NaN   \n",
       "\n",
       "  bouncedFlag        fromMailAddress       scheduledDate  \n",
       "0         NaN  vividomi0v0@gmail.com 2019-03-01 00:11:51  \n",
       "1         NaN  vividomi0v0@gmail.com 2019-03-01 00:11:51  \n",
       "2         NaN  vividomi0v0@gmail.com 2019-03-01 00:11:51  \n",
       "3         NaN  vividomi0v0@gmail.com 2019-03-01 00:11:51  \n",
       "4         NaN  vividomi0v0@gmail.com 2019-03-01 00:11:51  "
      ]
     },
     "execution_count": 29,
     "metadata": {},
     "output_type": "execute_result"
    }
   ],
   "source": [
    "openMailData.head()"
   ]
  },
  {
   "cell_type": "markdown",
   "metadata": {},
   "source": [
    "## 將被退信的資料移除 並刪除’bouncedFlag‘欄位"
   ]
  },
  {
   "cell_type": "code",
   "execution_count": 30,
   "metadata": {},
   "outputs": [],
   "source": [
    "openMailDataIndex = openMailData['bouncedFlag'] != 'Y'\n",
    "openMailData = openMailData[openMailDataIndex]\n",
    "del openMailData['bouncedFlag']"
   ]
  },
  {
   "cell_type": "markdown",
   "metadata": {},
   "source": [
    "## 將openedFlag 轉bool"
   ]
  },
  {
   "cell_type": "code",
   "execution_count": 31,
   "metadata": {},
   "outputs": [],
   "source": [
    "openMailData['openedFlag'] = openMailData['openedFlag'] == 'Y'"
   ]
  },
  {
   "cell_type": "code",
   "execution_count": 32,
   "metadata": {},
   "outputs": [
    {
     "data": {
      "text/html": [
       "<div>\n",
       "<style scoped>\n",
       "    .dataframe tbody tr th:only-of-type {\n",
       "        vertical-align: middle;\n",
       "    }\n",
       "\n",
       "    .dataframe tbody tr th {\n",
       "        vertical-align: top;\n",
       "    }\n",
       "\n",
       "    .dataframe thead th {\n",
       "        text-align: right;\n",
       "    }\n",
       "</style>\n",
       "<table border=\"1\" class=\"dataframe\">\n",
       "  <thead>\n",
       "    <tr style=\"text-align: right;\">\n",
       "      <th></th>\n",
       "      <th>recipientSn</th>\n",
       "      <th>campaignSn</th>\n",
       "      <th>mailAddress</th>\n",
       "      <th>domain</th>\n",
       "      <th>openedFlag</th>\n",
       "      <th>fromMailAddress</th>\n",
       "      <th>scheduledDate</th>\n",
       "    </tr>\n",
       "  </thead>\n",
       "  <tbody>\n",
       "    <tr>\n",
       "      <th>count</th>\n",
       "      <td>10315342</td>\n",
       "      <td>10315342</td>\n",
       "      <td>10315342</td>\n",
       "      <td>10315342</td>\n",
       "      <td>10315342</td>\n",
       "      <td>10315342</td>\n",
       "      <td>10315342</td>\n",
       "    </tr>\n",
       "    <tr>\n",
       "      <th>unique</th>\n",
       "      <td>10315342</td>\n",
       "      <td>2447</td>\n",
       "      <td>4040870</td>\n",
       "      <td>84548</td>\n",
       "      <td>2</td>\n",
       "      <td>559</td>\n",
       "      <td>2188</td>\n",
       "    </tr>\n",
       "    <tr>\n",
       "      <th>top</th>\n",
       "      <td>0000000068d9fa810169ad1646654b96</td>\n",
       "      <td>000000006911118b01693322454c0fff</td>\n",
       "      <td>be952b5247541f396c73a250a58dba74e8fa2079c3ce50...</td>\n",
       "      <td>gmail.com</td>\n",
       "      <td>False</td>\n",
       "      <td>tgo@thsrc.com.tw</td>\n",
       "      <td>2019-03-04 11:30:00</td>\n",
       "    </tr>\n",
       "    <tr>\n",
       "      <th>freq</th>\n",
       "      <td>1</td>\n",
       "      <td>335587</td>\n",
       "      <td>75</td>\n",
       "      <td>4825825</td>\n",
       "      <td>8676205</td>\n",
       "      <td>1654162</td>\n",
       "      <td>335587</td>\n",
       "    </tr>\n",
       "    <tr>\n",
       "      <th>first</th>\n",
       "      <td>NaN</td>\n",
       "      <td>NaN</td>\n",
       "      <td>NaN</td>\n",
       "      <td>NaN</td>\n",
       "      <td>NaN</td>\n",
       "      <td>NaN</td>\n",
       "      <td>2019-03-01 00:11:51</td>\n",
       "    </tr>\n",
       "    <tr>\n",
       "      <th>last</th>\n",
       "      <td>NaN</td>\n",
       "      <td>NaN</td>\n",
       "      <td>NaN</td>\n",
       "      <td>NaN</td>\n",
       "      <td>NaN</td>\n",
       "      <td>NaN</td>\n",
       "      <td>2019-03-31 23:06:16</td>\n",
       "    </tr>\n",
       "  </tbody>\n",
       "</table>\n",
       "</div>"
      ],
      "text/plain": [
       "                             recipientSn                        campaignSn  \\\n",
       "count                           10315342                          10315342   \n",
       "unique                          10315342                              2447   \n",
       "top     0000000068d9fa810169ad1646654b96  000000006911118b01693322454c0fff   \n",
       "freq                                   1                            335587   \n",
       "first                                NaN                               NaN   \n",
       "last                                 NaN                               NaN   \n",
       "\n",
       "                                              mailAddress     domain  \\\n",
       "count                                            10315342   10315342   \n",
       "unique                                            4040870      84548   \n",
       "top     be952b5247541f396c73a250a58dba74e8fa2079c3ce50...  gmail.com   \n",
       "freq                                                   75    4825825   \n",
       "first                                                 NaN        NaN   \n",
       "last                                                  NaN        NaN   \n",
       "\n",
       "       openedFlag   fromMailAddress        scheduledDate  \n",
       "count    10315342          10315342             10315342  \n",
       "unique          2               559                 2188  \n",
       "top         False  tgo@thsrc.com.tw  2019-03-04 11:30:00  \n",
       "freq      8676205           1654162               335587  \n",
       "first         NaN               NaN  2019-03-01 00:11:51  \n",
       "last          NaN               NaN  2019-03-31 23:06:16  "
      ]
     },
     "execution_count": 32,
     "metadata": {},
     "output_type": "execute_result"
    }
   ],
   "source": [
    "openMailData.describe()"
   ]
  },
  {
   "cell_type": "markdown",
   "metadata": {},
   "source": [
    "## Features Combination by groupby(對domain做處理)"
   ]
  },
  {
   "cell_type": "code",
   "execution_count": 33,
   "metadata": {},
   "outputs": [
    {
     "data": {
      "text/html": [
       "<div>\n",
       "<style scoped>\n",
       "    .dataframe tbody tr th:only-of-type {\n",
       "        vertical-align: middle;\n",
       "    }\n",
       "\n",
       "    .dataframe tbody tr th {\n",
       "        vertical-align: top;\n",
       "    }\n",
       "\n",
       "    .dataframe thead th {\n",
       "        text-align: right;\n",
       "    }\n",
       "</style>\n",
       "<table border=\"1\" class=\"dataframe\">\n",
       "  <thead>\n",
       "    <tr style=\"text-align: right;\">\n",
       "      <th></th>\n",
       "      <th>recipientSn</th>\n",
       "      <th>campaignSn</th>\n",
       "      <th>mailAddress</th>\n",
       "      <th>domain</th>\n",
       "      <th>openedFlag</th>\n",
       "      <th>fromMailAddress</th>\n",
       "      <th>scheduledDate</th>\n",
       "      <th>domain_count</th>\n",
       "    </tr>\n",
       "  </thead>\n",
       "  <tbody>\n",
       "    <tr>\n",
       "      <th>0</th>\n",
       "      <td>0000000068d9fa81016934e0638e22dc</td>\n",
       "      <td>000000006911118b016934deb6555b88</td>\n",
       "      <td>72ecb4a0c0d39dc412592b9a59614d203bcd18f87fa512...</td>\n",
       "      <td>hotmail.com</td>\n",
       "      <td>False</td>\n",
       "      <td>vividomi0v0@gmail.com</td>\n",
       "      <td>2019-03-01 00:11:51</td>\n",
       "      <td>1050263</td>\n",
       "    </tr>\n",
       "    <tr>\n",
       "      <th>1</th>\n",
       "      <td>0000000068d9fa81016934e064da22dd</td>\n",
       "      <td>000000006911118b016934deb6555b88</td>\n",
       "      <td>ce593074723f55202b89b8e5521b7c596f8a8320c67ff1...</td>\n",
       "      <td>gmail.com</td>\n",
       "      <td>False</td>\n",
       "      <td>vividomi0v0@gmail.com</td>\n",
       "      <td>2019-03-01 00:11:51</td>\n",
       "      <td>4825825</td>\n",
       "    </tr>\n",
       "    <tr>\n",
       "      <th>2</th>\n",
       "      <td>0000000068d9fa81016934e064da22de</td>\n",
       "      <td>000000006911118b016934deb6555b88</td>\n",
       "      <td>2bec838f1574135bcadb3290b6d8b401ed011b4b7e291c...</td>\n",
       "      <td>gmail.com</td>\n",
       "      <td>False</td>\n",
       "      <td>vividomi0v0@gmail.com</td>\n",
       "      <td>2019-03-01 00:11:51</td>\n",
       "      <td>4825825</td>\n",
       "    </tr>\n",
       "    <tr>\n",
       "      <th>3</th>\n",
       "      <td>0000000068d9fa81016934e064da22df</td>\n",
       "      <td>000000006911118b016934deb6555b88</td>\n",
       "      <td>9f54e3b717ba81ad300b51814162322db4603737694a70...</td>\n",
       "      <td>firstlaw.com</td>\n",
       "      <td>True</td>\n",
       "      <td>vividomi0v0@gmail.com</td>\n",
       "      <td>2019-03-01 00:11:51</td>\n",
       "      <td>3</td>\n",
       "    </tr>\n",
       "    <tr>\n",
       "      <th>4</th>\n",
       "      <td>0000000068d9fa81016934e064da22e0</td>\n",
       "      <td>000000006911118b016934deb6555b88</td>\n",
       "      <td>7498256384788f94c6fe23148a4cdf7b764c24837d40bf...</td>\n",
       "      <td>gmail.com</td>\n",
       "      <td>False</td>\n",
       "      <td>vividomi0v0@gmail.com</td>\n",
       "      <td>2019-03-01 00:11:51</td>\n",
       "      <td>4825825</td>\n",
       "    </tr>\n",
       "  </tbody>\n",
       "</table>\n",
       "</div>"
      ],
      "text/plain": [
       "                        recipientSn                        campaignSn  \\\n",
       "0  0000000068d9fa81016934e0638e22dc  000000006911118b016934deb6555b88   \n",
       "1  0000000068d9fa81016934e064da22dd  000000006911118b016934deb6555b88   \n",
       "2  0000000068d9fa81016934e064da22de  000000006911118b016934deb6555b88   \n",
       "3  0000000068d9fa81016934e064da22df  000000006911118b016934deb6555b88   \n",
       "4  0000000068d9fa81016934e064da22e0  000000006911118b016934deb6555b88   \n",
       "\n",
       "                                         mailAddress        domain  \\\n",
       "0  72ecb4a0c0d39dc412592b9a59614d203bcd18f87fa512...   hotmail.com   \n",
       "1  ce593074723f55202b89b8e5521b7c596f8a8320c67ff1...     gmail.com   \n",
       "2  2bec838f1574135bcadb3290b6d8b401ed011b4b7e291c...     gmail.com   \n",
       "3  9f54e3b717ba81ad300b51814162322db4603737694a70...  firstlaw.com   \n",
       "4  7498256384788f94c6fe23148a4cdf7b764c24837d40bf...     gmail.com   \n",
       "\n",
       "   openedFlag        fromMailAddress       scheduledDate  domain_count  \n",
       "0       False  vividomi0v0@gmail.com 2019-03-01 00:11:51       1050263  \n",
       "1       False  vividomi0v0@gmail.com 2019-03-01 00:11:51       4825825  \n",
       "2       False  vividomi0v0@gmail.com 2019-03-01 00:11:51       4825825  \n",
       "3        True  vividomi0v0@gmail.com 2019-03-01 00:11:51             3  \n",
       "4       False  vividomi0v0@gmail.com 2019-03-01 00:11:51       4825825  "
      ]
     },
     "execution_count": 33,
     "metadata": {},
     "output_type": "execute_result"
    }
   ],
   "source": [
    "df_temp = openMailData[[\"domain\", \"scheduledDate\"]].groupby(\"domain\").count().reset_index()\n",
    "df_temp.columns = [\"domain\", \"domain_count\"]\n",
    "openMailData = openMailData.merge(df_temp, how=\"left\", on=\"domain\")\n",
    "openMailData.head()"
   ]
  },
  {
   "cell_type": "markdown",
   "metadata": {},
   "source": [
    "## 對時間做處理(轉星期,與時間取cos)"
   ]
  },
  {
   "cell_type": "code",
   "execution_count": 34,
   "metadata": {},
   "outputs": [],
   "source": [
    "openMailData['dayofweek'] = openMailData['scheduledDate'].apply(lambda x: x.dayofweek)"
   ]
  },
  {
   "cell_type": "code",
   "execution_count": 35,
   "metadata": {},
   "outputs": [],
   "source": [
    "import math\n",
    "def myCos(x):\n",
    "    return math.cos(x * math.pi)\n",
    "def getTime(x):\n",
    "    time = (x.second + (x.minute * 60) + (x.hour  * 60 * 60)) / (60 * 60 * 12)\n",
    "    return myCos(time)\n",
    "openMailData['time'] = openMailData['scheduledDate'].apply(getTime)"
   ]
  },
  {
   "cell_type": "markdown",
   "metadata": {},
   "source": [
    "## 將mail的資料 存為pickle檔"
   ]
  },
  {
   "cell_type": "code",
   "execution_count": 36,
   "metadata": {},
   "outputs": [],
   "source": [
    "## save data as pickle format\n",
    "with open('data/pickle/' + fileName + '.p', \"wb\") as file:\n",
    "    pickle.dump(openMailData, file)"
   ]
  },
  {
   "cell_type": "markdown",
   "metadata": {},
   "source": [
    "## 讀取回pickle 看是否正常"
   ]
  },
  {
   "cell_type": "code",
   "execution_count": 39,
   "metadata": {},
   "outputs": [],
   "source": [
    "## load 'article_cutted'\n",
    "with open('data/pickle/' + fileName + '.p', \"rb\") as file:\n",
    "    openMailData = pickle.load(file)"
   ]
  },
  {
   "cell_type": "code",
   "execution_count": 15,
   "metadata": {},
   "outputs": [
    {
     "data": {
      "text/html": [
       "<div>\n",
       "<style scoped>\n",
       "    .dataframe tbody tr th:only-of-type {\n",
       "        vertical-align: middle;\n",
       "    }\n",
       "\n",
       "    .dataframe tbody tr th {\n",
       "        vertical-align: top;\n",
       "    }\n",
       "\n",
       "    .dataframe thead th {\n",
       "        text-align: right;\n",
       "    }\n",
       "</style>\n",
       "<table border=\"1\" class=\"dataframe\">\n",
       "  <thead>\n",
       "    <tr style=\"text-align: right;\">\n",
       "      <th></th>\n",
       "      <th>recipientSn</th>\n",
       "      <th>campaignSn</th>\n",
       "      <th>mailAddress</th>\n",
       "      <th>domain</th>\n",
       "      <th>openedFlag</th>\n",
       "      <th>fromMailAddress</th>\n",
       "      <th>scheduledDate</th>\n",
       "      <th>domain_count</th>\n",
       "      <th>dayofweek</th>\n",
       "      <th>time</th>\n",
       "    </tr>\n",
       "  </thead>\n",
       "  <tbody>\n",
       "    <tr>\n",
       "      <th>0</th>\n",
       "      <td>00000000606f8cfb0160af1258331bb9</td>\n",
       "      <td>00000000609630da0160af09b8626299</td>\n",
       "      <td>6a359cb4196db9a02c8d195b73f11374d65591365a37d8...</td>\n",
       "      <td>chwa.com.tw</td>\n",
       "      <td>True</td>\n",
       "      <td>jerry.org101@gmail.com</td>\n",
       "      <td>2018-01-01 08:14:59</td>\n",
       "      <td>156</td>\n",
       "      <td>0</td>\n",
       "      <td>-0.555510</td>\n",
       "    </tr>\n",
       "    <tr>\n",
       "      <th>1</th>\n",
       "      <td>00000000606f8cfb0160af1258891bba</td>\n",
       "      <td>00000000609630da0160af09b8626299</td>\n",
       "      <td>804fdb3632b9c90532fb1abaa5945a8d869ca05b92e75a...</td>\n",
       "      <td>gmail.com</td>\n",
       "      <td>False</td>\n",
       "      <td>jerry.org101@gmail.com</td>\n",
       "      <td>2018-01-01 08:14:59</td>\n",
       "      <td>2943558</td>\n",
       "      <td>0</td>\n",
       "      <td>-0.555510</td>\n",
       "    </tr>\n",
       "    <tr>\n",
       "      <th>2</th>\n",
       "      <td>00000000606f8cfb0160af1258891bbb</td>\n",
       "      <td>00000000609630da0160af09b8626299</td>\n",
       "      <td>fa9ae8234796d6caf56919a79af59276f976e928bb65b5...</td>\n",
       "      <td>jerry.org.tw</td>\n",
       "      <td>True</td>\n",
       "      <td>jerry.org101@gmail.com</td>\n",
       "      <td>2018-01-01 08:14:59</td>\n",
       "      <td>25</td>\n",
       "      <td>0</td>\n",
       "      <td>-0.555510</td>\n",
       "    </tr>\n",
       "    <tr>\n",
       "      <th>3</th>\n",
       "      <td>00000000606f8cfb0160af1258891bbc</td>\n",
       "      <td>00000000609630da0160af09b8626299</td>\n",
       "      <td>f58cab34ed3a0687423ecb6a22aba1a7cad758370428ea...</td>\n",
       "      <td>jerry.org.tw</td>\n",
       "      <td>False</td>\n",
       "      <td>jerry.org101@gmail.com</td>\n",
       "      <td>2018-01-01 08:14:59</td>\n",
       "      <td>25</td>\n",
       "      <td>0</td>\n",
       "      <td>-0.555510</td>\n",
       "    </tr>\n",
       "    <tr>\n",
       "      <th>4</th>\n",
       "      <td>00000000606f8cfb0160af3c39a61c20</td>\n",
       "      <td>00000000609630da0160a1fa993b43fe</td>\n",
       "      <td>3f62411f0d85adbcc6010c8ca98fae7e6165f481175588...</td>\n",
       "      <td>msa.hinet.net</td>\n",
       "      <td>False</td>\n",
       "      <td>service.edm@hotains.com.tw</td>\n",
       "      <td>2018-01-01 09:00:00</td>\n",
       "      <td>99925</td>\n",
       "      <td>0</td>\n",
       "      <td>-0.707107</td>\n",
       "    </tr>\n",
       "  </tbody>\n",
       "</table>\n",
       "</div>"
      ],
      "text/plain": [
       "                        recipientSn                        campaignSn  \\\n",
       "0  00000000606f8cfb0160af1258331bb9  00000000609630da0160af09b8626299   \n",
       "1  00000000606f8cfb0160af1258891bba  00000000609630da0160af09b8626299   \n",
       "2  00000000606f8cfb0160af1258891bbb  00000000609630da0160af09b8626299   \n",
       "3  00000000606f8cfb0160af1258891bbc  00000000609630da0160af09b8626299   \n",
       "4  00000000606f8cfb0160af3c39a61c20  00000000609630da0160a1fa993b43fe   \n",
       "\n",
       "                                         mailAddress         domain  \\\n",
       "0  6a359cb4196db9a02c8d195b73f11374d65591365a37d8...    chwa.com.tw   \n",
       "1  804fdb3632b9c90532fb1abaa5945a8d869ca05b92e75a...      gmail.com   \n",
       "2  fa9ae8234796d6caf56919a79af59276f976e928bb65b5...   jerry.org.tw   \n",
       "3  f58cab34ed3a0687423ecb6a22aba1a7cad758370428ea...   jerry.org.tw   \n",
       "4  3f62411f0d85adbcc6010c8ca98fae7e6165f481175588...  msa.hinet.net   \n",
       "\n",
       "   openedFlag             fromMailAddress       scheduledDate  domain_count  \\\n",
       "0        True     jerry.org101@gmail.com  2018-01-01 08:14:59           156   \n",
       "1       False     jerry.org101@gmail.com  2018-01-01 08:14:59       2943558   \n",
       "2        True     jerry.org101@gmail.com  2018-01-01 08:14:59            25   \n",
       "3       False     jerry.org101@gmail.com  2018-01-01 08:14:59            25   \n",
       "4       False  service.edm@hotains.com.tw 2018-01-01 09:00:00         99925   \n",
       "\n",
       "   dayofweek      time  \n",
       "0          0 -0.555510  \n",
       "1          0 -0.555510  \n",
       "2          0 -0.555510  \n",
       "3          0 -0.555510  \n",
       "4          0 -0.707107  "
      ]
     },
     "execution_count": 15,
     "metadata": {},
     "output_type": "execute_result"
    }
   ],
   "source": [
    "openMailData.head()"
   ]
  },
  {
   "cell_type": "code",
   "execution_count": null,
   "metadata": {},
   "outputs": [],
   "source": []
  }
 ],
 "metadata": {
  "kernelspec": {
   "display_name": "Python 3",
   "language": "python",
   "name": "python3"
  },
  "language_info": {
   "codemirror_mode": {
    "name": "ipython",
    "version": 3
   },
   "file_extension": ".py",
   "mimetype": "text/x-python",
   "name": "python",
   "nbconvert_exporter": "python",
   "pygments_lexer": "ipython3",
   "version": "3.6.6"
  }
 },
 "nbformat": 4,
 "nbformat_minor": 2
}
