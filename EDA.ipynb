{
 "cells": [
  {
   "cell_type": "code",
   "execution_count": 1,
   "metadata": {},
   "outputs": [],
   "source": [
    "import pandas as pd\n",
    "from tqdm import tqdm_notebook\n",
    "import seaborn as sns\n",
    "import matplotlib.pyplot as plt\n",
    "%matplotlib inline\n",
    "sns.set()"
   ]
  },
  {
   "cell_type": "code",
   "execution_count": 2,
   "metadata": {},
   "outputs": [
    {
     "name": "stdout",
     "output_type": "stream",
     "text": [
      "/project/at082-group17/AT082_17_Leopard_Read\n"
     ]
    }
   ],
   "source": [
    "!pwd"
   ]
  },
  {
   "cell_type": "code",
   "execution_count": 3,
   "metadata": {},
   "outputs": [
    {
     "data": {
      "application/vnd.jupyter.widget-view+json": {
       "model_id": "b549340960764097baccdb81b18bd253",
       "version_major": 2,
       "version_minor": 0
      },
      "text/plain": [
       "HBox(children=(IntProgress(value=0, max=15), HTML(value='')))"
      ]
     },
     "metadata": {},
     "output_type": "display_data"
    },
    {
     "name": "stderr",
     "output_type": "stream",
     "text": [
      "/opt/conda/lib/python3.6/site-packages/IPython/core/interactiveshell.py:2785: DtypeWarning: Columns (5) have mixed types. Specify dtype option on import or set low_memory=False.\n",
      "  interactivity=interactivity, compiler=compiler, result=result)\n",
      "/opt/conda/lib/python3.6/site-packages/IPython/core/interactiveshell.py:2785: DtypeWarning: Columns (4,5) have mixed types. Specify dtype option on import or set low_memory=False.\n",
      "  interactivity=interactivity, compiler=compiler, result=result)\n"
     ]
    },
    {
     "name": "stdout",
     "output_type": "stream",
     "text": [
      "\n"
     ]
    }
   ],
   "source": [
    "parse_dates = ['scheduledDate']\n",
    "dataNameList = ['201801', '201802', '201803', '201804', '201805', '201806', '201807','201808', '201809', '201810', '201811', '201812', '201901', '201902' ,'201903']\n",
    "df_all = pd.DataFrame()\n",
    "\n",
    "for i, name in enumerate(tqdm_notebook(dataNameList)):\n",
    "#for name in dataNameList:\n",
    "    data = pd.read_csv('../data/2018_1_8/{}.csv'.format(name), parse_dates = parse_dates)\n",
    "    df_all = pd.concat((df_all, data), axis = 0, ignore_index = False)"
   ]
  },
  {
   "cell_type": "code",
   "execution_count": 4,
   "metadata": {},
   "outputs": [
    {
     "data": {
      "text/html": [
       "<div>\n",
       "<style scoped>\n",
       "    .dataframe tbody tr th:only-of-type {\n",
       "        vertical-align: middle;\n",
       "    }\n",
       "\n",
       "    .dataframe tbody tr th {\n",
       "        vertical-align: top;\n",
       "    }\n",
       "\n",
       "    .dataframe thead th {\n",
       "        text-align: right;\n",
       "    }\n",
       "</style>\n",
       "<table border=\"1\" class=\"dataframe\">\n",
       "  <thead>\n",
       "    <tr style=\"text-align: right;\">\n",
       "      <th></th>\n",
       "      <th>recipientSn</th>\n",
       "      <th>campaignSn</th>\n",
       "      <th>mailAddress</th>\n",
       "      <th>domain</th>\n",
       "      <th>openedFlag</th>\n",
       "      <th>bouncedFlag</th>\n",
       "      <th>fromName</th>\n",
       "      <th>fromMailAddress</th>\n",
       "      <th>subject</th>\n",
       "      <th>scheduledDate</th>\n",
       "    </tr>\n",
       "  </thead>\n",
       "  <tbody>\n",
       "    <tr>\n",
       "      <th>0</th>\n",
       "      <td>00000000606f8cfb0160af1258331bb9</td>\n",
       "      <td>00000000609630da0160af09b8626299</td>\n",
       "      <td>6a359cb4196db9a02c8d195b73f11374d65591365a37d8...</td>\n",
       "      <td>chwa.com.tw</td>\n",
       "      <td>Y</td>\n",
       "      <td>NaN</td>\n",
       "      <td>傑瑞老人安養中心</td>\n",
       "      <td>jerry.org101@gmail.com</td>\n",
       "      <td>傑瑞電子報第01期-3</td>\n",
       "      <td>2018-01-01 08:14:59</td>\n",
       "    </tr>\n",
       "    <tr>\n",
       "      <th>1</th>\n",
       "      <td>00000000606f8cfb0160af1258891bba</td>\n",
       "      <td>00000000609630da0160af09b8626299</td>\n",
       "      <td>804fdb3632b9c90532fb1abaa5945a8d869ca05b92e75a...</td>\n",
       "      <td>gmail.com</td>\n",
       "      <td>NaN</td>\n",
       "      <td>NaN</td>\n",
       "      <td>傑瑞老人安養中心</td>\n",
       "      <td>jerry.org101@gmail.com</td>\n",
       "      <td>傑瑞電子報第01期-3</td>\n",
       "      <td>2018-01-01 08:14:59</td>\n",
       "    </tr>\n",
       "    <tr>\n",
       "      <th>2</th>\n",
       "      <td>00000000606f8cfb0160af1258891bbb</td>\n",
       "      <td>00000000609630da0160af09b8626299</td>\n",
       "      <td>fa9ae8234796d6caf56919a79af59276f976e928bb65b5...</td>\n",
       "      <td>jerry.org.tw</td>\n",
       "      <td>Y</td>\n",
       "      <td>NaN</td>\n",
       "      <td>傑瑞老人安養中心</td>\n",
       "      <td>jerry.org101@gmail.com</td>\n",
       "      <td>傑瑞電子報第01期-3</td>\n",
       "      <td>2018-01-01 08:14:59</td>\n",
       "    </tr>\n",
       "    <tr>\n",
       "      <th>3</th>\n",
       "      <td>00000000606f8cfb0160af1258891bbc</td>\n",
       "      <td>00000000609630da0160af09b8626299</td>\n",
       "      <td>f58cab34ed3a0687423ecb6a22aba1a7cad758370428ea...</td>\n",
       "      <td>jerry.org.tw</td>\n",
       "      <td>NaN</td>\n",
       "      <td>NaN</td>\n",
       "      <td>傑瑞老人安養中心</td>\n",
       "      <td>jerry.org101@gmail.com</td>\n",
       "      <td>傑瑞電子報第01期-3</td>\n",
       "      <td>2018-01-01 08:14:59</td>\n",
       "    </tr>\n",
       "    <tr>\n",
       "      <th>4</th>\n",
       "      <td>00000000606f8cfb0160af1258891bbd</td>\n",
       "      <td>00000000609630da0160af09b8626299</td>\n",
       "      <td>cfeb0fe0bfb7d18f7a8c904ddeee0319e9f828eb1f2aff...</td>\n",
       "      <td>gmail.com</td>\n",
       "      <td>NaN</td>\n",
       "      <td>Y</td>\n",
       "      <td>傑瑞老人安養中心</td>\n",
       "      <td>jerry.org101@gmail.com</td>\n",
       "      <td>傑瑞電子報第01期-3</td>\n",
       "      <td>2018-01-01 08:14:59</td>\n",
       "    </tr>\n",
       "  </tbody>\n",
       "</table>\n",
       "</div>"
      ],
      "text/plain": [
       "                        recipientSn                        campaignSn  \\\n",
       "0  00000000606f8cfb0160af1258331bb9  00000000609630da0160af09b8626299   \n",
       "1  00000000606f8cfb0160af1258891bba  00000000609630da0160af09b8626299   \n",
       "2  00000000606f8cfb0160af1258891bbb  00000000609630da0160af09b8626299   \n",
       "3  00000000606f8cfb0160af1258891bbc  00000000609630da0160af09b8626299   \n",
       "4  00000000606f8cfb0160af1258891bbd  00000000609630da0160af09b8626299   \n",
       "\n",
       "                                         mailAddress        domain openedFlag  \\\n",
       "0  6a359cb4196db9a02c8d195b73f11374d65591365a37d8...   chwa.com.tw          Y   \n",
       "1  804fdb3632b9c90532fb1abaa5945a8d869ca05b92e75a...     gmail.com        NaN   \n",
       "2  fa9ae8234796d6caf56919a79af59276f976e928bb65b5...  jerry.org.tw          Y   \n",
       "3  f58cab34ed3a0687423ecb6a22aba1a7cad758370428ea...  jerry.org.tw        NaN   \n",
       "4  cfeb0fe0bfb7d18f7a8c904ddeee0319e9f828eb1f2aff...     gmail.com        NaN   \n",
       "\n",
       "  bouncedFlag  fromName          fromMailAddress      subject  \\\n",
       "0         NaN  傑瑞老人安養中心  jerry.org101@gmail.com   傑瑞電子報第01期-3   \n",
       "1         NaN  傑瑞老人安養中心  jerry.org101@gmail.com   傑瑞電子報第01期-3   \n",
       "2         NaN  傑瑞老人安養中心  jerry.org101@gmail.com   傑瑞電子報第01期-3   \n",
       "3         NaN  傑瑞老人安養中心  jerry.org101@gmail.com   傑瑞電子報第01期-3   \n",
       "4           Y  傑瑞老人安養中心  jerry.org101@gmail.com   傑瑞電子報第01期-3   \n",
       "\n",
       "        scheduledDate  \n",
       "0 2018-01-01 08:14:59  \n",
       "1 2018-01-01 08:14:59  \n",
       "2 2018-01-01 08:14:59  \n",
       "3 2018-01-01 08:14:59  \n",
       "4 2018-01-01 08:14:59  "
      ]
     },
     "execution_count": 4,
     "metadata": {},
     "output_type": "execute_result"
    }
   ],
   "source": [
    "df_all.head()"
   ]
  },
  {
   "cell_type": "markdown",
   "metadata": {},
   "source": [
    "# Weekday"
   ]
  },
  {
   "cell_type": "code",
   "execution_count": 5,
   "metadata": {},
   "outputs": [],
   "source": [
    "df_all_week = df_all[['openedFlag', 'scheduledDate']]"
   ]
  },
  {
   "cell_type": "code",
   "execution_count": 6,
   "metadata": {},
   "outputs": [
    {
     "name": "stderr",
     "output_type": "stream",
     "text": [
      "/opt/conda/lib/python3.6/site-packages/ipykernel_launcher.py:1: SettingWithCopyWarning: \n",
      "A value is trying to be set on a copy of a slice from a DataFrame.\n",
      "Try using .loc[row_indexer,col_indexer] = value instead\n",
      "\n",
      "See the caveats in the documentation: http://pandas.pydata.org/pandas-docs/stable/indexing.html#indexing-view-versus-copy\n",
      "  \"\"\"Entry point for launching an IPython kernel.\n"
     ]
    }
   ],
   "source": [
    "df_all_week['weekday'] = df_all_week['scheduledDate'].dt.weekday"
   ]
  },
  {
   "cell_type": "code",
   "execution_count": 7,
   "metadata": {},
   "outputs": [],
   "source": [
    "week_openrate = []\n",
    "for i in range(7):\n",
    "    week_openrate.append(len(df_all_week[(df_all_week['weekday'] == i) & (df_all_week['openedFlag'] == 'Y')]) / len(df_all_week[(df_all_week['weekday'] == i)]))"
   ]
  },
  {
   "cell_type": "code",
   "execution_count": 8,
   "metadata": {},
   "outputs": [
    {
     "data": {
      "image/png": "[encoded data removed]",
      "text/plain": [
       "<Figure size 432x288 with 1 Axes>"
      ]
     },
     "metadata": {
      "needs_background": "light"
     },
     "output_type": "display_data"
    }
   ],
   "source": [
    "plt.figure()\n",
    "plt.title(\"Weekday Openrate\")\n",
    "plt.bar(range(len(week_openrate)), week_openrate,\n",
    "       color=\"b\", align=\"center\")\n",
    "plt.xticks(range(len(week_openrate)), ['MON', 'TUE', 'WED', 'THU', 'FRI', 'SAT', 'SUN'])\n",
    "plt.show()"
   ]
  },
  {
   "cell_type": "code",
   "execution_count": 9,
   "metadata": {},
   "outputs": [],
   "source": [
    "week_count = []\n",
    "for i in range(7):\n",
    "    week_count.append(len(df_all_week[df_all_week['weekday'] == i]) / len(df_all_week))"
   ]
  },
  {
   "cell_type": "code",
   "execution_count": 10,
   "metadata": {},
   "outputs": [
    {
     "data": {
      "image/png": "[encoded data removed]",
      "text/plain": [
       "<Figure size 432x288 with 1 Axes>"
      ]
     },
     "metadata": {
      "needs_background": "light"
     },
     "output_type": "display_data"
    }
   ],
   "source": [
    "plt.figure()\n",
    "plt.title(\"Weekday count\")\n",
    "plt.bar(range(len(week_count)), week_count,\n",
    "       color=\"b\", align=\"center\")\n",
    "plt.xticks(range(len(week_count)), ['MON', 'TUE', 'WED', 'THU', 'FRI', 'SAT', 'SUN'])\n",
    "plt.show()"
   ]
  },
  {
   "cell_type": "markdown",
   "metadata": {},
   "source": [
    "# Hour"
   ]
  },
  {
   "cell_type": "code",
   "execution_count": 11,
   "metadata": {},
   "outputs": [],
   "source": [
    "df_all_hour = df_all[['openedFlag', 'scheduledDate']]"
   ]
  },
  {
   "cell_type": "code",
   "execution_count": 12,
   "metadata": {},
   "outputs": [
    {
     "name": "stderr",
     "output_type": "stream",
     "text": [
      "/opt/conda/lib/python3.6/site-packages/ipykernel_launcher.py:1: SettingWithCopyWarning: \n",
      "A value is trying to be set on a copy of a slice from a DataFrame.\n",
      "Try using .loc[row_indexer,col_indexer] = value instead\n",
      "\n",
      "See the caveats in the documentation: http://pandas.pydata.org/pandas-docs/stable/indexing.html#indexing-view-versus-copy\n",
      "  \"\"\"Entry point for launching an IPython kernel.\n"
     ]
    }
   ],
   "source": [
    "df_all_hour['hour'] = df_all_week['scheduledDate'].dt.hour"
   ]
  },
  {
   "cell_type": "code",
   "execution_count": 13,
   "metadata": {},
   "outputs": [
    {
     "data": {
      "text/plain": [
       "24"
      ]
     },
     "execution_count": 13,
     "metadata": {},
     "output_type": "execute_result"
    }
   ],
   "source": [
    "df_all_hour['hour'].nunique()"
   ]
  },
  {
   "cell_type": "code",
   "execution_count": 14,
   "metadata": {},
   "outputs": [],
   "source": [
    "hour_openrate = []\n",
    "for i in range(24):\n",
    "    hour_openrate.append(len(df_all_hour[(df_all_hour['hour'] == i) & (df_all_hour['openedFlag'] == 'Y')]) / len(df_all_hour[(df_all_hour['hour'] == i)]))"
   ]
  },
  {
   "cell_type": "code",
   "execution_count": 15,
   "metadata": {},
   "outputs": [
    {
     "data": {
      "image/png": "[encoded data removed]",
      "text/plain": [
       "<Figure size 432x288 with 1 Axes>"
      ]
     },
     "metadata": {
      "needs_background": "light"
     },
     "output_type": "display_data"
    }
   ],
   "source": [
    "plt.figure()\n",
    "plt.title(\"Hour Openrate\")\n",
    "plt.bar(range(len(hour_openrate)), hour_openrate,\n",
    "       color=\"b\", align=\"center\")\n",
    "plt.xticks(range(len(hour_openrate)), range(24))\n",
    "plt.show()"
   ]
  },
  {
   "cell_type": "code",
   "execution_count": 16,
   "metadata": {},
   "outputs": [],
   "source": [
    "hour_count = []\n",
    "for i in range(24):\n",
    "    hour_count.append(len(df_all_hour[df_all_hour['hour'] == i]) / len(df_all_hour))"
   ]
  },
  {
   "cell_type": "code",
   "execution_count": 17,
   "metadata": {},
   "outputs": [
    {
     "data": {
      "image/png": "[encoded data removed]",
      "text/plain": [
       "<Figure size 432x288 with 1 Axes>"
      ]
     },
     "metadata": {
      "needs_background": "light"
     },
     "output_type": "display_data"
    }
   ],
   "source": [
    "plt.figure()\n",
    "plt.title(\"Hour count\")\n",
    "plt.bar(range(len(hour_count)), hour_count,\n",
    "       color=\"b\", align=\"center\")\n",
    "plt.xticks(range(len(hour_count)), range(24))\n",
    "plt.show()"
   ]
  },
  {
   "cell_type": "markdown",
   "metadata": {},
   "source": [
    "# fromMail  "
   ]
  },
  {
   "cell_type": "code",
   "execution_count": 94,
   "metadata": {},
   "outputs": [],
   "source": [
    "df_all_from = df_all[['openedFlag', 'fromMailAddress']]"
   ]
  },
  {
   "cell_type": "code",
   "execution_count": 95,
   "metadata": {},
   "outputs": [
    {
     "name": "stderr",
     "output_type": "stream",
     "text": [
      "/opt/conda/lib/python3.6/site-packages/ipykernel_launcher.py:1: SettingWithCopyWarning: \n",
      "A value is trying to be set on a copy of a slice from a DataFrame.\n",
      "Try using .loc[row_indexer,col_indexer] = value instead\n",
      "\n",
      "See the caveats in the documentation: http://pandas.pydata.org/pandas-docs/stable/indexing.html#indexing-view-versus-copy\n",
      "  \"\"\"Entry point for launching an IPython kernel.\n"
     ]
    }
   ],
   "source": [
    "df_all_from['openedFlag'] = df_all_from['openedFlag'].fillna('N')"
   ]
  },
  {
   "cell_type": "code",
   "execution_count": 96,
   "metadata": {},
   "outputs": [],
   "source": [
    "fromMailAddress_list = df_all_from['fromMailAddress'].unique()"
   ]
  },
  {
   "cell_type": "code",
   "execution_count": 97,
   "metadata": {},
   "outputs": [
    {
     "data": {
      "text/plain": [
       "fromMailAddress            openedFlag\n",
       " biolasco@biolasco.com.tw  N              3257\n",
       "                           Y               876\n",
       " edm@pekoe.com.tw          N             64301\n",
       "                           Y              4394\n",
       " elleshop@allyoung.com.tw  N             21721\n",
       "                           Y               612\n",
       " fans@e-payless.com.tw     N              6119\n",
       "                           Y              2695\n",
       " leaderstock@gmail.com     N                97\n",
       "                           Y                 7\n",
       "Name: openedFlag, dtype: int64"
      ]
     },
     "execution_count": 97,
     "metadata": {},
     "output_type": "execute_result"
    }
   ],
   "source": [
    "frommail_count = df_all_from.groupby(['fromMailAddress', 'openedFlag'])['openedFlag'].count()\n",
    "frommail_count.head(10)"
   ]
  },
  {
   "cell_type": "markdown",
   "metadata": {},
   "source": [
    "### 去除只開或只不開"
   ]
  },
  {
   "cell_type": "code",
   "execution_count": 98,
   "metadata": {},
   "outputs": [],
   "source": [
    "a = list(frommail_count.index)"
   ]
  },
  {
   "cell_type": "code",
   "execution_count": 99,
   "metadata": {},
   "outputs": [],
   "source": [
    "count = {}\n",
    "for i in a:\n",
    "    if (i[0] in fromMailAddress_list) & (i[0] in count):\n",
    "        count[i[0]] += 1\n",
    "    elif (i[0] in fromMailAddress_list) & (i[0] not in count):\n",
    "        count[i[0]] = 1"
   ]
  },
  {
   "cell_type": "code",
   "execution_count": 100,
   "metadata": {},
   "outputs": [],
   "source": [
    "mail_only_no_yes = []\n",
    "for key, values in count.items():\n",
    "    if values == 1:\n",
    "        mail_only_no_yes.append(key)"
   ]
  },
  {
   "cell_type": "code",
   "execution_count": 101,
   "metadata": {},
   "outputs": [
    {
     "data": {
      "text/plain": [
       "435"
      ]
     },
     "execution_count": 101,
     "metadata": {},
     "output_type": "execute_result"
    }
   ],
   "source": [
    "len(mail_only_no_yes)"
   ]
  },
  {
   "cell_type": "code",
   "execution_count": 102,
   "metadata": {},
   "outputs": [],
   "source": [
    "df_all_from = df_all_from[~df_all_from['fromMailAddress'].isin(mail_only_no_yes)]"
   ]
  },
  {
   "cell_type": "code",
   "execution_count": 103,
   "metadata": {},
   "outputs": [
    {
     "data": {
      "text/html": [
       "<div>\n",
       "<style scoped>\n",
       "    .dataframe tbody tr th:only-of-type {\n",
       "        vertical-align: middle;\n",
       "    }\n",
       "\n",
       "    .dataframe tbody tr th {\n",
       "        vertical-align: top;\n",
       "    }\n",
       "\n",
       "    .dataframe thead th {\n",
       "        text-align: right;\n",
       "    }\n",
       "</style>\n",
       "<table border=\"1\" class=\"dataframe\">\n",
       "  <thead>\n",
       "    <tr style=\"text-align: right;\">\n",
       "      <th></th>\n",
       "      <th>openedFlag</th>\n",
       "      <th>fromMailAddress</th>\n",
       "    </tr>\n",
       "  </thead>\n",
       "  <tbody>\n",
       "    <tr>\n",
       "      <th>0</th>\n",
       "      <td>Y</td>\n",
       "      <td>jerry.org101@gmail.com</td>\n",
       "    </tr>\n",
       "    <tr>\n",
       "      <th>1</th>\n",
       "      <td>N</td>\n",
       "      <td>jerry.org101@gmail.com</td>\n",
       "    </tr>\n",
       "    <tr>\n",
       "      <th>2</th>\n",
       "      <td>Y</td>\n",
       "      <td>jerry.org101@gmail.com</td>\n",
       "    </tr>\n",
       "    <tr>\n",
       "      <th>3</th>\n",
       "      <td>N</td>\n",
       "      <td>jerry.org101@gmail.com</td>\n",
       "    </tr>\n",
       "    <tr>\n",
       "      <th>4</th>\n",
       "      <td>N</td>\n",
       "      <td>jerry.org101@gmail.com</td>\n",
       "    </tr>\n",
       "  </tbody>\n",
       "</table>\n",
       "</div>"
      ],
      "text/plain": [
       "  openedFlag          fromMailAddress\n",
       "0          Y  jerry.org101@gmail.com \n",
       "1          N  jerry.org101@gmail.com \n",
       "2          Y  jerry.org101@gmail.com \n",
       "3          N  jerry.org101@gmail.com \n",
       "4          N  jerry.org101@gmail.com "
      ]
     },
     "execution_count": 103,
     "metadata": {},
     "output_type": "execute_result"
    }
   ],
   "source": [
    "df_all_from.head()"
   ]
  },
  {
   "cell_type": "code",
   "execution_count": 104,
   "metadata": {},
   "outputs": [
    {
     "data": {
      "text/plain": [
       "fromMailAddress            openedFlag\n",
       " biolasco@biolasco.com.tw  N              3257\n",
       "                           Y               876\n",
       " edm@pekoe.com.tw          N             64301\n",
       "                           Y              4394\n",
       " elleshop@allyoung.com.tw  N             21721\n",
       "                           Y               612\n",
       " fans@e-payless.com.tw     N              6119\n",
       "                           Y              2695\n",
       " leaderstock@gmail.com     N                97\n",
       "                           Y                 7\n",
       "Name: openedFlag, dtype: int64"
      ]
     },
     "execution_count": 104,
     "metadata": {},
     "output_type": "execute_result"
    }
   ],
   "source": [
    "frommail_count = df_all_from.groupby(['fromMailAddress', 'openedFlag'])['openedFlag'].count()\n",
    "frommail_count.head(10)"
   ]
  },
  {
   "cell_type": "code",
   "execution_count": 107,
   "metadata": {},
   "outputs": [],
   "source": [
    "import numpy as np\n",
    "\n",
    "not_open = np.array(frommail_count[0:][::2])\n",
    "do_open = np.array(frommail_count[1:][::2])\n",
    "from_open_rate = do_open / (do_open + not_open)"
   ]
  },
  {
   "cell_type": "code",
   "execution_count": 110,
   "metadata": {},
   "outputs": [
    {
     "data": {
      "text/plain": [
       "Text(0.5,1,'Sender Openrate')"
      ]
     },
     "execution_count": 110,
     "metadata": {},
     "output_type": "execute_result"
    },
    {
     "data": {
      "image/png": "[encoded data removed]",
      "text/plain": [
       "<Figure size 432x288 with 1 Axes>"
      ]
     },
     "metadata": {
      "needs_background": "light"
     },
     "output_type": "display_data"
    }
   ],
   "source": [
    "plt.hist(from_open_rate)\n",
    "plt.title('Sender Openrate')"
   ]
  },
  {
   "cell_type": "markdown",
   "metadata": {},
   "source": [
    "# mailAddress"
   ]
  },
  {
   "cell_type": "code",
   "execution_count": 116,
   "metadata": {},
   "outputs": [],
   "source": [
    "df_all_get = df_all[['openedFlag', 'mailAddress']]"
   ]
  },
  {
   "cell_type": "code",
   "execution_count": 117,
   "metadata": {},
   "outputs": [],
   "source": [
    "getMailAddress_list = df_all_get['mailAddress'].unique()"
   ]
  },
  {
   "cell_type": "code",
   "execution_count": 118,
   "metadata": {},
   "outputs": [
    {
     "data": {
      "text/plain": [
       "12550226"
      ]
     },
     "execution_count": 118,
     "metadata": {},
     "output_type": "execute_result"
    }
   ],
   "source": [
    "len(getMailAddress_list)"
   ]
  },
  {
   "cell_type": "code",
   "execution_count": 120,
   "metadata": {},
   "outputs": [
    {
     "data": {
      "text/plain": [
       "mailAddress                                                                                                                       openedFlag\n",
       "00000a0691945a6a43f307d3ec66ddeacfd70865b8772e5f3a0bff8f05a91f226cd30bf4b8a4723eeb77cce2f3244cb9900ee1851f0a45d9d2f64d8a0130040d  Y             12\n",
       "00000e413d7802c6dfd228c2069d86b3ff911558c4c00a95ad73fcb6134eeeed33e0dad25f8ccc45ef8163f93052d087b4eb2befd0ae83163efbb14bc6a7266f  Y              1\n",
       "000014d700493267a0dbc1cf5ce1e359ecf74c12652d43c812f7ceb59c4194d270f577e4a3772c2810a403ed970184fa6f46b314255fa4173f885db568f97bdc  Y              2\n",
       "0000216c95b00715b577475e5b2d74f44fa881ca97f32f927b8879c7d2d6f08019d7212ccebc140f363714b39ae22030eeb31867939b35d897cdd430cae7c00a  Y              1\n",
       "000022275fdbbe95981a6e55a104c0fe0d7de3385a8951ee3186776b318c88a09828c3fb1917f41ac346e76c0acb740a0700c4b33d487c4e6dd18bd83f634a3c  Y              6\n",
       "000023f7cd0f2daae315c6b265116b5ec9344d686e250c858febf24f051cefb598e71971a601b2749bbf657ce8ab8cf1f2d9e3d7874f9ada4123098ffb6bce8d  Y              1\n",
       "000025ffece0f180885d99ea06d983a39481a9f318057a6ba641678a7e81839a305f8358f15cbd6bf107d525c1ba45c4df5a0ed9617d91bf9cd50fb32f94cc77  Y              1\n",
       "00002af862bea241f3c6850aff9ad2fbb2c69de31c685c210beb6d05d0dbfd60b74bbd31a117cd24302b31053a45394793ac8f225f25b204e8f90e5c20268692  Y              1\n",
       "00002ed5a0237673d7cdedc99ccac51895e0a9474ba11d820f84dcc00ff3920ce68f4fc75424bdfaa13805ea31c843144635223bbc24fbe1a78bcecb9e2da1ca  Y              1\n",
       "000034b3e3c2a5297edb4aa59cba8fdef00bef5c5c667a8c17df3195f42dfbca64df80ca43f646fd53fd47648a34fc96287978c647b3a2ce5b71068a645e5624  Y              1\n",
       "Name: openedFlag, dtype: int64"
      ]
     },
     "execution_count": 120,
     "metadata": {},
     "output_type": "execute_result"
    }
   ],
   "source": [
    "getmail_count = df_all_get.groupby(['mailAddress', 'openedFlag'])['openedFlag'].count()\n",
    "getmail_count.head(10)"
   ]
  }
 ],
 "metadata": {
  "kernelspec": {
   "display_name": "Python 3",
   "language": "python",
   "name": "python3"
  },
  "language_info": {
   "codemirror_mode": {
    "name": "ipython",
    "version": 3
   },
   "file_extension": ".py",
   "mimetype": "text/x-python",
   "name": "python",
   "nbconvert_exporter": "python",
   "pygments_lexer": "ipython3",
   "version": "3.6.6"
  }
 },
 "nbformat": 4,
 "nbformat_minor": 2
}
