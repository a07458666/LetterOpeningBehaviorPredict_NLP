{
 "cells": [
  {
   "cell_type": "code",
   "execution_count": 1,
   "metadata": {},
   "outputs": [
    {
     "name": "stderr",
     "output_type": "stream",
     "text": [
      "/opt/conda/lib/python3.6/site-packages/h5py/__init__.py:36: FutureWarning: Conversion of the second argument of issubdtype from `float` to `np.floating` is deprecated. In future, it will be treated as `np.float64 == np.dtype(float).type`.\n",
      "  from ._conv import register_converters as _register_converters\n"
     ]
    }
   ],
   "source": [
    "import numpy as np\n",
    "import tensorflow as tf\n",
    "import pandas as pd\n",
    "import seaborn as sns\n",
    "import matplotlib.pyplot as plt\n",
    "import re\n",
    "import os\n",
    "import pickle\n",
    "import numpy as np\n",
    "from sklearn import preprocessing\n",
    "from tqdm import tqdm_notebook\n",
    "from scipy.stats import skew\n",
    "from sklearn.metrics import f1_score\n",
    "plt.style.use([\"dark_background\"])\n",
    "%matplotlib inline\n"
   ]
  },
  {
   "cell_type": "code",
   "execution_count": 2,
   "metadata": {},
   "outputs": [
    {
     "data": {
      "text/plain": [
       "'/project/at082-group17'"
      ]
     },
     "execution_count": 2,
     "metadata": {},
     "output_type": "execute_result"
    }
   ],
   "source": [
    "os.chdir(\"../\")\n",
    "os.getcwd()"
   ]
  },
  {
   "cell_type": "markdown",
   "metadata": {},
   "source": [
    "### Loading dataset"
   ]
  },
  {
   "cell_type": "code",
   "execution_count": 3,
   "metadata": {},
   "outputs": [
    {
     "name": "stdout",
     "output_type": "stream",
     "text": [
      "data count 33897460\n"
     ]
    }
   ],
   "source": [
    "## load 'data'\n",
    "dataNameList = ['201801', '201802', '201803' ,'201804']\n",
    "dataCount = []\n",
    "df_all = pd.DataFrame()\n",
    "for name in dataNameList:\n",
    "    with open('data/pickle/' + name + '.p', \"rb\") as file:\n",
    "        loadData = pickle.load(file)\n",
    "        dataCount.append(len(loadData.index))\n",
    "        df_all = pd.concat((df_all, loadData), axis = 0, ignore_index = False)\n",
    "print('data count ' + str(len(df_all.index)))"
   ]
  },
  {
   "cell_type": "markdown",
   "metadata": {},
   "source": [
    "## 取得收信量"
   ]
  },
  {
   "cell_type": "code",
   "execution_count": 4,
   "metadata": {},
   "outputs": [],
   "source": [
    "df_temp = df_all[[\"recipientSn\", \"mailAddress\"]].groupby(\"mailAddress\").count().reset_index()\n",
    "\n",
    "df_temp.columns = [\"mailAddress\", \"mailAddress_count\"]\n",
    "df_temp = df_temp.sort_values(by=['mailAddress_count'], ascending = False).reset_index()\n",
    "\n",
    "#df_all = df_all.merge(df_temp, how=\"left\", on=\"mailAddress\")"
   ]
  },
  {
   "cell_type": "code",
   "execution_count": 5,
   "metadata": {},
   "outputs": [
    {
     "data": {
      "text/plain": [
       "['70a0b4aface445d4c01fcda547e15043d5b0a97f74e20117aab3168a7aa76b7e146f15d46b48a3b4a7dd60fcd154c7fb42b61a84ac1136a816800e3afba9c481',\n",
       " '661c3a87c3182435a34df88a525014528ad7808ac2487b4af0a060f57c86323b126e8459b1fda29e5a94d3ea663cbb1b53411068ac2ffe25daff061b90e9a3eb',\n",
       " 'f19e420d5f2dd884d3242d4ff352d598057bee7878e7f09ee72e0ff35952de2d64d40a7684b67eb8936bcac4e69b5b41efba75a2ebd9eeef76525c31cfb50abe',\n",
       " '63b80e02df1855786309304e8bf243e25080fc03e4cf6384f37eb624bce563a8785a83d2359c92fc3181ad38f8bb818a013e1eae219d8ef43256dbeb5656ae42',\n",
       " 'bda88f56fd104ee2d99b73bbab4e4a007801d23ccfd8b1e166f3d314731044d533712f3e23764f163ad3928e61a4f137570b89126920b7f88978a97d7281d9d7',\n",
       " 'f8b226279193bdfea949b4e6d603a2d4f6e9dcf1d6a734bf5e329fc0ce7ceebdb6348a95b08bedc4b40dc6aec1d81f6ff00902bb5d9f6ed07e0b258d436c46fb',\n",
       " '305d859a70c6238e891921db50b97cc5acd04879e4c0e89621db190cce312abdaccbcd0b12add7abc57a11695b9b6edad3a59f2696b67b528a1e058ebe8e3ddb',\n",
       " 'd22883701224a5debd82d5274c37976618058a1b159088bf0d7649b9bcf322618157852b8ce6847ba157402f967a3667f1e31f5415b55a9e885e49563214ee9d',\n",
       " '305a7ccfb01da8ec97d671bb53305e339c3ce16449cefe9ec696bc8970151ed64ef871483e713e60dffc8326889fe48473b8e70540fcec73c263fdd9fffeec40',\n",
       " 'fed6881c2fe3f15d6d161f1025fb95f7aff4ed9d872b5794b1f8719f937c753b3e4b3f5ca53f3e6628305acccc8d4fb1ad83c4e5c97615dd3942d39666c61210']"
      ]
     },
     "execution_count": 5,
     "metadata": {},
     "output_type": "execute_result"
    }
   ],
   "source": [
    "traget = []\n",
    "for i in range(10):\n",
    "    traget.append(df_temp['mailAddress'][i])\n",
    "traget"
   ]
  },
  {
   "cell_type": "code",
   "execution_count": 40,
   "metadata": {},
   "outputs": [
    {
     "data": {
      "text/html": [
       "<div>\n",
       "<style scoped>\n",
       "    .dataframe tbody tr th:only-of-type {\n",
       "        vertical-align: middle;\n",
       "    }\n",
       "\n",
       "    .dataframe tbody tr th {\n",
       "        vertical-align: top;\n",
       "    }\n",
       "\n",
       "    .dataframe thead th {\n",
       "        text-align: right;\n",
       "    }\n",
       "</style>\n",
       "<table border=\"1\" class=\"dataframe\">\n",
       "  <thead>\n",
       "    <tr style=\"text-align: right;\">\n",
       "      <th></th>\n",
       "      <th>recipientSn</th>\n",
       "      <th>campaignSn</th>\n",
       "      <th>mailAddress</th>\n",
       "      <th>domain</th>\n",
       "      <th>openedFlag</th>\n",
       "      <th>fromMailAddress</th>\n",
       "      <th>scheduledDate</th>\n",
       "      <th>domain_count</th>\n",
       "      <th>dayofweek</th>\n",
       "      <th>time</th>\n",
       "    </tr>\n",
       "  </thead>\n",
       "  <tbody>\n",
       "    <tr>\n",
       "      <th>73366</th>\n",
       "      <td>00000000606f8cfb0160b3ae47bc51fd</td>\n",
       "      <td>00000000609630da0160a18969936daf</td>\n",
       "      <td>661c3a87c3182435a34df88a525014528ad7808ac2487b...</td>\n",
       "      <td>gmail.com</td>\n",
       "      <td>False</td>\n",
       "      <td>event@brain.com.tw</td>\n",
       "      <td>2018-01-02 05:43:00</td>\n",
       "      <td>2943558</td>\n",
       "      <td>1</td>\n",
       "      <td>0.074108</td>\n",
       "    </tr>\n",
       "    <tr>\n",
       "      <th>134955</th>\n",
       "      <td>00000000606f8cfb0160b4612c5a603d</td>\n",
       "      <td>00000000609630da0160a1cb646933d9</td>\n",
       "      <td>661c3a87c3182435a34df88a525014528ad7808ac2487b...</td>\n",
       "      <td>gmail.com</td>\n",
       "      <td>False</td>\n",
       "      <td>askme@brain.com.tw</td>\n",
       "      <td>2018-01-02 08:58:23</td>\n",
       "      <td>2943558</td>\n",
       "      <td>1</td>\n",
       "      <td>-0.702101</td>\n",
       "    </tr>\n",
       "    <tr>\n",
       "      <th>149753</th>\n",
       "      <td>00000000606f8cfb0160b462658f367a</td>\n",
       "      <td>00000000609630da0160a19457007463</td>\n",
       "      <td>661c3a87c3182435a34df88a525014528ad7808ac2487b...</td>\n",
       "      <td>gmail.com</td>\n",
       "      <td>False</td>\n",
       "      <td>lecture@brain.com.tw</td>\n",
       "      <td>2018-01-02 09:00:00</td>\n",
       "      <td>2943558</td>\n",
       "      <td>1</td>\n",
       "      <td>-0.707107</td>\n",
       "    </tr>\n",
       "    <tr>\n",
       "      <th>209730</th>\n",
       "      <td>00000000606f8cfb0160b4d08bd12fb9</td>\n",
       "      <td>00000000609630da0160a11e2e416bd2</td>\n",
       "      <td>661c3a87c3182435a34df88a525014528ad7808ac2487b...</td>\n",
       "      <td>gmail.com</td>\n",
       "      <td>True</td>\n",
       "      <td>ivy@wemoscooter.com</td>\n",
       "      <td>2018-01-02 11:00:00</td>\n",
       "      <td>2943558</td>\n",
       "      <td>1</td>\n",
       "      <td>-0.965926</td>\n",
       "    </tr>\n",
       "    <tr>\n",
       "      <th>419326</th>\n",
       "      <td>00000000606f8cfb0160b8ad59e27d92</td>\n",
       "      <td>00000000609630da0160b5f95ade25e2</td>\n",
       "      <td>661c3a87c3182435a34df88a525014528ad7808ac2487b...</td>\n",
       "      <td>gmail.com</td>\n",
       "      <td>False</td>\n",
       "      <td>askme@brain.com.tw</td>\n",
       "      <td>2018-01-03 05:00:00</td>\n",
       "      <td>2943558</td>\n",
       "      <td>2</td>\n",
       "      <td>0.258819</td>\n",
       "    </tr>\n",
       "  </tbody>\n",
       "</table>\n",
       "</div>"
      ],
      "text/plain": [
       "                             recipientSn                        campaignSn  \\\n",
       "73366   00000000606f8cfb0160b3ae47bc51fd  00000000609630da0160a18969936daf   \n",
       "134955  00000000606f8cfb0160b4612c5a603d  00000000609630da0160a1cb646933d9   \n",
       "149753  00000000606f8cfb0160b462658f367a  00000000609630da0160a19457007463   \n",
       "209730  00000000606f8cfb0160b4d08bd12fb9  00000000609630da0160a11e2e416bd2   \n",
       "419326  00000000606f8cfb0160b8ad59e27d92  00000000609630da0160b5f95ade25e2   \n",
       "\n",
       "                                              mailAddress     domain  \\\n",
       "73366   661c3a87c3182435a34df88a525014528ad7808ac2487b...  gmail.com   \n",
       "134955  661c3a87c3182435a34df88a525014528ad7808ac2487b...  gmail.com   \n",
       "149753  661c3a87c3182435a34df88a525014528ad7808ac2487b...  gmail.com   \n",
       "209730  661c3a87c3182435a34df88a525014528ad7808ac2487b...  gmail.com   \n",
       "419326  661c3a87c3182435a34df88a525014528ad7808ac2487b...  gmail.com   \n",
       "\n",
       "        openedFlag       fromMailAddress       scheduledDate  domain_count  \\\n",
       "73366        False    event@brain.com.tw 2018-01-02 05:43:00       2943558   \n",
       "134955       False    askme@brain.com.tw 2018-01-02 08:58:23       2943558   \n",
       "149753       False  lecture@brain.com.tw 2018-01-02 09:00:00       2943558   \n",
       "209730        True   ivy@wemoscooter.com 2018-01-02 11:00:00       2943558   \n",
       "419326       False    askme@brain.com.tw 2018-01-03 05:00:00       2943558   \n",
       "\n",
       "        dayofweek      time  \n",
       "73366           1  0.074108  \n",
       "134955          1 -0.702101  \n",
       "149753          1 -0.707107  \n",
       "209730          1 -0.965926  \n",
       "419326          2  0.258819  "
      ]
     },
     "execution_count": 40,
     "metadata": {},
     "output_type": "execute_result"
    }
   ],
   "source": [
    "df_t1 = df_all[df_all['mailAddress'] == traget[1]]\n",
    "df_t1.head(5)"
   ]
  },
  {
   "cell_type": "code",
   "execution_count": 41,
   "metadata": {},
   "outputs": [],
   "source": [
    "## save data as pickle format\n",
    "with open('data/pickle/' + 'df_t1' + '.p', \"wb\") as file:\n",
    "    pickle.dump(df_t1, file)"
   ]
  },
  {
   "cell_type": "markdown",
   "metadata": {},
   "source": [
    "## Standardization\n",
    "正規化 將數值轉為[0,1] or [-1,1] <br>\n",
    "只對數值類型的做"
   ]
  },
  {
   "cell_type": "code",
   "execution_count": 26,
   "metadata": {},
   "outputs": [
    {
     "name": "stderr",
     "output_type": "stream",
     "text": [
      "/opt/conda/lib/python3.6/site-packages/ipykernel_launcher.py:3: SettingWithCopyWarning: \n",
      "A value is trying to be set on a copy of a slice from a DataFrame.\n",
      "Try using .loc[row_indexer,col_indexer] = value instead\n",
      "\n",
      "See the caveats in the documentation: http://pandas.pydata.org/pandas-docs/stable/indexing.html#indexing-view-versus-copy\n",
      "  This is separate from the ipykernel package so we can avoid doing imports until\n",
      "/opt/conda/lib/python3.6/site-packages/ipykernel_launcher.py:4: SettingWithCopyWarning: \n",
      "A value is trying to be set on a copy of a slice from a DataFrame.\n",
      "Try using .loc[row_indexer,col_indexer] = value instead\n",
      "\n",
      "See the caveats in the documentation: http://pandas.pydata.org/pandas-docs/stable/indexing.html#indexing-view-versus-copy\n",
      "  after removing the cwd from sys.path.\n"
     ]
    },
    {
     "data": {
      "text/html": [
       "<div>\n",
       "<style scoped>\n",
       "    .dataframe tbody tr th:only-of-type {\n",
       "        vertical-align: middle;\n",
       "    }\n",
       "\n",
       "    .dataframe tbody tr th {\n",
       "        vertical-align: top;\n",
       "    }\n",
       "\n",
       "    .dataframe thead th {\n",
       "        text-align: right;\n",
       "    }\n",
       "</style>\n",
       "<table border=\"1\" class=\"dataframe\">\n",
       "  <thead>\n",
       "    <tr style=\"text-align: right;\">\n",
       "      <th></th>\n",
       "      <th>openedFlag</th>\n",
       "      <th>dayofweek</th>\n",
       "      <th>time</th>\n",
       "    </tr>\n",
       "  </thead>\n",
       "  <tbody>\n",
       "    <tr>\n",
       "      <th>73366</th>\n",
       "      <td>False</td>\n",
       "      <td>1</td>\n",
       "      <td>0.644622</td>\n",
       "    </tr>\n",
       "    <tr>\n",
       "      <th>134955</th>\n",
       "      <td>False</td>\n",
       "      <td>1</td>\n",
       "      <td>-0.744149</td>\n",
       "    </tr>\n",
       "    <tr>\n",
       "      <th>149753</th>\n",
       "      <td>False</td>\n",
       "      <td>1</td>\n",
       "      <td>-0.753105</td>\n",
       "    </tr>\n",
       "    <tr>\n",
       "      <th>209730</th>\n",
       "      <td>True</td>\n",
       "      <td>1</td>\n",
       "      <td>-1.216176</td>\n",
       "    </tr>\n",
       "    <tr>\n",
       "      <th>419326</th>\n",
       "      <td>False</td>\n",
       "      <td>2</td>\n",
       "      <td>0.975101</td>\n",
       "    </tr>\n",
       "  </tbody>\n",
       "</table>\n",
       "</div>"
      ],
      "text/plain": [
       "        openedFlag dayofweek      time\n",
       "73366        False         1  0.644622\n",
       "134955       False         1 -0.744149\n",
       "149753       False         1 -0.753105\n",
       "209730        True         1 -1.216176\n",
       "419326       False         2  0.975101"
      ]
     },
     "execution_count": 26,
     "metadata": {},
     "output_type": "execute_result"
    }
   ],
   "source": [
    "trainCount = df_t1[df_t1['scheduledDate'].apply(lambda x :x.month) <= 3].count()\n",
    "trainCount = trainCount[0]\n",
    "df_t1[ 'time' ] = preprocessing.scale( df_t1[ 'time'] ,with_mean=True,with_std=True)\n",
    "df_t1['dayofweek'] = df_t1['dayofweek'].astype( str )\n",
    "df_t1 = df_t1.drop(['domain','recipientSn', 'campaignSn', 'mailAddress', 'fromMailAddress', 'scheduledDate', 'domain_count'], axis = 1)\n",
    "X = df_t1.drop(['openedFlag'], axis = 1)\n",
    "y = df_t1[ 'openedFlag' ]\n",
    "\n",
    "x_train = X[:trainCount]\n",
    "y_train = y[:trainCount]\n",
    "x_test = X[trainCount:]\n",
    "y_test = y[trainCount:]\n",
    "df_t1.head()"
   ]
  },
  {
   "cell_type": "markdown",
   "metadata": {},
   "source": [
    "### Build model"
   ]
  },
  {
   "cell_type": "code",
   "execution_count": 27,
   "metadata": {},
   "outputs": [],
   "source": [
    "import tensorflow as tf\n",
    "from tensorflow.keras.preprocessing import sequence\n",
    "from tensorflow.keras.models import Sequential\n",
    "from tensorflow.keras.layers import Dense, Embedding, LSTM"
   ]
  },
  {
   "cell_type": "code",
   "execution_count": 28,
   "metadata": {},
   "outputs": [
    {
     "name": "stdout",
     "output_type": "stream",
     "text": [
      "_________________________________________________________________\n",
      "Layer (type)                 Output Shape              Param #   \n",
      "=================================================================\n",
      "embedding_1 (Embedding)      (None, None, 128)         1280000   \n",
      "_________________________________________________________________\n",
      "lstm_1 (LSTM)                (None, 150)               167400    \n",
      "_________________________________________________________________\n",
      "dense_1 (Dense)              (None, 1)                 151       \n",
      "=================================================================\n",
      "Total params: 1,447,551\n",
      "Trainable params: 1,447,551\n",
      "Non-trainable params: 0\n",
      "_________________________________________________________________\n"
     ]
    }
   ],
   "source": [
    "model = Sequential()\n",
    "model.add(Embedding(10000, 128))\n",
    "model.add(LSTM(150))\n",
    "model.add(Dense(1, activation = 'sigmoid'))\n",
    "model.summary()"
   ]
  },
  {
   "cell_type": "code",
   "execution_count": 29,
   "metadata": {},
   "outputs": [],
   "source": [
    "model.compile(loss = 'binary_crossentropy',\n",
    "              optimizer = 'adam',\n",
    "              metrics = ['accuracy'])"
   ]
  },
  {
   "cell_type": "code",
   "execution_count": 30,
   "metadata": {},
   "outputs": [
    {
     "name": "stderr",
     "output_type": "stream",
     "text": [
      "/opt/conda/lib/python3.6/site-packages/tensorflow/python/ops/gradients_impl.py:108: UserWarning: Converting sparse IndexedSlices to a dense Tensor of unknown shape. This may consume a large amount of memory.\n",
      "  \"Converting sparse IndexedSlices to a dense Tensor of unknown shape. \"\n",
      "/opt/conda/lib/python3.6/site-packages/tensorflow/python/ops/gradients_impl.py:108: UserWarning: Converting sparse IndexedSlices to a dense Tensor of unknown shape. This may consume a large amount of memory.\n",
      "  \"Converting sparse IndexedSlices to a dense Tensor of unknown shape. \"\n"
     ]
    },
    {
     "name": "stdout",
     "output_type": "stream",
     "text": [
      "Epoch 1/10\n",
      "214/214 [==============================] - 1s 4ms/step - loss: 0.6543 - acc: 0.6215\n",
      "Epoch 2/10\n",
      "214/214 [==============================] - 0s 206us/step - loss: 0.6571 - acc: 0.6449\n",
      "Epoch 3/10\n",
      "214/214 [==============================] - 0s 199us/step - loss: 0.6462 - acc: 0.6449\n",
      "Epoch 4/10\n",
      "214/214 [==============================] - 0s 188us/step - loss: 0.6391 - acc: 0.6449\n",
      "Epoch 5/10\n",
      "214/214 [==============================] - 0s 200us/step - loss: 0.6354 - acc: 0.6449\n",
      "Epoch 6/10\n",
      "214/214 [==============================] - 0s 219us/step - loss: 0.6364 - acc: 0.6589\n",
      "Epoch 7/10\n",
      "214/214 [==============================] - 0s 226us/step - loss: 0.6316 - acc: 0.6869\n",
      "Epoch 8/10\n",
      "214/214 [==============================] - 0s 192us/step - loss: 0.6290 - acc: 0.6869\n",
      "Epoch 9/10\n",
      "214/214 [==============================] - 0s 192us/step - loss: 0.6276 - acc: 0.6869\n",
      "Epoch 10/10\n",
      "214/214 [==============================] - 0s 201us/step - loss: 0.6292 - acc: 0.6869\n"
     ]
    },
    {
     "data": {
      "text/plain": [
       "<tensorflow.python.keras.callbacks.History at 0x7f17052970f0>"
      ]
     },
     "execution_count": 30,
     "metadata": {},
     "output_type": "execute_result"
    }
   ],
   "source": [
    "model.fit(x_train, y_train, batch_size = 32, epochs = 10)"
   ]
  },
  {
   "cell_type": "code",
   "execution_count": 31,
   "metadata": {},
   "outputs": [
    {
     "name": "stdout",
     "output_type": "stream",
     "text": [
      "77/77 [==============================] - 0s 2ms/step\n"
     ]
    }
   ],
   "source": [
    "score = model.evaluate(x_test, y_test)"
   ]
  },
  {
   "cell_type": "code",
   "execution_count": 32,
   "metadata": {},
   "outputs": [
    {
     "data": {
      "text/plain": [
       "[0.6213557263473412, 0.7012987051691327]"
      ]
     },
     "execution_count": 32,
     "metadata": {},
     "output_type": "execute_result"
    }
   ],
   "source": [
    "score"
   ]
  },
  {
   "cell_type": "code",
   "execution_count": 33,
   "metadata": {},
   "outputs": [],
   "source": [
    "from sklearn.ensemble import RandomForestClassifier\n",
    "from sklearn.metrics import accuracy_score\n",
    "from sklearn.metrics import f1_score\n",
    "from sklearn.metrics import recall_score"
   ]
  },
  {
   "cell_type": "code",
   "execution_count": 38,
   "metadata": {},
   "outputs": [
    {
     "name": "stdout",
     "output_type": "stream",
     "text": [
      "acc = 0.36363636363636365\n",
      "recall = 1.0\n",
      "f1 = 0.5333333333333333\n"
     ]
    }
   ],
   "source": [
    "threshold_LSTM = 0.1\n",
    "\n",
    "y_pred_proba_LSTM = model.predict_proba(x_test)\n",
    "y_pred_LSTM = (y_pred_proba_LSTM >= threshold_LSTM).astype('int')\n",
    "print(\"acc = \" + str(accuracy_score(y_test, y_pred_LSTM)))\n",
    "print(\"recall = \" + str(recall_score(y_test, y_pred_LSTM)))\n",
    "print(\"f1 = \" + str(f1_score(y_test, y_pred_LSTM)))"
   ]
  },
  {
   "cell_type": "code",
   "execution_count": 30,
   "metadata": {},
   "outputs": [
    {
     "name": "stdout",
     "output_type": "stream",
     "text": [
      "測試資料的 loss: 0.37745190639885107\n",
      "測試資料的正確率: 0.8673469387755102\n"
     ]
    }
   ],
   "source": [
    "print('測試資料的 loss:', score[0])\n",
    "print('測試資料的正確率:', score[1])"
   ]
  }
 ],
 "metadata": {
  "kernelspec": {
   "display_name": "Python 3",
   "language": "python",
   "name": "python3"
  },
  "language_info": {
   "codemirror_mode": {
    "name": "ipython",
    "version": 3
   },
   "file_extension": ".py",
   "mimetype": "text/x-python",
   "name": "python",
   "nbconvert_exporter": "python",
   "pygments_lexer": "ipython3",
   "version": "3.6.6"
  }
 },
 "nbformat": 4,
 "nbformat_minor": 2
}
