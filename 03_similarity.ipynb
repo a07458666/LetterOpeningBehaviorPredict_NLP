{
 "cells": [
  {
   "cell_type": "markdown",
   "metadata": {},
   "source": [
    "# 內文相似度檢測"
   ]
  },
  {
   "cell_type": "code",
   "execution_count": 1,
   "metadata": {},
   "outputs": [
    {
     "data": {
      "text/plain": [
       "'/project/at082-group17'"
      ]
     },
     "execution_count": 1,
     "metadata": {},
     "output_type": "execute_result"
    }
   ],
   "source": [
    "from gensim.models import word2vec\n",
    "from gensim.models import Doc2Vec, doc2vec\n",
    "from sklearn.cluster import KMeans\n",
    "import pickle\n",
    "import numpy as np\n",
    "import pandas as pd\n",
    "import os\n",
    "\n",
    "## turn back to main directory\n",
    "os.chdir(\"../\")\n",
    "os.getcwd()"
   ]
  },
  {
   "cell_type": "code",
   "execution_count": 2,
   "metadata": {},
   "outputs": [],
   "source": [
    "model = doc2vec.Doc2Vec.load('AT082_17_Leopard_Read/model/doc2vec')"
   ]
  },
  {
   "cell_type": "code",
   "execution_count": 3,
   "metadata": {},
   "outputs": [],
   "source": [
    "mail = pd.read_csv('data/mail_preprocessed.csv')"
   ]
  },
  {
   "cell_type": "code",
   "execution_count": 4,
   "metadata": {},
   "outputs": [
    {
     "name": "stdout",
     "output_type": "stream",
     "text": [
      "禾宸生醫國際有限公司  台灣原生 山芙蓉 修護保濕霜 立即體驗用品申請 \n"
     ]
    }
   ],
   "source": [
    "#mail.head()\n",
    "print(mail['content'][5])"
   ]
  },
  {
   "cell_type": "code",
   "execution_count": 5,
   "metadata": {},
   "outputs": [],
   "source": [
    "## load 'article_cutted'\n",
    "with open('data/mail_cutted', 'rb') as file:\n",
    "    cut_data = pickle.load(file)"
   ]
  },
  {
   "cell_type": "code",
   "execution_count": 6,
   "metadata": {},
   "outputs": [],
   "source": [
    "## create a document id map\n",
    "sentence_list = []\n",
    "\n",
    "for i, l in enumerate(cut_data):\n",
    "    sentence_list.append(doc2vec.LabeledSentence(words=l, tags=[str(i)]))"
   ]
  },
  {
   "cell_type": "code",
   "execution_count": 11,
   "metadata": {},
   "outputs": [
    {
     "data": {
      "text/plain": [
       "['禾宸',\n",
       " '生醫',\n",
       " '國際',\n",
       " '有限公司',\n",
       " '台灣',\n",
       " '原生',\n",
       " '山',\n",
       " '芙蓉',\n",
       " '修護',\n",
       " '保濕霜',\n",
       " '立即',\n",
       " '體驗',\n",
       " '用品',\n",
       " '申請']"
      ]
     },
     "execution_count": 11,
     "metadata": {},
     "output_type": "execute_result"
    }
   ],
   "source": [
    "sentence_list[2][0]"
   ]
  },
  {
   "cell_type": "code",
   "execution_count": 12,
   "metadata": {},
   "outputs": [],
   "source": [
    "def ceshi(sentence_list, count):\n",
    "    #每次都要重新load model\n",
    "    model_dm = doc2vec.Doc2Vec.load('AT082_17_Leopard_Read/model/doc2vec')\n",
    "    inferred_vector_dm = model_dm.infer_vector(sentence_list)\n",
    "    sims = model_dm.docvecs.most_similar([inferred_vector_dm], topn=count)\n",
    "    print(sims)\n",
    "    return sims"
   ]
  },
  {
   "cell_type": "markdown",
   "metadata": {},
   "source": [
    "## 找出最相似的文件"
   ]
  },
  {
   "cell_type": "code",
   "execution_count": 13,
   "metadata": {},
   "outputs": [
    {
     "name": "stdout",
     "output_type": "stream",
     "text": [
      "[('5', 0.774357259273529), ('29130', 0.6906501650810242), ('10890', 0.6763108968734741), ('2936', 0.6594372391700745), ('6020', 0.6530652046203613), ('29797', 0.6467612385749817), ('7741', 0.6459895968437195), ('28080', 0.6070541143417358), ('13387', 0.5958379507064819), ('22084', 0.590429425239563), ('30479', 0.5884854793548584), ('9187', 0.5802339315414429), ('23446', 0.574857771396637), ('12364', 0.5727348327636719), ('9457', 0.5480268001556396), ('24519', 0.5444530248641968), ('444', 0.5444110631942749), ('9182', 0.5440943837165833), ('8463', 0.5435901284217834), ('30414', 0.541185736656189)]\n",
      "5\n",
      "禾宸生醫國際有限公司  台灣原生 山芙蓉 修護保濕霜 立即體驗用品申請 \n",
      "29130\n",
      "台灣精華食品 情滿中秋~送禮、送餅，不如送健康。台灣精華食品為您提供中秋佳節最健康的伴手禮\n",
      "10890\n",
      "獨角獸男仕保養  Mr. U 傳送了一則訊息 提醒您，購物車中的優惠將於３日內過期，敬請把握\n",
      "2936\n",
      "衛采購物  衛采購物周年慶 Chocola BB、優補利-富R通通69折起，只到12/4，膠原蛋白要補充更要守住，大家一起美麗迎歲末\n",
      "6020\n",
      "法蘭西娜-無負擔保養品  name  您好，得獎保養品 任選79折\n",
      "29797\n",
      "Candy Lee 台亞光電液晶面板,長條顯示器.觸控面板.高亮面板.驅動板.樹莓派- Candy Lee\n",
      "7741\n",
      "Milly 《拓展國際品牌行銷能見度，您該如何做？》B2B外銷實務座談會~最後3席!\n",
      "28080\n",
      "中華民國地球科學學會  活動訊息 9/3-4 第一屆氣候論壇\n",
      "13387\n",
      "Frank Kuo  台亚光电-专业的液晶面板整合供货商-Frank Kuo \n",
      "22084\n",
      "Home Hotel 大安 來自Home Hotel 大安溫馨的問候!\n",
      "30479\n",
      "意遊WiFi  name  老朋友,多久沒旅行了？ 意遊WiFi一日99\n",
      "9187\n",
      "陳記百果園 陳記百果園 讓您新春佳節 禮到心意到\n",
      "23446\n",
      "TechOrange 全球已進入殘酷 AI 淘選潮，台灣優勢軟硬體產業轉型最佳契機，若要成為 AI 創新樞紐與全球科技大國，就趁這波！\n",
      "12364\n",
      "工業局民生領域相關計畫宣導網 工業局民生領域相關計畫(TIPO)宣導網第207期電子報(2018-03-05)\n",
      "9457\n",
      "泉能開發股份有限公司 ~泉能敬祝\"狗年大吉\"~\n",
      "24519\n",
      "NSC  新三才 鬼斧神工：羚羊峡谷、马蹄湾美景绝世\n",
      "444\n",
      "TBSA社團法人台灣商務策劃協會 應試通知  name 您好，TBSA商務企劃能力進階檢定(致理專案)\n",
      "9182\n",
      "一方青-張惠卿 一方青2018年2月高人氣講師更新\n",
      "8463\n",
      "動腦每日報 告別群邑 余湘：有新的事要做！家樂福聯手Publicis.Sapient 目標全球電商領導品牌  random  \n",
      "30414\n",
      "WeMo Scooter  name  說出你的真心話，現領30騎乘金\n"
     ]
    }
   ],
   "source": [
    "sims = ceshi(sentence_list[5][0], 20)\n",
    "for i in sims:\n",
    "    print(i[0])\n",
    "    print(mail['content'][int(i[0])])"
   ]
  },
  {
   "cell_type": "markdown",
   "metadata": {},
   "source": [
    "## 沒看過的測資測試"
   ]
  },
  {
   "cell_type": "code",
   "execution_count": 14,
   "metadata": {},
   "outputs": [],
   "source": [
    "import jieba\n",
    "import jieba.posseg as pseg\n",
    "import re"
   ]
  },
  {
   "cell_type": "code",
   "execution_count": 15,
   "metadata": {},
   "outputs": [],
   "source": [
    "## set dictionary (can define yourself)\n",
    "jieba.set_dictionary('AT082_17_Leopard_Read/jieba/dict.txt.big')\n",
    "stop_words = open('AT082_17_Leopard_Read/jieba/stop_words.txt').read().splitlines()"
   ]
  },
  {
   "cell_type": "code",
   "execution_count": 16,
   "metadata": {},
   "outputs": [],
   "source": [
    "def cutTest(text):\n",
    "    line = []\n",
    "    text = text.replace('https?:\\/\\/\\S*|︱', '')\n",
    "    text = text.replace('【', ' ')\n",
    "    text = text.replace('】', ' ')\n",
    "    text = text.replace('{', ' ')\n",
    "    text = text.replace('}', ' ')\n",
    "    text = text.replace('$', '')\n",
    "    text = text.replace('『', ' ')\n",
    "    text = text.replace('』', ' ')\n",
    "    for w in jieba.cut(text, cut_all=False):\n",
    "        if w not in stop_words and not bool(re.match('[0-9]+', w)):\n",
    "            line.append(w)\n",
    "    return line"
   ]
  },
  {
   "cell_type": "code",
   "execution_count": 17,
   "metadata": {},
   "outputs": [],
   "source": [
    "def showTop(text, count):\n",
    "    sims = ceshi(cutTest(text), count)\n",
    "    print(cutTest(text))\n",
    "    indexList = []\n",
    "    contentList = []\n",
    "    similarityList = []\n",
    "    for i in sims:\n",
    "        indexList.append(i[0])\n",
    "        similarityList.append(i[1])\n",
    "        contentList.append(mail['content'][int(i[0])])\n",
    "    df = pd.DataFrame()\n",
    "    df['index'] = indexList\n",
    "    df['similarity'] = similarityList\n",
    "    df['content'] = contentList\n",
    "    return df"
   ]
  },
  {
   "cell_type": "code",
   "execution_count": 19,
   "metadata": {},
   "outputs": [
    {
     "data": {
      "application/vnd.jupyter.widget-view+json": {
       "model_id": "8e27983900f44e7f833e4b3b484d7770",
       "version_major": 2,
       "version_minor": 0
      },
      "text/plain": [
       "Textarea(value='', description='mail content:', placeholder='')"
      ]
     },
     "metadata": {},
     "output_type": "display_data"
    },
    {
     "data": {
      "application/vnd.jupyter.widget-view+json": {
       "model_id": "76f87ee1073a43379e479b21ee22ed1d",
       "version_major": 2,
       "version_minor": 0
      },
      "text/plain": [
       "IntSlider(value=10, continuous_update=False, description='Top N:', min=1)"
      ]
     },
     "metadata": {},
     "output_type": "display_data"
    },
    {
     "data": {
      "application/vnd.jupyter.widget-view+json": {
       "model_id": "9d7deb1816aa4f159d62aff5c0af56da",
       "version_major": 2,
       "version_minor": 0
      },
      "text/plain": [
       "Button(description='analysis', style=ButtonStyle())"
      ]
     },
     "metadata": {},
     "output_type": "display_data"
    },
    {
     "data": {
      "application/vnd.jupyter.widget-view+json": {
       "model_id": "f0e4add06fff44119ec50eb9acc9713e",
       "version_major": 2,
       "version_minor": 0
      },
      "text/plain": [
       "Output()"
      ]
     },
     "metadata": {},
     "output_type": "display_data"
    }
   ],
   "source": [
    "import ipywidgets as widgets\n",
    "from IPython.display import display\n",
    "\n",
    "intputContent = widgets.Textarea(\n",
    "    value='',\n",
    "    placeholder='',\n",
    "    description='mail content:',\n",
    "    disabled=False\n",
    ")\n",
    "\n",
    "count =  widgets.IntSlider(\n",
    "    value=10,\n",
    "    min=1,\n",
    "    max=100,\n",
    "    step=1,\n",
    "    description='Top N:',\n",
    "    disabled=False,\n",
    "    continuous_update=False,\n",
    "    orientation='horizontal',\n",
    "    readout=True,\n",
    "    readout_format='d'\n",
    ")\n",
    "output = widgets.Output()\n",
    "def clickContent(b):\n",
    "    with output:\n",
    "        print('target :' + intputContent.value)\n",
    "        df = showTop(intputContent.value, count.value)\n",
    "        display(df)\n",
    "        #df.head(count.value)\n",
    "def changeInput(change):\n",
    "    with output:\n",
    "        output.clear_output()\n",
    "        print('target :' + change['new'])\n",
    "        intputContent.value = change['new']\n",
    "def changeCount(change):\n",
    "    with output:\n",
    "        output.clear_output()\n",
    "        count.value = change['new']\n",
    "button = widgets.Button(description=\"analysis\")\n",
    "button.on_click(clickContent)\n",
    "display(intputContent,count, button, output)\n",
    "intputContent.observe(changeInput, names='value')\n",
    "intputContent.observe(count, names='value')"
   ]
  },
  {
   "cell_type": "code",
   "execution_count": null,
   "metadata": {},
   "outputs": [],
   "source": []
  }
 ],
 "metadata": {
  "kernelspec": {
   "display_name": "Python 3",
   "language": "python",
   "name": "python3"
  },
  "language_info": {
   "codemirror_mode": {
    "name": "ipython",
    "version": 3
   },
   "file_extension": ".py",
   "mimetype": "text/x-python",
   "name": "python",
   "nbconvert_exporter": "python",
   "pygments_lexer": "ipython3",
   "version": "3.6.6"
  }
 },
 "nbformat": 4,
 "nbformat_minor": 2
}
