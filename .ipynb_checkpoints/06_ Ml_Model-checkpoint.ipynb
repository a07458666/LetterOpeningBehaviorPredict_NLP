{
 "cells": [
  {
   "cell_type": "markdown",
   "metadata": {},
   "source": [
    "# 使用傳統的ML 嘗試"
   ]
  },
  {
   "cell_type": "code",
   "execution_count": 1,
   "metadata": {},
   "outputs": [
    {
     "name": "stderr",
     "output_type": "stream",
     "text": [
      "/opt/conda/lib/python3.6/site-packages/h5py/__init__.py:36: FutureWarning: Conversion of the second argument of issubdtype from `float` to `np.floating` is deprecated. In future, it will be treated as `np.float64 == np.dtype(float).type`.\n",
      "  from ._conv import register_converters as _register_converters\n"
     ]
    }
   ],
   "source": [
    "import numpy as np\n",
    "import tensorflow as tf\n",
    "import pandas as pd\n",
    "import seaborn as sns\n",
    "import matplotlib.pyplot as plt\n",
    "import re\n",
    "import os\n",
    "import pickle\n",
    "import numpy as np\n",
    "from sklearn import preprocessing\n",
    "from tqdm import tqdm_notebook\n",
    "from scipy.stats import skew\n",
    "plt.style.use([\"dark_background\"])\n",
    "%matplotlib inline\n"
   ]
  },
  {
   "cell_type": "code",
   "execution_count": 2,
   "metadata": {},
   "outputs": [
    {
     "data": {
      "text/plain": [
       "'/project/at082-group17'"
      ]
     },
     "execution_count": 2,
     "metadata": {},
     "output_type": "execute_result"
    }
   ],
   "source": [
    "os.chdir(\"../\")\n",
    "os.getcwd()"
   ]
  },
  {
   "cell_type": "markdown",
   "metadata": {},
   "source": [
    "## 讀入1~4月的data 並合併"
   ]
  },
  {
   "cell_type": "code",
   "execution_count": 3,
   "metadata": {},
   "outputs": [
    {
     "name": "stdout",
     "output_type": "stream",
     "text": [
      "data count 38512321\n"
     ]
    }
   ],
   "source": [
    "## load 'data'\n",
    "dataNameList = ['201812', '201901', '201902' ,'201903']\n",
    "dataCount = []\n",
    "df_all = pd.DataFrame()\n",
    "for name in dataNameList:\n",
    "    with open('data/pickle/' + name + '.p', \"rb\") as file:\n",
    "        loadData = pickle.load(file)\n",
    "        dataCount.append(len(loadData.index))\n",
    "        df_all = pd.concat((df_all, loadData), axis = 0, ignore_index = False)\n",
    "print('data count ' + str(len(df_all.index)))"
   ]
  },
  {
   "cell_type": "code",
   "execution_count": 4,
   "metadata": {},
   "outputs": [
    {
     "data": {
      "text/html": [
       "<div>\n",
       "<style scoped>\n",
       "    .dataframe tbody tr th:only-of-type {\n",
       "        vertical-align: middle;\n",
       "    }\n",
       "\n",
       "    .dataframe tbody tr th {\n",
       "        vertical-align: top;\n",
       "    }\n",
       "\n",
       "    .dataframe thead th {\n",
       "        text-align: right;\n",
       "    }\n",
       "</style>\n",
       "<table border=\"1\" class=\"dataframe\">\n",
       "  <thead>\n",
       "    <tr style=\"text-align: right;\">\n",
       "      <th></th>\n",
       "      <th>domain_count</th>\n",
       "      <th>dayofweek</th>\n",
       "      <th>time</th>\n",
       "    </tr>\n",
       "  </thead>\n",
       "  <tbody>\n",
       "    <tr>\n",
       "      <th>count</th>\n",
       "      <td>3.851232e+07</td>\n",
       "      <td>3.851232e+07</td>\n",
       "      <td>3.851232e+07</td>\n",
       "    </tr>\n",
       "    <tr>\n",
       "      <th>mean</th>\n",
       "      <td>2.676249e+06</td>\n",
       "      <td>2.285623e+00</td>\n",
       "      <td>-4.457066e-01</td>\n",
       "    </tr>\n",
       "    <tr>\n",
       "      <th>std</th>\n",
       "      <td>1.759893e+06</td>\n",
       "      <td>1.537794e+00</td>\n",
       "      <td>5.657999e-01</td>\n",
       "    </tr>\n",
       "    <tr>\n",
       "      <th>min</th>\n",
       "      <td>1.000000e+00</td>\n",
       "      <td>0.000000e+00</td>\n",
       "      <td>-1.000000e+00</td>\n",
       "    </tr>\n",
       "    <tr>\n",
       "      <th>25%</th>\n",
       "      <td>1.051705e+06</td>\n",
       "      <td>1.000000e+00</td>\n",
       "      <td>-9.238795e-01</td>\n",
       "    </tr>\n",
       "    <tr>\n",
       "      <th>50%</th>\n",
       "      <td>2.760272e+06</td>\n",
       "      <td>2.000000e+00</td>\n",
       "      <td>-6.593458e-01</td>\n",
       "    </tr>\n",
       "    <tr>\n",
       "      <th>75%</th>\n",
       "      <td>4.825825e+06</td>\n",
       "      <td>4.000000e+00</td>\n",
       "      <td>-3.686173e-02</td>\n",
       "    </tr>\n",
       "    <tr>\n",
       "      <th>max</th>\n",
       "      <td>4.833533e+06</td>\n",
       "      <td>6.000000e+00</td>\n",
       "      <td>1.000000e+00</td>\n",
       "    </tr>\n",
       "  </tbody>\n",
       "</table>\n",
       "</div>"
      ],
      "text/plain": [
       "       domain_count     dayofweek          time\n",
       "count  3.851232e+07  3.851232e+07  3.851232e+07\n",
       "mean   2.676249e+06  2.285623e+00 -4.457066e-01\n",
       "std    1.759893e+06  1.537794e+00  5.657999e-01\n",
       "min    1.000000e+00  0.000000e+00 -1.000000e+00\n",
       "25%    1.051705e+06  1.000000e+00 -9.238795e-01\n",
       "50%    2.760272e+06  2.000000e+00 -6.593458e-01\n",
       "75%    4.825825e+06  4.000000e+00 -3.686173e-02\n",
       "max    4.833533e+06  6.000000e+00  1.000000e+00"
      ]
     },
     "execution_count": 4,
     "metadata": {},
     "output_type": "execute_result"
    }
   ],
   "source": [
    "df_all.describe()"
   ]
  },
  {
   "cell_type": "markdown",
   "metadata": {},
   "source": [
    "## 合併信件的type"
   ]
  },
  {
   "cell_type": "code",
   "execution_count": 5,
   "metadata": {},
   "outputs": [],
   "source": [
    "mail = pd.read_csv('data/mail_dataV2.csv')"
   ]
  },
  {
   "cell_type": "code",
   "execution_count": 6,
   "metadata": {},
   "outputs": [],
   "source": [
    "mail = mail.drop(['fromName', 'fromMailAddress', 'subject', 'scheduledDate'], axis = 1)"
   ]
  },
  {
   "cell_type": "code",
   "execution_count": 8,
   "metadata": {},
   "outputs": [],
   "source": [
    "mail = mail.drop(['Unnamed: 0'], axis = 1)"
   ]
  },
  {
   "cell_type": "code",
   "execution_count": 9,
   "metadata": {},
   "outputs": [
    {
     "data": {
      "text/html": [
       "<div>\n",
       "<style scoped>\n",
       "    .dataframe tbody tr th:only-of-type {\n",
       "        vertical-align: middle;\n",
       "    }\n",
       "\n",
       "    .dataframe tbody tr th {\n",
       "        vertical-align: top;\n",
       "    }\n",
       "\n",
       "    .dataframe thead th {\n",
       "        text-align: right;\n",
       "    }\n",
       "</style>\n",
       "<table border=\"1\" class=\"dataframe\">\n",
       "  <thead>\n",
       "    <tr style=\"text-align: right;\">\n",
       "      <th></th>\n",
       "      <th>campaignSn</th>\n",
       "      <th>mailType</th>\n",
       "    </tr>\n",
       "  </thead>\n",
       "  <tbody>\n",
       "    <tr>\n",
       "      <th>0</th>\n",
       "      <td>000000005f59c23b015f73f2f5107a39</td>\n",
       "      <td>0</td>\n",
       "    </tr>\n",
       "    <tr>\n",
       "      <th>1</th>\n",
       "      <td>000000005f59c23b015f73f416917a5e</td>\n",
       "      <td>0</td>\n",
       "    </tr>\n",
       "    <tr>\n",
       "      <th>2</th>\n",
       "      <td>000000005f59c23b015f73f6d5207ac6</td>\n",
       "      <td>0</td>\n",
       "    </tr>\n",
       "    <tr>\n",
       "      <th>3</th>\n",
       "      <td>000000005f59c23b015f73f755077adc</td>\n",
       "      <td>0</td>\n",
       "    </tr>\n",
       "    <tr>\n",
       "      <th>4</th>\n",
       "      <td>000000005f59c23b015f710327035577</td>\n",
       "      <td>1</td>\n",
       "    </tr>\n",
       "    <tr>\n",
       "      <th>5</th>\n",
       "      <td>000000005f59c23b015f5b3da4dd1bd4</td>\n",
       "      <td>2</td>\n",
       "    </tr>\n",
       "    <tr>\n",
       "      <th>6</th>\n",
       "      <td>000000005f59c23b015f71d2723d78ff</td>\n",
       "      <td>0</td>\n",
       "    </tr>\n",
       "    <tr>\n",
       "      <th>7</th>\n",
       "      <td>000000005f59c23b015f74e9266313c6</td>\n",
       "      <td>4</td>\n",
       "    </tr>\n",
       "    <tr>\n",
       "      <th>8</th>\n",
       "      <td>000000005f59c23b015f74edf4f014b3</td>\n",
       "      <td>0</td>\n",
       "    </tr>\n",
       "    <tr>\n",
       "      <th>9</th>\n",
       "      <td>000000005f59c23b015f702e7e7c5651</td>\n",
       "      <td>0</td>\n",
       "    </tr>\n",
       "    <tr>\n",
       "      <th>10</th>\n",
       "      <td>000000005f59c23b015f7511b6551d63</td>\n",
       "      <td>0</td>\n",
       "    </tr>\n",
       "    <tr>\n",
       "      <th>11</th>\n",
       "      <td>000000005f59c23b015f6c6ae74f7872</td>\n",
       "      <td>4</td>\n",
       "    </tr>\n",
       "    <tr>\n",
       "      <th>12</th>\n",
       "      <td>000000005f59c23b015f752002e32116</td>\n",
       "      <td>0</td>\n",
       "    </tr>\n",
       "    <tr>\n",
       "      <th>13</th>\n",
       "      <td>000000005f59c23b015f75295bb6237e</td>\n",
       "      <td>0</td>\n",
       "    </tr>\n",
       "    <tr>\n",
       "      <th>14</th>\n",
       "      <td>000000005f59c23b015f751cb6e42025</td>\n",
       "      <td>2</td>\n",
       "    </tr>\n",
       "    <tr>\n",
       "      <th>15</th>\n",
       "      <td>000000005f59c23b015f752fa50f276b</td>\n",
       "      <td>1</td>\n",
       "    </tr>\n",
       "    <tr>\n",
       "      <th>16</th>\n",
       "      <td>000000005f59c23b015f752b89e124c9</td>\n",
       "      <td>0</td>\n",
       "    </tr>\n",
       "    <tr>\n",
       "      <th>17</th>\n",
       "      <td>000000005f59c23b015f7534723c2b34</td>\n",
       "      <td>0</td>\n",
       "    </tr>\n",
       "    <tr>\n",
       "      <th>18</th>\n",
       "      <td>000000005f59c23b015f7536f9b32cc0</td>\n",
       "      <td>0</td>\n",
       "    </tr>\n",
       "    <tr>\n",
       "      <th>19</th>\n",
       "      <td>000000005f59c23b015f71d3f4b27979</td>\n",
       "      <td>0</td>\n",
       "    </tr>\n",
       "    <tr>\n",
       "      <th>20</th>\n",
       "      <td>000000005f59c23b015f6c3b578f5fe3</td>\n",
       "      <td>0</td>\n",
       "    </tr>\n",
       "    <tr>\n",
       "      <th>21</th>\n",
       "      <td>000000005f59c23b015f754b5e4e3ab4</td>\n",
       "      <td>0</td>\n",
       "    </tr>\n",
       "    <tr>\n",
       "      <th>22</th>\n",
       "      <td>000000005f59c23b015f5c47b1ef7e33</td>\n",
       "      <td>0</td>\n",
       "    </tr>\n",
       "    <tr>\n",
       "      <th>23</th>\n",
       "      <td>000000005f59c23b015f6b76fb160c94</td>\n",
       "      <td>0</td>\n",
       "    </tr>\n",
       "    <tr>\n",
       "      <th>24</th>\n",
       "      <td>000000005f59c23b015f6cc3529d1092</td>\n",
       "      <td>0</td>\n",
       "    </tr>\n",
       "    <tr>\n",
       "      <th>25</th>\n",
       "      <td>000000005f59c23b015f728f557454a6</td>\n",
       "      <td>0</td>\n",
       "    </tr>\n",
       "    <tr>\n",
       "      <th>26</th>\n",
       "      <td>000000005f59c23b015f754c23683b39</td>\n",
       "      <td>0</td>\n",
       "    </tr>\n",
       "    <tr>\n",
       "      <th>27</th>\n",
       "      <td>000000005f59c23b015f755462f944fe</td>\n",
       "      <td>0</td>\n",
       "    </tr>\n",
       "    <tr>\n",
       "      <th>28</th>\n",
       "      <td>000000005f59c23b015f7567048b5c61</td>\n",
       "      <td>0</td>\n",
       "    </tr>\n",
       "    <tr>\n",
       "      <th>29</th>\n",
       "      <td>000000005f59c23b015f756612c2598b</td>\n",
       "      <td>2</td>\n",
       "    </tr>\n",
       "    <tr>\n",
       "      <th>...</th>\n",
       "      <td>...</td>\n",
       "      <td>...</td>\n",
       "    </tr>\n",
       "    <tr>\n",
       "      <th>57249</th>\n",
       "      <td>000000006a672552016a6cfdd1f60558</td>\n",
       "      <td>0</td>\n",
       "    </tr>\n",
       "    <tr>\n",
       "      <th>57250</th>\n",
       "      <td>000000006a672552016a6d1a15d81716</td>\n",
       "      <td>2</td>\n",
       "    </tr>\n",
       "    <tr>\n",
       "      <th>57251</th>\n",
       "      <td>000000006a672552016a6d1c186d1800</td>\n",
       "      <td>0</td>\n",
       "    </tr>\n",
       "    <tr>\n",
       "      <th>57252</th>\n",
       "      <td>000000006a672552016a6d1d80fe1e61</td>\n",
       "      <td>0</td>\n",
       "    </tr>\n",
       "    <tr>\n",
       "      <th>57253</th>\n",
       "      <td>000000006a672552016a6d25aa762119</td>\n",
       "      <td>0</td>\n",
       "    </tr>\n",
       "    <tr>\n",
       "      <th>57254</th>\n",
       "      <td>000000006a672552016a68f700090b24</td>\n",
       "      <td>4</td>\n",
       "    </tr>\n",
       "    <tr>\n",
       "      <th>57255</th>\n",
       "      <td>000000006a672552016a6cdca48162ad</td>\n",
       "      <td>0</td>\n",
       "    </tr>\n",
       "    <tr>\n",
       "      <th>57256</th>\n",
       "      <td>000000006a672552016a6d56ab270f5c</td>\n",
       "      <td>0</td>\n",
       "    </tr>\n",
       "    <tr>\n",
       "      <th>57257</th>\n",
       "      <td>000000006a672552016a6c34fe1a6904</td>\n",
       "      <td>0</td>\n",
       "    </tr>\n",
       "    <tr>\n",
       "      <th>57258</th>\n",
       "      <td>0000000069bf518d016a4d2d67b37926</td>\n",
       "      <td>0</td>\n",
       "    </tr>\n",
       "    <tr>\n",
       "      <th>57259</th>\n",
       "      <td>000000006a672552016a6d5c85380171</td>\n",
       "      <td>0</td>\n",
       "    </tr>\n",
       "    <tr>\n",
       "      <th>57260</th>\n",
       "      <td>000000006a672552016a6c99d2ed2f92</td>\n",
       "      <td>0</td>\n",
       "    </tr>\n",
       "    <tr>\n",
       "      <th>57261</th>\n",
       "      <td>000000006a672552016a6d7313030f66</td>\n",
       "      <td>6</td>\n",
       "    </tr>\n",
       "    <tr>\n",
       "      <th>57262</th>\n",
       "      <td>0000000069bf518d016a66abef664f3e</td>\n",
       "      <td>4</td>\n",
       "    </tr>\n",
       "    <tr>\n",
       "      <th>57263</th>\n",
       "      <td>000000006a672552016a6d6a55bb0b39</td>\n",
       "      <td>0</td>\n",
       "    </tr>\n",
       "    <tr>\n",
       "      <th>57264</th>\n",
       "      <td>000000006a672552016a6c16b5c2558a</td>\n",
       "      <td>0</td>\n",
       "    </tr>\n",
       "    <tr>\n",
       "      <th>57265</th>\n",
       "      <td>000000006a672552016a6d3533e34971</td>\n",
       "      <td>3</td>\n",
       "    </tr>\n",
       "    <tr>\n",
       "      <th>57266</th>\n",
       "      <td>000000006a672552016a6cdbed716278</td>\n",
       "      <td>3</td>\n",
       "    </tr>\n",
       "    <tr>\n",
       "      <th>57267</th>\n",
       "      <td>000000006a672552016a6cdc206b6288</td>\n",
       "      <td>3</td>\n",
       "    </tr>\n",
       "    <tr>\n",
       "      <th>57268</th>\n",
       "      <td>000000006a672552016a6d3e67855a14</td>\n",
       "      <td>0</td>\n",
       "    </tr>\n",
       "    <tr>\n",
       "      <th>57269</th>\n",
       "      <td>000000006a672552016a6dc373c50f16</td>\n",
       "      <td>0</td>\n",
       "    </tr>\n",
       "    <tr>\n",
       "      <th>57270</th>\n",
       "      <td>000000006a672552016a6d8a2d3f6ead</td>\n",
       "      <td>0</td>\n",
       "    </tr>\n",
       "    <tr>\n",
       "      <th>57271</th>\n",
       "      <td>000000006a672552016a6dc568110f83</td>\n",
       "      <td>0</td>\n",
       "    </tr>\n",
       "    <tr>\n",
       "      <th>57272</th>\n",
       "      <td>000000006a672552016a6c92626a2d86</td>\n",
       "      <td>3</td>\n",
       "    </tr>\n",
       "    <tr>\n",
       "      <th>57273</th>\n",
       "      <td>000000006a672552016a6c93c6632de8</td>\n",
       "      <td>0</td>\n",
       "    </tr>\n",
       "    <tr>\n",
       "      <th>57274</th>\n",
       "      <td>000000006a672552016a6d9383750145</td>\n",
       "      <td>3</td>\n",
       "    </tr>\n",
       "    <tr>\n",
       "      <th>57275</th>\n",
       "      <td>000000006a672552016a6e4e195c364c</td>\n",
       "      <td>0</td>\n",
       "    </tr>\n",
       "    <tr>\n",
       "      <th>57276</th>\n",
       "      <td>000000006a672552016a6ddf08681b41</td>\n",
       "      <td>0</td>\n",
       "    </tr>\n",
       "    <tr>\n",
       "      <th>57277</th>\n",
       "      <td>000000006a672552016a6db7ab0f0c78</td>\n",
       "      <td>0</td>\n",
       "    </tr>\n",
       "    <tr>\n",
       "      <th>57278</th>\n",
       "      <td>000000006a672552016a6e9be4984725</td>\n",
       "      <td>0</td>\n",
       "    </tr>\n",
       "  </tbody>\n",
       "</table>\n",
       "<p>57279 rows × 2 columns</p>\n",
       "</div>"
      ],
      "text/plain": [
       "                             campaignSn  mailType\n",
       "0      000000005f59c23b015f73f2f5107a39         0\n",
       "1      000000005f59c23b015f73f416917a5e         0\n",
       "2      000000005f59c23b015f73f6d5207ac6         0\n",
       "3      000000005f59c23b015f73f755077adc         0\n",
       "4      000000005f59c23b015f710327035577         1\n",
       "5      000000005f59c23b015f5b3da4dd1bd4         2\n",
       "6      000000005f59c23b015f71d2723d78ff         0\n",
       "7      000000005f59c23b015f74e9266313c6         4\n",
       "8      000000005f59c23b015f74edf4f014b3         0\n",
       "9      000000005f59c23b015f702e7e7c5651         0\n",
       "10     000000005f59c23b015f7511b6551d63         0\n",
       "11     000000005f59c23b015f6c6ae74f7872         4\n",
       "12     000000005f59c23b015f752002e32116         0\n",
       "13     000000005f59c23b015f75295bb6237e         0\n",
       "14     000000005f59c23b015f751cb6e42025         2\n",
       "15     000000005f59c23b015f752fa50f276b         1\n",
       "16     000000005f59c23b015f752b89e124c9         0\n",
       "17     000000005f59c23b015f7534723c2b34         0\n",
       "18     000000005f59c23b015f7536f9b32cc0         0\n",
       "19     000000005f59c23b015f71d3f4b27979         0\n",
       "20     000000005f59c23b015f6c3b578f5fe3         0\n",
       "21     000000005f59c23b015f754b5e4e3ab4         0\n",
       "22     000000005f59c23b015f5c47b1ef7e33         0\n",
       "23     000000005f59c23b015f6b76fb160c94         0\n",
       "24     000000005f59c23b015f6cc3529d1092         0\n",
       "25     000000005f59c23b015f728f557454a6         0\n",
       "26     000000005f59c23b015f754c23683b39         0\n",
       "27     000000005f59c23b015f755462f944fe         0\n",
       "28     000000005f59c23b015f7567048b5c61         0\n",
       "29     000000005f59c23b015f756612c2598b         2\n",
       "...                                 ...       ...\n",
       "57249  000000006a672552016a6cfdd1f60558         0\n",
       "57250  000000006a672552016a6d1a15d81716         2\n",
       "57251  000000006a672552016a6d1c186d1800         0\n",
       "57252  000000006a672552016a6d1d80fe1e61         0\n",
       "57253  000000006a672552016a6d25aa762119         0\n",
       "57254  000000006a672552016a68f700090b24         4\n",
       "57255  000000006a672552016a6cdca48162ad         0\n",
       "57256  000000006a672552016a6d56ab270f5c         0\n",
       "57257  000000006a672552016a6c34fe1a6904         0\n",
       "57258  0000000069bf518d016a4d2d67b37926         0\n",
       "57259  000000006a672552016a6d5c85380171         0\n",
       "57260  000000006a672552016a6c99d2ed2f92         0\n",
       "57261  000000006a672552016a6d7313030f66         6\n",
       "57262  0000000069bf518d016a66abef664f3e         4\n",
       "57263  000000006a672552016a6d6a55bb0b39         0\n",
       "57264  000000006a672552016a6c16b5c2558a         0\n",
       "57265  000000006a672552016a6d3533e34971         3\n",
       "57266  000000006a672552016a6cdbed716278         3\n",
       "57267  000000006a672552016a6cdc206b6288         3\n",
       "57268  000000006a672552016a6d3e67855a14         0\n",
       "57269  000000006a672552016a6dc373c50f16         0\n",
       "57270  000000006a672552016a6d8a2d3f6ead         0\n",
       "57271  000000006a672552016a6dc568110f83         0\n",
       "57272  000000006a672552016a6c92626a2d86         3\n",
       "57273  000000006a672552016a6c93c6632de8         0\n",
       "57274  000000006a672552016a6d9383750145         3\n",
       "57275  000000006a672552016a6e4e195c364c         0\n",
       "57276  000000006a672552016a6ddf08681b41         0\n",
       "57277  000000006a672552016a6db7ab0f0c78         0\n",
       "57278  000000006a672552016a6e9be4984725         0\n",
       "\n",
       "[57279 rows x 2 columns]"
      ]
     },
     "execution_count": 9,
     "metadata": {},
     "output_type": "execute_result"
    }
   ],
   "source": [
    "mail"
   ]
  },
  {
   "cell_type": "code",
   "execution_count": 10,
   "metadata": {},
   "outputs": [],
   "source": [
    "df_all = df_all.merge(mail, how=\"left\", on=\"campaignSn\")"
   ]
  },
  {
   "cell_type": "markdown",
   "metadata": {},
   "source": [
    "## 先將train資料切出來(要取開信與收信率)"
   ]
  },
  {
   "cell_type": "code",
   "execution_count": null,
   "metadata": {},
   "outputs": [],
   "source": [
    "trainCount = df_all[df_all['scheduledDate'].apply(lambda x :x.month) <= 3].count()\n",
    "trainCount = trainCount[0]"
   ]
  },
  {
   "cell_type": "code",
   "execution_count": null,
   "metadata": {},
   "outputs": [],
   "source": [
    "df_train = df_all[:trainCount]"
   ]
  },
  {
   "cell_type": "markdown",
   "metadata": {},
   "source": [
    "## 移除收信資料少於5封的收件者"
   ]
  },
  {
   "cell_type": "code",
   "execution_count": null,
   "metadata": {},
   "outputs": [],
   "source": [
    "df_temp = df_all[[\"recipientSn\", \"mailAddress\"]].groupby(\"mailAddress\").count().reset_index()\n",
    "\n",
    "df_temp.columns = [\"mailAddress\", \"mailAddress_count\"]\n",
    "df_temp.sort_values(by=['mailAddress_count'])\n",
    "\n",
    "df_all = df_all.merge(df_temp, how=\"left\", on=\"mailAddress\")\n",
    "df_all = df_all[df_all['mailAddress_count'] >= 5]\n",
    "#del df_all['mailAddress_count']"
   ]
  },
  {
   "cell_type": "markdown",
   "metadata": {},
   "source": [
    "## 移除沒有開過信的使用者"
   ]
  },
  {
   "cell_type": "code",
   "execution_count": null,
   "metadata": {},
   "outputs": [],
   "source": [
    "df_temp = df_train.groupby(\"mailAddress\")['openedFlag'].agg(['sum'])\n",
    "df_temp.columns = [\"openSum\"]\n",
    "df_all = df_all.merge(df_temp, how=\"left\", on=\"mailAddress\")\n",
    "df_all = df_all[df_all['openSum'] > 0]\n",
    "#del df_all['sum']"
   ]
  },
  {
   "cell_type": "code",
   "execution_count": null,
   "metadata": {},
   "outputs": [],
   "source": [
    "trainCount = df_all[df_all['scheduledDate'].apply(lambda x :x.month) <= 3].count()\n",
    "trainCount = trainCount[0]"
   ]
  },
  {
   "cell_type": "markdown",
   "metadata": {},
   "source": [
    "## Standardization\n",
    "正規化 將數值轉為[0,1] or [-1,1] <br>\n",
    "只對數值類型的做"
   ]
  },
  {
   "cell_type": "code",
   "execution_count": null,
   "metadata": {},
   "outputs": [],
   "source": [
    "df_all[ 'time' ] = preprocessing.scale( df_all[ 'time'] ,with_mean=True,with_std=True)\n",
    "df_all[ 'domain_count' ] = preprocessing.scale( df_all[ 'domain_count'],with_mean=True,with_std=True )\n",
    "df_all[ 'mailAddress_count' ] = preprocessing.scale( df_all[ 'mailAddress_count'],with_mean=True,with_std=True )\n",
    "df_all[ 'openSum' ] = preprocessing.scale( df_all[ 'openSum'],with_mean=True,with_std=True )\n"
   ]
  },
  {
   "cell_type": "code",
   "execution_count": null,
   "metadata": {},
   "outputs": [],
   "source": [
    "data = df_all['time']\n",
    "plt.hist(data, bins= 30)"
   ]
  },
  {
   "cell_type": "code",
   "execution_count": null,
   "metadata": {},
   "outputs": [],
   "source": [
    "df_all['dayofweek'] = df_all['dayofweek'].astype( str )\n",
    "df_all['mailType'] = df_all['mailType'].astype( str )\n"
   ]
  },
  {
   "cell_type": "code",
   "execution_count": null,
   "metadata": {},
   "outputs": [],
   "source": [
    "df_all = df_all.drop(['domain','recipientSn', 'campaignSn', 'mailAddress', 'fromMailAddress', 'scheduledDate'], axis = 1)"
   ]
  },
  {
   "cell_type": "code",
   "execution_count": null,
   "metadata": {},
   "outputs": [],
   "source": [
    "df_all"
   ]
  },
  {
   "cell_type": "markdown",
   "metadata": {},
   "source": [
    "## One-Hot Encoding\n",
    "要訓練非數值的feature 需要做One-Hot EncodingOne hot"
   ]
  },
  {
   "cell_type": "code",
   "execution_count": null,
   "metadata": {},
   "outputs": [],
   "source": [
    "df_all_dum = pd.get_dummies(df_all)\n"
   ]
  },
  {
   "cell_type": "markdown",
   "metadata": {},
   "source": [
    "## 讀存檔"
   ]
  },
  {
   "cell_type": "code",
   "execution_count": null,
   "metadata": {},
   "outputs": [],
   "source": [
    "## save data as pickle format\n",
    "with open('data/pickle/' + 'df_all_dum' + '.p', \"wb\") as file:\n",
    "    pickle.dump(df_all_dum, file)"
   ]
  },
  {
   "cell_type": "code",
   "execution_count": 9,
   "metadata": {},
   "outputs": [],
   "source": [
    "## load 'df_all_dum'\n",
    "with open('data/pickle/' + 'df_all_dum' + '.p', \"rb\") as file:\n",
    "    df_all_dum = pickle.load(file)"
   ]
  },
  {
   "cell_type": "markdown",
   "metadata": {},
   "source": [
    "## Training 開始\n",
    "資料分割\n"
   ]
  },
  {
   "cell_type": "code",
   "execution_count": 10,
   "metadata": {},
   "outputs": [
    {
     "name": "stdout",
     "output_type": "stream",
     "text": [
      "df_all_dum =  (14335246, 12)\n",
      "df_train =  10836556\n",
      "X =  (10836556, 11)\n",
      "X_test =  (3498690, 11)\n"
     ]
    }
   ],
   "source": [
    "from sklearn.model_selection import train_test_split\n",
    "from sklearn import metrics\n",
    "\n",
    "print(\"df_all_dum = \", df_all_dum.shape)\n",
    "print(\"df_train = \",trainCount)\n",
    "\n",
    "#將train的部分取出(因為前面有先將train和test的資料和並)\n",
    "X = df_all_dum[:trainCount]\n",
    "X = X.drop(['openedFlag'], axis = 1)\n",
    "y = df_all_dum['openedFlag']\n",
    "y = y[:trainCount]\n",
    "print(\"X = \",X.shape)\n",
    "\n",
    "#切分為trainData和ValData\n",
    "X_train, X_val, y_train, y_val = train_test_split(X, y, test_size = 0.1, random_state = 77, stratify=y)\n",
    "\n",
    "#將後半剩下的test資料取出\n",
    "y_test = df_all_dum[ trainCount : ]\n",
    "y_test = y_test[ 'openedFlag' ]\n",
    "X_test = df_all_dum[ trainCount : ]\n",
    "X_test = X_test.drop(['openedFlag'], axis = 1)\n",
    "\n",
    "print(\"X_test = \",X_test.shape)\n"
   ]
  },
  {
   "cell_type": "markdown",
   "metadata": {},
   "source": [
    "### Random Forest"
   ]
  },
  {
   "cell_type": "code",
   "execution_count": 14,
   "metadata": {},
   "outputs": [
    {
     "name": "stderr",
     "output_type": "stream",
     "text": [
      "/opt/conda/lib/python3.6/site-packages/sklearn/ensemble/weight_boosting.py:29: DeprecationWarning: numpy.core.umath_tests is an internal NumPy module and should not be imported. It will be removed in a future NumPy release.\n",
      "  from numpy.core.umath_tests import inner1d\n"
     ]
    }
   ],
   "source": [
    "from sklearn.ensemble import RandomForestClassifier\n",
    "from sklearn.metrics import accuracy_score\n",
    "from sklearn.metrics import f1_score\n",
    "from sklearn.metrics import recall_score\n"
   ]
  },
  {
   "cell_type": "code",
   "execution_count": 20,
   "metadata": {},
   "outputs": [
    {
     "name": "stderr",
     "output_type": "stream",
     "text": [
      "[Parallel(n_jobs=1)]: Done  10 out of  10 | elapsed:  6.4min finished\n"
     ]
    },
    {
     "data": {
      "text/plain": [
       "RandomForestClassifier(bootstrap=True, class_weight=None, criterion='gini',\n",
       "            max_depth=None, max_features='auto', max_leaf_nodes=None,\n",
       "            min_impurity_decrease=0.0, min_impurity_split=None,\n",
       "            min_samples_leaf=1, min_samples_split=2,\n",
       "            min_weight_fraction_leaf=0.0, n_estimators=10, n_jobs=1,\n",
       "            oob_score=False, random_state=None, verbose=1,\n",
       "            warm_start=False)"
      ]
     },
     "execution_count": 20,
     "metadata": {},
     "output_type": "execute_result"
    }
   ],
   "source": [
    "clf = RandomForestClassifier(verbose = 1)\n",
    "clf.fit(X_train, y_train)"
   ]
  },
  {
   "cell_type": "code",
   "execution_count": 20,
   "metadata": {},
   "outputs": [],
   "source": [
    "with open('data/pickle/RandomForestModel', \"wb\") as file:\n",
    "    pickle.dump(clf, file)"
   ]
  },
  {
   "cell_type": "code",
   "execution_count": null,
   "metadata": {},
   "outputs": [],
   "source": [
    "\n",
    "threshold_RF = 0.8\n",
    "\n",
    "y_pred_proba_RF = clf.predict_proba(X_val)\n",
    "y_pred_RF = (y_pred_proba_RF [:,1] >= threshold_RF).astype('int')\n",
    "\n",
    "print('acc ' + str(accuracy_score(y_val, y_pred_RF)))\n",
    "print(\"recall = \" + str(recall_score(y_val, y_pred_RF)))\n",
    "print('f1_score ' + str(f1_score(y_val, y_pred_RF)))"
   ]
  },
  {
   "cell_type": "code",
   "execution_count": 22,
   "metadata": {},
   "outputs": [],
   "source": [
    "def errorCount(y_pred, y_val):\n",
    "    errorCount = 0\n",
    "    missCount = 0\n",
    "    for i in range(y_val.shape[0]):\n",
    "        if y_val.data[i] != y_pred.data[i] and y_pred.data[i] == 1:\n",
    "            errorCount = errorCount + 1\n",
    "        if y_val.data[i] != y_pred.data[i] and y_pred.data[i] == 0:\n",
    "            missCount = missCount + 1\n",
    "    print('error count : ' + str(errorCount))\n",
    "    print('miss count : ' + str(missCount))"
   ]
  },
  {
   "cell_type": "code",
   "execution_count": 23,
   "metadata": {},
   "outputs": [
    {
     "name": "stderr",
     "output_type": "stream",
     "text": [
      "/opt/conda/lib/python3.6/site-packages/ipykernel_launcher.py:5: FutureWarning: Series.data is deprecated and will be removed in a future version\n",
      "  \"\"\"\n",
      "/opt/conda/lib/python3.6/site-packages/ipykernel_launcher.py:7: FutureWarning: Series.data is deprecated and will be removed in a future version\n",
      "  import sys\n"
     ]
    },
    {
     "name": "stdout",
     "output_type": "stream",
     "text": [
      "error count : 24605\n",
      "miss count : 228629\n"
     ]
    }
   ],
   "source": [
    "errorCount(y_pred_RF, y_val)"
   ]
  },
  {
   "cell_type": "code",
   "execution_count": 24,
   "metadata": {},
   "outputs": [
    {
     "name": "stderr",
     "output_type": "stream",
     "text": [
      "[Parallel(n_jobs=1)]: Done  10 out of  10 | elapsed:    8.1s finished\n"
     ]
    }
   ],
   "source": [
    "y_test_proba = clf.predict_proba(X_test)\n",
    "y_ans_pred = (y_test_proba [:,1] >= threshold_RF).astype('int')"
   ]
  },
  {
   "cell_type": "code",
   "execution_count": 25,
   "metadata": {},
   "outputs": [
    {
     "name": "stdout",
     "output_type": "stream",
     "text": [
      "acc 0.749054360346301\n",
      "recall = 0.25923827983976844\n",
      "f1_score 0.36736361455037525\n"
     ]
    }
   ],
   "source": [
    "print('acc ' + str(accuracy_score(y_test, y_ans_pred)))\n",
    "print(\"recall = \" + str(recall_score(y_test, y_ans_pred)))\n",
    "print('f1_score ' + str(f1_score(y_test, y_ans_pred)))"
   ]
  },
  {
   "cell_type": "markdown",
   "metadata": {},
   "source": [
    "### lightGBM"
   ]
  },
  {
   "cell_type": "code",
   "execution_count": 16,
   "metadata": {},
   "outputs": [
    {
     "data": {
      "text/plain": [
       "LGBMClassifier(boosting_type='gbdt', class_weight=None, colsample_bytree=1.0,\n",
       "        importance_type='split', learning_rate=0.1, max_depth=-1,\n",
       "        min_child_samples=20, min_child_weight=0.001, min_split_gain=0.0,\n",
       "        n_estimators=100, n_jobs=-1, num_leaves=31, objective='binary',\n",
       "        random_state=None, reg_alpha=0.0, reg_lambda=0.0,\n",
       "        scale_pos_weight=5, silent=True, subsample=1.0,\n",
       "        subsample_for_bin=200000, subsample_freq=0)"
      ]
     },
     "execution_count": 16,
     "metadata": {},
     "output_type": "execute_result"
    }
   ],
   "source": [
    "import lightgbm as lgb\n",
    "pos_weight = 5\n",
    "lgbm = lgb.LGBMClassifier(objective = 'binary', scale_pos_weight=pos_weight)\n",
    "lgbm.fit(X_train, y_train)"
   ]
  },
  {
   "cell_type": "code",
   "execution_count": 22,
   "metadata": {},
   "outputs": [],
   "source": [
    "with open('data/pickle/LightGBMModel', \"wb\") as file:\n",
    "    pickle.dump(lgbm, file)"
   ]
  },
  {
   "cell_type": "code",
   "execution_count": 19,
   "metadata": {},
   "outputs": [
    {
     "name": "stdout",
     "output_type": "stream",
     "text": [
      "acc = 0.6472173826380327\n",
      "recall = 0.9042156351530224\n",
      "f1 = 0.6227968651177752\n"
     ]
    }
   ],
   "source": [
    "threshold_GBM = 0.5\n",
    "\n",
    "y_pred_proba_GBM = lgbm.predict_proba(X_val)\n",
    "y_pred_GBM = (y_pred_proba_GBM [:,1] >= threshold_GBM).astype('int')\n",
    "print(\"acc = \" + str(accuracy_score(y_val, y_pred_GBM)))\n",
    "print(\"recall = \" + str(recall_score(y_val, y_pred_GBM)))\n",
    "print(\"f1 = \" + str(f1_score(y_val, y_pred_GBM)))"
   ]
  },
  {
   "cell_type": "code",
   "execution_count": 29,
   "metadata": {},
   "outputs": [
    {
     "name": "stderr",
     "output_type": "stream",
     "text": [
      "/opt/conda/lib/python3.6/site-packages/ipykernel_launcher.py:5: FutureWarning: Series.data is deprecated and will be removed in a future version\n",
      "  \"\"\"\n",
      "/opt/conda/lib/python3.6/site-packages/ipykernel_launcher.py:7: FutureWarning: Series.data is deprecated and will be removed in a future version\n",
      "  import sys\n"
     ]
    },
    {
     "name": "stdout",
     "output_type": "stream",
     "text": [
      "error count : 59078\n",
      "miss count : 95929\n"
     ]
    }
   ],
   "source": [
    "errorCount(y_pred_GBM, y_val)"
   ]
  },
  {
   "cell_type": "code",
   "execution_count": 18,
   "metadata": {},
   "outputs": [
    {
     "name": "stdout",
     "output_type": "stream",
     "text": [
      "0.9137538574167853\n",
      "753878\n",
      "825034\n"
     ]
    }
   ],
   "source": [
    "sendRate = y_pred_GBM.sum() / X_val.shape[0]\n",
    "print(sendRate)\n",
    "print( y_pred_GBM.sum())\n",
    "print(X_val.shape[0])"
   ]
  },
  {
   "cell_type": "code",
   "execution_count": 100,
   "metadata": {},
   "outputs": [
    {
     "data": {
      "text/plain": [
       "825034"
      ]
     },
     "execution_count": 100,
     "metadata": {},
     "output_type": "execute_result"
    }
   ],
   "source": [
    " y_pred_GBM.sum()"
   ]
  },
  {
   "cell_type": "code",
   "execution_count": 26,
   "metadata": {},
   "outputs": [
    {
     "name": "stdout",
     "output_type": "stream",
     "text": [
      "acc = 0.7913750295723617\n",
      "recall = 0.5536058676322264\n",
      "f1 = 0.5701224922622933\n"
     ]
    }
   ],
   "source": [
    "threshold_GBM = 0.8\n",
    "\n",
    "y_pred_proba_GBM = lgbm.predict_proba(X_test)\n",
    "y_pred_GBM = (y_pred_proba_GBM [:,1] >= threshold_GBM).astype('int')\n",
    "print(\"acc = \" + str(accuracy_score(y_test, y_pred_GBM)))\n",
    "print(\"recall = \" + str(recall_score(y_test, y_pred_GBM)))\n",
    "print(\"f1 = \" + str(f1_score(y_test, y_pred_GBM)))"
   ]
  },
  {
   "cell_type": "code",
   "execution_count": 27,
   "metadata": {},
   "outputs": [
    {
     "name": "stdout",
     "output_type": "stream",
     "text": [
      "0.23541673916948505\n",
      "669694\n",
      "2844717\n"
     ]
    }
   ],
   "source": [
    "sendRate = y_pred_GBM.sum() / y_test.shape[0]\n",
    "print(sendRate)\n",
    "print( y_pred_GBM.sum())\n",
    "print(y_test.shape[0])"
   ]
  },
  {
   "cell_type": "markdown",
   "metadata": {},
   "source": [
    "## Naive Bayes Classification\n"
   ]
  },
  {
   "cell_type": "code",
   "execution_count": 12,
   "metadata": {},
   "outputs": [
    {
     "data": {
      "text/plain": [
       "GaussianNB(priors=None)"
      ]
     },
     "execution_count": 12,
     "metadata": {},
     "output_type": "execute_result"
    }
   ],
   "source": [
    "from sklearn.naive_bayes import GaussianNB\n",
    "modelNB = GaussianNB()\n",
    "modelNB.fit(X_train, y_train)"
   ]
  },
  {
   "cell_type": "code",
   "execution_count": 17,
   "metadata": {},
   "outputs": [
    {
     "name": "stdout",
     "output_type": "stream",
     "text": [
      "acc = 0.41662298736868525\n",
      "recall = 0.9806580447750076\n",
      "f1 = 0.519892219152365\n"
     ]
    }
   ],
   "source": [
    "threshold_NB = 0.1\n",
    "\n",
    "y_pred_proba_NB = modelNB.predict_proba(X_val)\n",
    "y_pred_NB = (y_pred_proba_NB [:,1] >= threshold_NB).astype('int')\n",
    "print(\"acc = \" + str(accuracy_score(y_val, y_pred_NB)))\n",
    "print(\"recall = \" + str(recall_score(y_val, y_pred_NB)))\n",
    "print(\"f1 = \" + str(f1_score(y_val, y_pred_NB)))"
   ]
  },
  {
   "cell_type": "code",
   "execution_count": null,
   "metadata": {},
   "outputs": [],
   "source": []
  }
 ],
 "metadata": {
  "kernelspec": {
   "display_name": "Python 3",
   "language": "python",
   "name": "python3"
  },
  "language_info": {
   "codemirror_mode": {
    "name": "ipython",
    "version": 3
   },
   "file_extension": ".py",
   "mimetype": "text/x-python",
   "name": "python",
   "nbconvert_exporter": "python",
   "pygments_lexer": "ipython3",
   "version": "3.6.6"
  }
 },
 "nbformat": 4,
 "nbformat_minor": 2
}
