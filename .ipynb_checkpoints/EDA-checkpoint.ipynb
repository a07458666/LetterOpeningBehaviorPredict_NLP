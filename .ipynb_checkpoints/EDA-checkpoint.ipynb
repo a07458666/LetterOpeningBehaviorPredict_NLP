{
 "cells": [
  {
   "cell_type": "code",
   "execution_count": 1,
   "metadata": {},
   "outputs": [],
   "source": [
    "import pandas as pd\n",
    "from tqdm import tqdm_notebook\n",
    "import seaborn as sns\n",
    "import matplotlib.pyplot as plt\n",
    "%matplotlib inline\n",
    "sns.set()"
   ]
  },
  {
   "cell_type": "code",
   "execution_count": 2,
   "metadata": {},
   "outputs": [
    {
     "name": "stdout",
     "output_type": "stream",
     "text": [
      "/project/at082-group17/AT082_17_Leopard_Read\n"
     ]
    }
   ],
   "source": [
    "!pwd"
   ]
  },
  {
   "cell_type": "code",
   "execution_count": 3,
   "metadata": {},
   "outputs": [
    {
     "data": {
      "application/vnd.jupyter.widget-view+json": {
       "model_id": "d27fd6ae206b475982ebb9560e28c960",
       "version_major": 2,
       "version_minor": 0
      },
      "text/plain": [
       "HBox(children=(IntProgress(value=0, max=15), HTML(value='')))"
      ]
     },
     "metadata": {},
     "output_type": "display_data"
    },
    {
     "name": "stderr",
     "output_type": "stream",
     "text": [
      "/opt/conda/lib/python3.6/site-packages/IPython/core/interactiveshell.py:2785: DtypeWarning: Columns (5) have mixed types. Specify dtype option on import or set low_memory=False.\n",
      "  interactivity=interactivity, compiler=compiler, result=result)\n",
      "/opt/conda/lib/python3.6/site-packages/IPython/core/interactiveshell.py:2785: DtypeWarning: Columns (4,5) have mixed types. Specify dtype option on import or set low_memory=False.\n",
      "  interactivity=interactivity, compiler=compiler, result=result)\n"
     ]
    },
    {
     "name": "stdout",
     "output_type": "stream",
     "text": [
      "\n"
     ]
    }
   ],
   "source": [
    "parse_dates = ['scheduledDate']\n",
    "dataNameList = ['201801', '201802', '201803', '201804', '201805', '201806', '201807','201808', '201809', '201810', '201811', '201812', '201901', '201902' ,'201903']\n",
    "df_all = pd.DataFrame()\n",
    "\n",
    "for i, name in enumerate(tqdm_notebook(dataNameList)):\n",
    "#for name in dataNameList:\n",
    "    data = pd.read_csv('../data/2018_1_8/{}.csv'.format(name), parse_dates = parse_dates)\n",
    "    df_all = pd.concat((df_all, data), axis = 0, ignore_index = False)"
   ]
  },
  {
   "cell_type": "code",
   "execution_count": 4,
   "metadata": {},
   "outputs": [
    {
     "data": {
      "text/html": [
       "<div>\n",
       "<style scoped>\n",
       "    .dataframe tbody tr th:only-of-type {\n",
       "        vertical-align: middle;\n",
       "    }\n",
       "\n",
       "    .dataframe tbody tr th {\n",
       "        vertical-align: top;\n",
       "    }\n",
       "\n",
       "    .dataframe thead th {\n",
       "        text-align: right;\n",
       "    }\n",
       "</style>\n",
       "<table border=\"1\" class=\"dataframe\">\n",
       "  <thead>\n",
       "    <tr style=\"text-align: right;\">\n",
       "      <th></th>\n",
       "      <th>recipientSn</th>\n",
       "      <th>campaignSn</th>\n",
       "      <th>mailAddress</th>\n",
       "      <th>domain</th>\n",
       "      <th>openedFlag</th>\n",
       "      <th>bouncedFlag</th>\n",
       "      <th>fromName</th>\n",
       "      <th>fromMailAddress</th>\n",
       "      <th>subject</th>\n",
       "      <th>scheduledDate</th>\n",
       "    </tr>\n",
       "  </thead>\n",
       "  <tbody>\n",
       "    <tr>\n",
       "      <th>0</th>\n",
       "      <td>00000000606f8cfb0160af1258331bb9</td>\n",
       "      <td>00000000609630da0160af09b8626299</td>\n",
       "      <td>6a359cb4196db9a02c8d195b73f11374d65591365a37d8...</td>\n",
       "      <td>chwa.com.tw</td>\n",
       "      <td>Y</td>\n",
       "      <td>NaN</td>\n",
       "      <td>傑瑞老人安養中心</td>\n",
       "      <td>jerry.org101@gmail.com</td>\n",
       "      <td>傑瑞電子報第01期-3</td>\n",
       "      <td>2018-01-01 08:14:59</td>\n",
       "    </tr>\n",
       "    <tr>\n",
       "      <th>1</th>\n",
       "      <td>00000000606f8cfb0160af1258891bba</td>\n",
       "      <td>00000000609630da0160af09b8626299</td>\n",
       "      <td>804fdb3632b9c90532fb1abaa5945a8d869ca05b92e75a...</td>\n",
       "      <td>gmail.com</td>\n",
       "      <td>NaN</td>\n",
       "      <td>NaN</td>\n",
       "      <td>傑瑞老人安養中心</td>\n",
       "      <td>jerry.org101@gmail.com</td>\n",
       "      <td>傑瑞電子報第01期-3</td>\n",
       "      <td>2018-01-01 08:14:59</td>\n",
       "    </tr>\n",
       "    <tr>\n",
       "      <th>2</th>\n",
       "      <td>00000000606f8cfb0160af1258891bbb</td>\n",
       "      <td>00000000609630da0160af09b8626299</td>\n",
       "      <td>fa9ae8234796d6caf56919a79af59276f976e928bb65b5...</td>\n",
       "      <td>jerry.org.tw</td>\n",
       "      <td>Y</td>\n",
       "      <td>NaN</td>\n",
       "      <td>傑瑞老人安養中心</td>\n",
       "      <td>jerry.org101@gmail.com</td>\n",
       "      <td>傑瑞電子報第01期-3</td>\n",
       "      <td>2018-01-01 08:14:59</td>\n",
       "    </tr>\n",
       "    <tr>\n",
       "      <th>3</th>\n",
       "      <td>00000000606f8cfb0160af1258891bbc</td>\n",
       "      <td>00000000609630da0160af09b8626299</td>\n",
       "      <td>f58cab34ed3a0687423ecb6a22aba1a7cad758370428ea...</td>\n",
       "      <td>jerry.org.tw</td>\n",
       "      <td>NaN</td>\n",
       "      <td>NaN</td>\n",
       "      <td>傑瑞老人安養中心</td>\n",
       "      <td>jerry.org101@gmail.com</td>\n",
       "      <td>傑瑞電子報第01期-3</td>\n",
       "      <td>2018-01-01 08:14:59</td>\n",
       "    </tr>\n",
       "    <tr>\n",
       "      <th>4</th>\n",
       "      <td>00000000606f8cfb0160af1258891bbd</td>\n",
       "      <td>00000000609630da0160af09b8626299</td>\n",
       "      <td>cfeb0fe0bfb7d18f7a8c904ddeee0319e9f828eb1f2aff...</td>\n",
       "      <td>gmail.com</td>\n",
       "      <td>NaN</td>\n",
       "      <td>Y</td>\n",
       "      <td>傑瑞老人安養中心</td>\n",
       "      <td>jerry.org101@gmail.com</td>\n",
       "      <td>傑瑞電子報第01期-3</td>\n",
       "      <td>2018-01-01 08:14:59</td>\n",
       "    </tr>\n",
       "  </tbody>\n",
       "</table>\n",
       "</div>"
      ],
      "text/plain": [
       "                        recipientSn                        campaignSn  \\\n",
       "0  00000000606f8cfb0160af1258331bb9  00000000609630da0160af09b8626299   \n",
       "1  00000000606f8cfb0160af1258891bba  00000000609630da0160af09b8626299   \n",
       "2  00000000606f8cfb0160af1258891bbb  00000000609630da0160af09b8626299   \n",
       "3  00000000606f8cfb0160af1258891bbc  00000000609630da0160af09b8626299   \n",
       "4  00000000606f8cfb0160af1258891bbd  00000000609630da0160af09b8626299   \n",
       "\n",
       "                                         mailAddress        domain openedFlag  \\\n",
       "0  6a359cb4196db9a02c8d195b73f11374d65591365a37d8...   chwa.com.tw          Y   \n",
       "1  804fdb3632b9c90532fb1abaa5945a8d869ca05b92e75a...     gmail.com        NaN   \n",
       "2  fa9ae8234796d6caf56919a79af59276f976e928bb65b5...  jerry.org.tw          Y   \n",
       "3  f58cab34ed3a0687423ecb6a22aba1a7cad758370428ea...  jerry.org.tw        NaN   \n",
       "4  cfeb0fe0bfb7d18f7a8c904ddeee0319e9f828eb1f2aff...     gmail.com        NaN   \n",
       "\n",
       "  bouncedFlag  fromName          fromMailAddress      subject  \\\n",
       "0         NaN  傑瑞老人安養中心  jerry.org101@gmail.com   傑瑞電子報第01期-3   \n",
       "1         NaN  傑瑞老人安養中心  jerry.org101@gmail.com   傑瑞電子報第01期-3   \n",
       "2         NaN  傑瑞老人安養中心  jerry.org101@gmail.com   傑瑞電子報第01期-3   \n",
       "3         NaN  傑瑞老人安養中心  jerry.org101@gmail.com   傑瑞電子報第01期-3   \n",
       "4           Y  傑瑞老人安養中心  jerry.org101@gmail.com   傑瑞電子報第01期-3   \n",
       "\n",
       "        scheduledDate  \n",
       "0 2018-01-01 08:14:59  \n",
       "1 2018-01-01 08:14:59  \n",
       "2 2018-01-01 08:14:59  \n",
       "3 2018-01-01 08:14:59  \n",
       "4 2018-01-01 08:14:59  "
      ]
     },
     "execution_count": 4,
     "metadata": {},
     "output_type": "execute_result"
    }
   ],
   "source": [
    "df_all.head()"
   ]
  },
  {
   "cell_type": "markdown",
   "metadata": {},
   "source": [
    "# Weekday"
   ]
  },
  {
   "cell_type": "code",
   "execution_count": 5,
   "metadata": {},
   "outputs": [],
   "source": [
    "df_all_week = df_all[['openedFlag', 'scheduledDate']]"
   ]
  },
  {
   "cell_type": "code",
   "execution_count": 6,
   "metadata": {},
   "outputs": [
    {
     "name": "stderr",
     "output_type": "stream",
     "text": [
      "/opt/conda/lib/python3.6/site-packages/ipykernel_launcher.py:1: SettingWithCopyWarning: \n",
      "A value is trying to be set on a copy of a slice from a DataFrame.\n",
      "Try using .loc[row_indexer,col_indexer] = value instead\n",
      "\n",
      "See the caveats in the documentation: http://pandas.pydata.org/pandas-docs/stable/indexing.html#indexing-view-versus-copy\n",
      "  \"\"\"Entry point for launching an IPython kernel.\n"
     ]
    }
   ],
   "source": [
    "df_all_week['weekday'] = df_all_week['scheduledDate'].dt.weekday"
   ]
  },
  {
   "cell_type": "code",
   "execution_count": 7,
   "metadata": {},
   "outputs": [],
   "source": [
    "week_openrate = []\n",
    "for i in range(7):\n",
    "    week_openrate.append(len(df_all_week[(df_all_week['weekday'] == i) & (df_all_week['openedFlag'] == 'Y')]) / len(df_all_week[(df_all_week['weekday'] == i)]))"
   ]
  },
  {
   "cell_type": "code",
   "execution_count": 8,
   "metadata": {},
   "outputs": [
    {
     "data": {
      "image/png": "[encoded data removed]",
      "text/plain": [
       "<Figure size 432x288 with 1 Axes>"
      ]
     },
     "metadata": {
      "needs_background": "light"
     },
     "output_type": "display_data"
    }
   ],
   "source": [
    "plt.figure()\n",
    "plt.title(\"Weekday Openrate\")\n",
    "plt.bar(range(len(week_openrate)), week_openrate,\n",
    "       color=\"b\", align=\"center\")\n",
    "plt.xticks(range(len(week_openrate)), ['MON', 'TUE', 'WED', 'THU', 'FRI', 'SAT', 'SUN'])\n",
    "plt.show()"
   ]
  },
  {
   "cell_type": "markdown",
   "metadata": {},
   "source": [
    "# Hour"
   ]
  },
  {
   "cell_type": "code",
   "execution_count": 9,
   "metadata": {},
   "outputs": [],
   "source": [
    "df_all_hour = df_all[['openedFlag', 'scheduledDate']]"
   ]
  },
  {
   "cell_type": "code",
   "execution_count": 10,
   "metadata": {},
   "outputs": [
    {
     "name": "stderr",
     "output_type": "stream",
     "text": [
      "/opt/conda/lib/python3.6/site-packages/ipykernel_launcher.py:1: SettingWithCopyWarning: \n",
      "A value is trying to be set on a copy of a slice from a DataFrame.\n",
      "Try using .loc[row_indexer,col_indexer] = value instead\n",
      "\n",
      "See the caveats in the documentation: http://pandas.pydata.org/pandas-docs/stable/indexing.html#indexing-view-versus-copy\n",
      "  \"\"\"Entry point for launching an IPython kernel.\n"
     ]
    }
   ],
   "source": [
    "df_all_hour['hour'] = df_all_week['scheduledDate'].dt.hour"
   ]
  },
  {
   "cell_type": "code",
   "execution_count": 11,
   "metadata": {},
   "outputs": [
    {
     "data": {
      "text/plain": [
       "24"
      ]
     },
     "execution_count": 11,
     "metadata": {},
     "output_type": "execute_result"
    }
   ],
   "source": [
    "df_all_hour['hour'].nunique()"
   ]
  },
  {
   "cell_type": "code",
   "execution_count": 12,
   "metadata": {},
   "outputs": [],
   "source": [
    "hour_openrate = []\n",
    "for i in range(24):\n",
    "    hour_openrate.append(len(df_all_hour[(df_all_hour['hour'] == i) & (df_all_hour['openedFlag'] == 'Y')]) / len(df_all_hour[(df_all_hour['hour'] == i)]))"
   ]
  },
  {
   "cell_type": "code",
   "execution_count": 13,
   "metadata": {},
   "outputs": [
    {
     "data": {
      "image/png": "[encoded data removed]",
      "text/plain": [
       "<Figure size 432x288 with 1 Axes>"
      ]
     },
     "metadata": {
      "needs_background": "light"
     },
     "output_type": "display_data"
    }
   ],
   "source": [
    "plt.figure()\n",
    "plt.title(\"Hour Openrate\")\n",
    "plt.bar(range(len(hour_openrate)), hour_openrate,\n",
    "       color=\"b\", align=\"center\")\n",
    "plt.xticks(range(len(hour_openrate)), range(24))\n",
    "plt.show()"
   ]
  },
  {
   "cell_type": "code",
   "execution_count": 14,
   "metadata": {},
   "outputs": [],
   "source": [
    "# "
   ]
  },
  {
   "cell_type": "code",
   "execution_count": 15,
   "metadata": {},
   "outputs": [],
   "source": [
    "df_all_from = df_all[['openedFlag', 'fromMailAddress']]"
   ]
  },
  {
   "cell_type": "code",
   "execution_count": 16,
   "metadata": {},
   "outputs": [
    {
     "name": "stderr",
     "output_type": "stream",
     "text": [
      "/opt/conda/lib/python3.6/site-packages/ipykernel_launcher.py:1: SettingWithCopyWarning: \n",
      "A value is trying to be set on a copy of a slice from a DataFrame.\n",
      "Try using .loc[row_indexer,col_indexer] = value instead\n",
      "\n",
      "See the caveats in the documentation: http://pandas.pydata.org/pandas-docs/stable/indexing.html#indexing-view-versus-copy\n",
      "  \"\"\"Entry point for launching an IPython kernel.\n"
     ]
    }
   ],
   "source": [
    "df_all_from['openedFlag'] = df_all_from['openedFlag'].fillna('N')"
   ]
  },
  {
   "cell_type": "code",
   "execution_count": 19,
   "metadata": {},
   "outputs": [
    {
     "data": {
      "text/plain": [
       "fromMailAddress            openedFlag\n",
       " biolasco@biolasco.com.tw  N              3257\n",
       "                           Y               876\n",
       " edm@pekoe.com.tw          N             64301\n",
       "                           Y              4394\n",
       " elleshop@allyoung.com.tw  N             21721\n",
       "Name: openedFlag, dtype: int64"
      ]
     },
     "execution_count": 19,
     "metadata": {},
     "output_type": "execute_result"
    }
   ],
   "source": [
    "df_all_from.groupby( ['fromMailAddress', 'openedFlag'])['openedFlag'].count()"
   ]
  },
  {
   "cell_type": "code",
   "execution_count": 24,
   "metadata": {},
   "outputs": [],
   "source": [
    "fromMailAddress_list = df_all_from['fromMailAddress'].unique()"
   ]
  },
  {
   "cell_type": "code",
   "execution_count": 25,
   "metadata": {},
   "outputs": [
    {
     "ename": "KeyboardInterrupt",
     "evalue": "",
     "output_type": "error",
     "traceback": [
      "\u001b[0;31m---------------------------------------------------------------------------\u001b[0m",
      "\u001b[0;31mKeyboardInterrupt\u001b[0m                         Traceback (most recent call last)",
      "\u001b[0;32m<ipython-input-25-e64d1bad822c>\u001b[0m in \u001b[0;36m<module>\u001b[0;34m()\u001b[0m\n\u001b[1;32m      1\u001b[0m \u001b[0mfromMailAddress_openrate\u001b[0m \u001b[0;34m=\u001b[0m \u001b[0;34m[\u001b[0m\u001b[0;34m]\u001b[0m\u001b[0;34m\u001b[0m\u001b[0m\n\u001b[1;32m      2\u001b[0m \u001b[0;32mfor\u001b[0m \u001b[0madd\u001b[0m \u001b[0;32min\u001b[0m \u001b[0mfromMailAddress_list\u001b[0m\u001b[0;34m:\u001b[0m\u001b[0;34m\u001b[0m\u001b[0m\n\u001b[0;32m----> 3\u001b[0;31m     \u001b[0mfromMailAddress_openrate\u001b[0m\u001b[0;34m.\u001b[0m\u001b[0mappend\u001b[0m\u001b[0;34m(\u001b[0m\u001b[0mlen\u001b[0m\u001b[0;34m(\u001b[0m\u001b[0mdf_all_from\u001b[0m\u001b[0;34m[\u001b[0m\u001b[0;34m(\u001b[0m\u001b[0mdf_all_from\u001b[0m\u001b[0;34m[\u001b[0m\u001b[0;34m'fromMailAddress'\u001b[0m\u001b[0;34m]\u001b[0m \u001b[0;34m==\u001b[0m \u001b[0madd\u001b[0m\u001b[0;34m)\u001b[0m \u001b[0;34m&\u001b[0m \u001b[0;34m(\u001b[0m\u001b[0mdf_all_from\u001b[0m\u001b[0;34m[\u001b[0m\u001b[0;34m'openedFlag'\u001b[0m\u001b[0;34m]\u001b[0m \u001b[0;34m==\u001b[0m \u001b[0;34m'Y'\u001b[0m\u001b[0;34m)\u001b[0m\u001b[0;34m]\u001b[0m\u001b[0;34m)\u001b[0m \u001b[0;34m/\u001b[0m \u001b[0mlen\u001b[0m\u001b[0;34m(\u001b[0m\u001b[0mdf_all_from\u001b[0m\u001b[0;34m[\u001b[0m\u001b[0mdf_all_from\u001b[0m\u001b[0;34m[\u001b[0m\u001b[0;34m'fromMailAddress'\u001b[0m\u001b[0;34m]\u001b[0m \u001b[0;34m==\u001b[0m \u001b[0madd\u001b[0m\u001b[0;34m]\u001b[0m\u001b[0;34m)\u001b[0m\u001b[0;34m)\u001b[0m\u001b[0;34m\u001b[0m\u001b[0m\n\u001b[0m",
      "\u001b[0;32m/opt/conda/lib/python3.6/site-packages/pandas/core/ops.py\u001b[0m in \u001b[0;36mwrapper\u001b[0;34m(self, other, axis)\u001b[0m\n\u001b[1;32m   1281\u001b[0m \u001b[0;34m\u001b[0m\u001b[0m\n\u001b[1;32m   1282\u001b[0m             \u001b[0;32mwith\u001b[0m \u001b[0mnp\u001b[0m\u001b[0;34m.\u001b[0m\u001b[0merrstate\u001b[0m\u001b[0;34m(\u001b[0m\u001b[0mall\u001b[0m\u001b[0;34m=\u001b[0m\u001b[0;34m'ignore'\u001b[0m\u001b[0;34m)\u001b[0m\u001b[0;34m:\u001b[0m\u001b[0;34m\u001b[0m\u001b[0m\n\u001b[0;32m-> 1283\u001b[0;31m                 \u001b[0mres\u001b[0m \u001b[0;34m=\u001b[0m \u001b[0mna_op\u001b[0m\u001b[0;34m(\u001b[0m\u001b[0mvalues\u001b[0m\u001b[0;34m,\u001b[0m \u001b[0mother\u001b[0m\u001b[0;34m)\u001b[0m\u001b[0;34m\u001b[0m\u001b[0m\n\u001b[0m\u001b[1;32m   1284\u001b[0m             \u001b[0;32mif\u001b[0m \u001b[0mis_scalar\u001b[0m\u001b[0;34m(\u001b[0m\u001b[0mres\u001b[0m\u001b[0;34m)\u001b[0m\u001b[0;34m:\u001b[0m\u001b[0;34m\u001b[0m\u001b[0m\n\u001b[1;32m   1285\u001b[0m                 raise TypeError('Could not compare {typ} type with Series'\n",
      "\u001b[0;32m/opt/conda/lib/python3.6/site-packages/pandas/core/ops.py\u001b[0m in \u001b[0;36mna_op\u001b[0;34m(x, y)\u001b[0m\n\u001b[1;32m   1141\u001b[0m \u001b[0;34m\u001b[0m\u001b[0m\n\u001b[1;32m   1142\u001b[0m         \u001b[0;32melif\u001b[0m \u001b[0mis_object_dtype\u001b[0m\u001b[0;34m(\u001b[0m\u001b[0mx\u001b[0m\u001b[0;34m.\u001b[0m\u001b[0mdtype\u001b[0m\u001b[0;34m)\u001b[0m\u001b[0;34m:\u001b[0m\u001b[0;34m\u001b[0m\u001b[0m\n\u001b[0;32m-> 1143\u001b[0;31m             \u001b[0mresult\u001b[0m \u001b[0;34m=\u001b[0m \u001b[0m_comp_method_OBJECT_ARRAY\u001b[0m\u001b[0;34m(\u001b[0m\u001b[0mop\u001b[0m\u001b[0;34m,\u001b[0m \u001b[0mx\u001b[0m\u001b[0;34m,\u001b[0m \u001b[0my\u001b[0m\u001b[0;34m)\u001b[0m\u001b[0;34m\u001b[0m\u001b[0m\n\u001b[0m\u001b[1;32m   1144\u001b[0m \u001b[0;34m\u001b[0m\u001b[0m\n\u001b[1;32m   1145\u001b[0m         \u001b[0;32melif\u001b[0m \u001b[0mis_datetimelike_v_numeric\u001b[0m\u001b[0;34m(\u001b[0m\u001b[0mx\u001b[0m\u001b[0;34m,\u001b[0m \u001b[0my\u001b[0m\u001b[0;34m)\u001b[0m\u001b[0;34m:\u001b[0m\u001b[0;34m\u001b[0m\u001b[0m\n",
      "\u001b[0;32m/opt/conda/lib/python3.6/site-packages/pandas/core/ops.py\u001b[0m in \u001b[0;36m_comp_method_OBJECT_ARRAY\u001b[0;34m(op, x, y)\u001b[0m\n\u001b[1;32m   1120\u001b[0m         \u001b[0mresult\u001b[0m \u001b[0;34m=\u001b[0m \u001b[0mlibops\u001b[0m\u001b[0;34m.\u001b[0m\u001b[0mvec_compare\u001b[0m\u001b[0;34m(\u001b[0m\u001b[0mx\u001b[0m\u001b[0;34m,\u001b[0m \u001b[0my\u001b[0m\u001b[0;34m,\u001b[0m \u001b[0mop\u001b[0m\u001b[0;34m)\u001b[0m\u001b[0;34m\u001b[0m\u001b[0m\n\u001b[1;32m   1121\u001b[0m     \u001b[0;32melse\u001b[0m\u001b[0;34m:\u001b[0m\u001b[0;34m\u001b[0m\u001b[0m\n\u001b[0;32m-> 1122\u001b[0;31m         \u001b[0mresult\u001b[0m \u001b[0;34m=\u001b[0m \u001b[0mlibops\u001b[0m\u001b[0;34m.\u001b[0m\u001b[0mscalar_compare\u001b[0m\u001b[0;34m(\u001b[0m\u001b[0mx\u001b[0m\u001b[0;34m,\u001b[0m \u001b[0my\u001b[0m\u001b[0;34m,\u001b[0m \u001b[0mop\u001b[0m\u001b[0;34m)\u001b[0m\u001b[0;34m\u001b[0m\u001b[0m\n\u001b[0m\u001b[1;32m   1123\u001b[0m     \u001b[0;32mreturn\u001b[0m \u001b[0mresult\u001b[0m\u001b[0;34m\u001b[0m\u001b[0m\n\u001b[1;32m   1124\u001b[0m \u001b[0;34m\u001b[0m\u001b[0m\n",
      "\u001b[0;31mKeyboardInterrupt\u001b[0m: "
     ]
    }
   ],
   "source": [
    "fromMailAddress_openrate = []\n",
    "for add in fromMailAddress_list:\n",
    "    fromMailAddress_openrate.append(len(df_all_from[(df_all_from['fromMailAddress'] == add) & (df_all_from['openedFlag'] == 'Y')]) / len(df_all_from[df_all_from['fromMailAddress'] == add]))"
   ]
  },
  {
   "cell_type": "code",
   "execution_count": null,
   "metadata": {},
   "outputs": [],
   "source": [
    "fromMailAddress_openrate.sort()"
   ]
  }
 ],
 "metadata": {
  "kernelspec": {
   "display_name": "Python 3",
   "language": "python",
   "name": "python3"
  },
  "language_info": {
   "codemirror_mode": {
    "name": "ipython",
    "version": 3
   },
   "file_extension": ".py",
   "mimetype": "text/x-python",
   "name": "python",
   "nbconvert_exporter": "python",
   "pygments_lexer": "ipython3",
   "version": "3.6.6"
  }
 },
 "nbformat": 4,
 "nbformat_minor": 2
}
