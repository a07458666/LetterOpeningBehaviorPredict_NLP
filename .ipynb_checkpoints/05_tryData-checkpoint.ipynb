{
 "cells": [
  {
   "cell_type": "markdown",
   "metadata": {},
   "source": [
    "# 讀取開信行為資料\n",
    "\n",
    "recipientSn 寄信行為<br>\n",
    "campaignSn 活動編號<br>\n",
    "mailAddress 收件人email<br>\n",
    "domain 收件eamil的domain<br>\n",
    "openedFlag 開信行為<br>"
   ]
  },
  {
   "cell_type": "code",
   "execution_count": 1,
   "metadata": {},
   "outputs": [],
   "source": [
    "import pandas as pd\n",
    "import re\n",
    "import os\n",
    "import jieba\n",
    "import jieba.posseg as pseg\n",
    "import pickle\n",
    "import numpy as np\n",
    "from tqdm import tqdm_notebook"
   ]
  },
  {
   "cell_type": "code",
   "execution_count": 2,
   "metadata": {},
   "outputs": [
    {
     "data": {
      "text/plain": [
       "'/project/at082-group17'"
      ]
     },
     "execution_count": 2,
     "metadata": {},
     "output_type": "execute_result"
    }
   ],
   "source": [
    "## turn back to main directory\n",
    "os.chdir(\"../\")\n",
    "os.getcwd()"
   ]
  },
  {
   "cell_type": "code",
   "execution_count": 25,
   "metadata": {},
   "outputs": [],
   "source": [
    "fileName = '201809'"
   ]
  },
  {
   "cell_type": "markdown",
   "metadata": {},
   "source": [
    "## 篩選要讀取的欄位"
   ]
  },
  {
   "cell_type": "code",
   "execution_count": 26,
   "metadata": {},
   "outputs": [
    {
     "name": "stdout",
     "output_type": "stream",
     "text": [
      "['recipientSn', 'campaignSn', 'mailAddress', 'domain', 'openedFlag', 'bouncedFlag', 'fromMailAddress', 'scheduledDate']\n"
     ]
    }
   ],
   "source": [
    "# 取出col欄位\n",
    "useCols = list(pd.read_csv('data/2018_1_8/' + fileName + '.csv', nrows =1))\n",
    "useCols.remove('subject')\n",
    "useCols.remove('fromName')\n",
    "print(useCols)"
   ]
  },
  {
   "cell_type": "markdown",
   "metadata": {},
   "source": [
    "## 讀檔！！！ 這很久"
   ]
  },
  {
   "cell_type": "code",
   "execution_count": 27,
   "metadata": {},
   "outputs": [],
   "source": [
    "openMailData = pd.read_csv('data/2018_1_8/' + fileName + '.csv', usecols = useCols, parse_dates = ['scheduledDate'])"
   ]
  },
  {
   "cell_type": "code",
   "execution_count": 28,
   "metadata": {},
   "outputs": [
    {
     "data": {
      "text/html": [
       "<div>\n",
       "<style scoped>\n",
       "    .dataframe tbody tr th:only-of-type {\n",
       "        vertical-align: middle;\n",
       "    }\n",
       "\n",
       "    .dataframe tbody tr th {\n",
       "        vertical-align: top;\n",
       "    }\n",
       "\n",
       "    .dataframe thead th {\n",
       "        text-align: right;\n",
       "    }\n",
       "</style>\n",
       "<table border=\"1\" class=\"dataframe\">\n",
       "  <thead>\n",
       "    <tr style=\"text-align: right;\">\n",
       "      <th></th>\n",
       "      <th>recipientSn</th>\n",
       "      <th>campaignSn</th>\n",
       "      <th>mailAddress</th>\n",
       "      <th>domain</th>\n",
       "      <th>openedFlag</th>\n",
       "      <th>bouncedFlag</th>\n",
       "      <th>fromMailAddress</th>\n",
       "      <th>scheduledDate</th>\n",
       "    </tr>\n",
       "  </thead>\n",
       "  <tbody>\n",
       "    <tr>\n",
       "      <th>0</th>\n",
       "      <td>0000000065851670016590cec5b01c31</td>\n",
       "      <td>0000000065862abb016590cd07103ef2</td>\n",
       "      <td>a76eb4e04329c7b991916c1c683f50b48136da1f61a4ab...</td>\n",
       "      <td>gmail.com</td>\n",
       "      <td>Y</td>\n",
       "      <td>NaN</td>\n",
       "      <td>yippee@mail.ncku.edu.tw</td>\n",
       "      <td>2018-09-01 00:26:30</td>\n",
       "    </tr>\n",
       "    <tr>\n",
       "      <th>1</th>\n",
       "      <td>0000000065851670016590ced8221c32</td>\n",
       "      <td>0000000065862abb016590cd07103ef2</td>\n",
       "      <td>43067fbd95f879bccc33b202b56c5e0e863c4b9e66bc40...</td>\n",
       "      <td>ms17.hinet.net</td>\n",
       "      <td>NaN</td>\n",
       "      <td>NaN</td>\n",
       "      <td>yippee@mail.ncku.edu.tw</td>\n",
       "      <td>2018-09-01 00:26:30</td>\n",
       "    </tr>\n",
       "    <tr>\n",
       "      <th>2</th>\n",
       "      <td>0000000065851670016590ced8221c33</td>\n",
       "      <td>0000000065862abb016590cd07103ef2</td>\n",
       "      <td>12b42bf1af628523bc100e781efb4766ab08c42f333924...</td>\n",
       "      <td>ms29.hinet.net</td>\n",
       "      <td>NaN</td>\n",
       "      <td>NaN</td>\n",
       "      <td>yippee@mail.ncku.edu.tw</td>\n",
       "      <td>2018-09-01 00:26:30</td>\n",
       "    </tr>\n",
       "    <tr>\n",
       "      <th>3</th>\n",
       "      <td>0000000065851670016590ced8221c34</td>\n",
       "      <td>0000000065862abb016590cd07103ef2</td>\n",
       "      <td>a2f9884a3f72089c5cd2f2381608530e30cb18ee22b8bd...</td>\n",
       "      <td>gmail.com</td>\n",
       "      <td>NaN</td>\n",
       "      <td>NaN</td>\n",
       "      <td>yippee@mail.ncku.edu.tw</td>\n",
       "      <td>2018-09-01 00:26:30</td>\n",
       "    </tr>\n",
       "    <tr>\n",
       "      <th>4</th>\n",
       "      <td>0000000065851670016590ced8231c35</td>\n",
       "      <td>0000000065862abb016590cd07103ef2</td>\n",
       "      <td>e0314174d4d4a1507f692498999ad5fd828dd1efd75bf7...</td>\n",
       "      <td>hotmail.com</td>\n",
       "      <td>Y</td>\n",
       "      <td>NaN</td>\n",
       "      <td>yippee@mail.ncku.edu.tw</td>\n",
       "      <td>2018-09-01 00:26:30</td>\n",
       "    </tr>\n",
       "  </tbody>\n",
       "</table>\n",
       "</div>"
      ],
      "text/plain": [
       "                        recipientSn                        campaignSn  \\\n",
       "0  0000000065851670016590cec5b01c31  0000000065862abb016590cd07103ef2   \n",
       "1  0000000065851670016590ced8221c32  0000000065862abb016590cd07103ef2   \n",
       "2  0000000065851670016590ced8221c33  0000000065862abb016590cd07103ef2   \n",
       "3  0000000065851670016590ced8221c34  0000000065862abb016590cd07103ef2   \n",
       "4  0000000065851670016590ced8231c35  0000000065862abb016590cd07103ef2   \n",
       "\n",
       "                                         mailAddress          domain  \\\n",
       "0  a76eb4e04329c7b991916c1c683f50b48136da1f61a4ab...       gmail.com   \n",
       "1  43067fbd95f879bccc33b202b56c5e0e863c4b9e66bc40...  ms17.hinet.net   \n",
       "2  12b42bf1af628523bc100e781efb4766ab08c42f333924...  ms29.hinet.net   \n",
       "3  a2f9884a3f72089c5cd2f2381608530e30cb18ee22b8bd...       gmail.com   \n",
       "4  e0314174d4d4a1507f692498999ad5fd828dd1efd75bf7...     hotmail.com   \n",
       "\n",
       "  openedFlag bouncedFlag          fromMailAddress       scheduledDate  \n",
       "0          Y         NaN  yippee@mail.ncku.edu.tw 2018-09-01 00:26:30  \n",
       "1        NaN         NaN  yippee@mail.ncku.edu.tw 2018-09-01 00:26:30  \n",
       "2        NaN         NaN  yippee@mail.ncku.edu.tw 2018-09-01 00:26:30  \n",
       "3        NaN         NaN  yippee@mail.ncku.edu.tw 2018-09-01 00:26:30  \n",
       "4          Y         NaN  yippee@mail.ncku.edu.tw 2018-09-01 00:26:30  "
      ]
     },
     "execution_count": 28,
     "metadata": {},
     "output_type": "execute_result"
    }
   ],
   "source": [
    "openMailData.head()"
   ]
  },
  {
   "cell_type": "markdown",
   "metadata": {},
   "source": [
    "## 將被退信的資料移除 並刪除’bouncedFlag‘欄位"
   ]
  },
  {
   "cell_type": "code",
   "execution_count": 29,
   "metadata": {},
   "outputs": [],
   "source": [
    "openMailDataIndex = openMailData['bouncedFlag'] != 'Y'\n",
    "openMailData = openMailData[openMailDataIndex]\n",
    "del openMailData['bouncedFlag']"
   ]
  },
  {
   "cell_type": "markdown",
   "metadata": {},
   "source": [
    "## 將openedFlag 轉bool"
   ]
  },
  {
   "cell_type": "code",
   "execution_count": 30,
   "metadata": {},
   "outputs": [],
   "source": [
    "openMailData['openedFlag'] = openMailData['openedFlag'] == 'Y'"
   ]
  },
  {
   "cell_type": "code",
   "execution_count": 31,
   "metadata": {},
   "outputs": [
    {
     "data": {
      "text/html": [
       "<div>\n",
       "<style scoped>\n",
       "    .dataframe tbody tr th:only-of-type {\n",
       "        vertical-align: middle;\n",
       "    }\n",
       "\n",
       "    .dataframe tbody tr th {\n",
       "        vertical-align: top;\n",
       "    }\n",
       "\n",
       "    .dataframe thead th {\n",
       "        text-align: right;\n",
       "    }\n",
       "</style>\n",
       "<table border=\"1\" class=\"dataframe\">\n",
       "  <thead>\n",
       "    <tr style=\"text-align: right;\">\n",
       "      <th></th>\n",
       "      <th>recipientSn</th>\n",
       "      <th>campaignSn</th>\n",
       "      <th>mailAddress</th>\n",
       "      <th>domain</th>\n",
       "      <th>openedFlag</th>\n",
       "      <th>fromMailAddress</th>\n",
       "      <th>scheduledDate</th>\n",
       "    </tr>\n",
       "  </thead>\n",
       "  <tbody>\n",
       "    <tr>\n",
       "      <th>count</th>\n",
       "      <td>9728435</td>\n",
       "      <td>9728435</td>\n",
       "      <td>9728435</td>\n",
       "      <td>9728435</td>\n",
       "      <td>9728435</td>\n",
       "      <td>9728435</td>\n",
       "      <td>9728435</td>\n",
       "    </tr>\n",
       "    <tr>\n",
       "      <th>unique</th>\n",
       "      <td>9728435</td>\n",
       "      <td>3286</td>\n",
       "      <td>4217922</td>\n",
       "      <td>89534</td>\n",
       "      <td>2</td>\n",
       "      <td>727</td>\n",
       "      <td>2950</td>\n",
       "    </tr>\n",
       "    <tr>\n",
       "      <th>top</th>\n",
       "      <td>00000000658516700165fa141a1e1ab0</td>\n",
       "      <td>0000000065f22c3c0165fa4e76026b8d</td>\n",
       "      <td>70a0b4aface445d4c01fcda547e15043d5b0a97f74e201...</td>\n",
       "      <td>gmail.com</td>\n",
       "      <td>False</td>\n",
       "      <td>askme@brain.com.tw</td>\n",
       "      <td>2018-09-25 00:00:00</td>\n",
       "    </tr>\n",
       "    <tr>\n",
       "      <th>freq</th>\n",
       "      <td>1</td>\n",
       "      <td>314573</td>\n",
       "      <td>172</td>\n",
       "      <td>3847399</td>\n",
       "      <td>8395850</td>\n",
       "      <td>575157</td>\n",
       "      <td>314573</td>\n",
       "    </tr>\n",
       "    <tr>\n",
       "      <th>first</th>\n",
       "      <td>NaN</td>\n",
       "      <td>NaN</td>\n",
       "      <td>NaN</td>\n",
       "      <td>NaN</td>\n",
       "      <td>NaN</td>\n",
       "      <td>NaN</td>\n",
       "      <td>2018-09-01 00:26:30</td>\n",
       "    </tr>\n",
       "    <tr>\n",
       "      <th>last</th>\n",
       "      <td>NaN</td>\n",
       "      <td>NaN</td>\n",
       "      <td>NaN</td>\n",
       "      <td>NaN</td>\n",
       "      <td>NaN</td>\n",
       "      <td>NaN</td>\n",
       "      <td>2018-09-30 23:41:02</td>\n",
       "    </tr>\n",
       "  </tbody>\n",
       "</table>\n",
       "</div>"
      ],
      "text/plain": [
       "                             recipientSn                        campaignSn  \\\n",
       "count                            9728435                           9728435   \n",
       "unique                           9728435                              3286   \n",
       "top     00000000658516700165fa141a1e1ab0  0000000065f22c3c0165fa4e76026b8d   \n",
       "freq                                   1                            314573   \n",
       "first                                NaN                               NaN   \n",
       "last                                 NaN                               NaN   \n",
       "\n",
       "                                              mailAddress     domain  \\\n",
       "count                                             9728435    9728435   \n",
       "unique                                            4217922      89534   \n",
       "top     70a0b4aface445d4c01fcda547e15043d5b0a97f74e201...  gmail.com   \n",
       "freq                                                  172    3847399   \n",
       "first                                                 NaN        NaN   \n",
       "last                                                  NaN        NaN   \n",
       "\n",
       "       openedFlag     fromMailAddress        scheduledDate  \n",
       "count     9728435             9728435              9728435  \n",
       "unique          2                 727                 2950  \n",
       "top         False  askme@brain.com.tw  2018-09-25 00:00:00  \n",
       "freq      8395850              575157               314573  \n",
       "first         NaN                 NaN  2018-09-01 00:26:30  \n",
       "last          NaN                 NaN  2018-09-30 23:41:02  "
      ]
     },
     "execution_count": 31,
     "metadata": {},
     "output_type": "execute_result"
    }
   ],
   "source": [
    "openMailData.describe()"
   ]
  },
  {
   "cell_type": "markdown",
   "metadata": {},
   "source": [
    "## Features Combination by groupby(對domain做處理)"
   ]
  },
  {
   "cell_type": "code",
   "execution_count": 32,
   "metadata": {},
   "outputs": [
    {
     "data": {
      "text/html": [
       "<div>\n",
       "<style scoped>\n",
       "    .dataframe tbody tr th:only-of-type {\n",
       "        vertical-align: middle;\n",
       "    }\n",
       "\n",
       "    .dataframe tbody tr th {\n",
       "        vertical-align: top;\n",
       "    }\n",
       "\n",
       "    .dataframe thead th {\n",
       "        text-align: right;\n",
       "    }\n",
       "</style>\n",
       "<table border=\"1\" class=\"dataframe\">\n",
       "  <thead>\n",
       "    <tr style=\"text-align: right;\">\n",
       "      <th></th>\n",
       "      <th>recipientSn</th>\n",
       "      <th>campaignSn</th>\n",
       "      <th>mailAddress</th>\n",
       "      <th>domain</th>\n",
       "      <th>openedFlag</th>\n",
       "      <th>fromMailAddress</th>\n",
       "      <th>scheduledDate</th>\n",
       "      <th>domain_count</th>\n",
       "    </tr>\n",
       "  </thead>\n",
       "  <tbody>\n",
       "    <tr>\n",
       "      <th>0</th>\n",
       "      <td>0000000065851670016590cec5b01c31</td>\n",
       "      <td>0000000065862abb016590cd07103ef2</td>\n",
       "      <td>a76eb4e04329c7b991916c1c683f50b48136da1f61a4ab...</td>\n",
       "      <td>gmail.com</td>\n",
       "      <td>True</td>\n",
       "      <td>yippee@mail.ncku.edu.tw</td>\n",
       "      <td>2018-09-01 00:26:30</td>\n",
       "      <td>3847399</td>\n",
       "    </tr>\n",
       "    <tr>\n",
       "      <th>1</th>\n",
       "      <td>0000000065851670016590ced8221c32</td>\n",
       "      <td>0000000065862abb016590cd07103ef2</td>\n",
       "      <td>43067fbd95f879bccc33b202b56c5e0e863c4b9e66bc40...</td>\n",
       "      <td>ms17.hinet.net</td>\n",
       "      <td>False</td>\n",
       "      <td>yippee@mail.ncku.edu.tw</td>\n",
       "      <td>2018-09-01 00:26:30</td>\n",
       "      <td>3963</td>\n",
       "    </tr>\n",
       "    <tr>\n",
       "      <th>2</th>\n",
       "      <td>0000000065851670016590ced8221c33</td>\n",
       "      <td>0000000065862abb016590cd07103ef2</td>\n",
       "      <td>12b42bf1af628523bc100e781efb4766ab08c42f333924...</td>\n",
       "      <td>ms29.hinet.net</td>\n",
       "      <td>False</td>\n",
       "      <td>yippee@mail.ncku.edu.tw</td>\n",
       "      <td>2018-09-01 00:26:30</td>\n",
       "      <td>2478</td>\n",
       "    </tr>\n",
       "    <tr>\n",
       "      <th>3</th>\n",
       "      <td>0000000065851670016590ced8221c34</td>\n",
       "      <td>0000000065862abb016590cd07103ef2</td>\n",
       "      <td>a2f9884a3f72089c5cd2f2381608530e30cb18ee22b8bd...</td>\n",
       "      <td>gmail.com</td>\n",
       "      <td>False</td>\n",
       "      <td>yippee@mail.ncku.edu.tw</td>\n",
       "      <td>2018-09-01 00:26:30</td>\n",
       "      <td>3847399</td>\n",
       "    </tr>\n",
       "    <tr>\n",
       "      <th>4</th>\n",
       "      <td>0000000065851670016590ced8231c35</td>\n",
       "      <td>0000000065862abb016590cd07103ef2</td>\n",
       "      <td>e0314174d4d4a1507f692498999ad5fd828dd1efd75bf7...</td>\n",
       "      <td>hotmail.com</td>\n",
       "      <td>True</td>\n",
       "      <td>yippee@mail.ncku.edu.tw</td>\n",
       "      <td>2018-09-01 00:26:30</td>\n",
       "      <td>1075598</td>\n",
       "    </tr>\n",
       "  </tbody>\n",
       "</table>\n",
       "</div>"
      ],
      "text/plain": [
       "                        recipientSn                        campaignSn  \\\n",
       "0  0000000065851670016590cec5b01c31  0000000065862abb016590cd07103ef2   \n",
       "1  0000000065851670016590ced8221c32  0000000065862abb016590cd07103ef2   \n",
       "2  0000000065851670016590ced8221c33  0000000065862abb016590cd07103ef2   \n",
       "3  0000000065851670016590ced8221c34  0000000065862abb016590cd07103ef2   \n",
       "4  0000000065851670016590ced8231c35  0000000065862abb016590cd07103ef2   \n",
       "\n",
       "                                         mailAddress          domain  \\\n",
       "0  a76eb4e04329c7b991916c1c683f50b48136da1f61a4ab...       gmail.com   \n",
       "1  43067fbd95f879bccc33b202b56c5e0e863c4b9e66bc40...  ms17.hinet.net   \n",
       "2  12b42bf1af628523bc100e781efb4766ab08c42f333924...  ms29.hinet.net   \n",
       "3  a2f9884a3f72089c5cd2f2381608530e30cb18ee22b8bd...       gmail.com   \n",
       "4  e0314174d4d4a1507f692498999ad5fd828dd1efd75bf7...     hotmail.com   \n",
       "\n",
       "   openedFlag          fromMailAddress       scheduledDate  domain_count  \n",
       "0        True  yippee@mail.ncku.edu.tw 2018-09-01 00:26:30       3847399  \n",
       "1       False  yippee@mail.ncku.edu.tw 2018-09-01 00:26:30          3963  \n",
       "2       False  yippee@mail.ncku.edu.tw 2018-09-01 00:26:30          2478  \n",
       "3       False  yippee@mail.ncku.edu.tw 2018-09-01 00:26:30       3847399  \n",
       "4        True  yippee@mail.ncku.edu.tw 2018-09-01 00:26:30       1075598  "
      ]
     },
     "execution_count": 32,
     "metadata": {},
     "output_type": "execute_result"
    }
   ],
   "source": [
    "df_temp = openMailData[[\"domain\", \"scheduledDate\"]].groupby(\"domain\").count().reset_index()\n",
    "df_temp.columns = [\"domain\", \"domain_count\"]\n",
    "openMailData = openMailData.merge(df_temp, how=\"left\", on=\"domain\")\n",
    "openMailData.head()"
   ]
  },
  {
   "cell_type": "markdown",
   "metadata": {},
   "source": [
    "## 對時間做處理(轉星期,與時間取cos)"
   ]
  },
  {
   "cell_type": "code",
   "execution_count": 33,
   "metadata": {},
   "outputs": [],
   "source": [
    "openMailData['dayofweek'] = openMailData['scheduledDate'].apply(lambda x: x.dayofweek)"
   ]
  },
  {
   "cell_type": "code",
   "execution_count": 34,
   "metadata": {},
   "outputs": [],
   "source": [
    "import math\n",
    "def myCos(x):\n",
    "    return math.cos(x * math.pi)\n",
    "def getTime(x):\n",
    "    time = (x.second + (x.minute * 60) + (x.hour  * 60 * 60)) / (60 * 60 * 12)\n",
    "    return myCos(time)\n",
    "openMailData['time'] = openMailData['scheduledDate'].apply(getTime)"
   ]
  },
  {
   "cell_type": "markdown",
   "metadata": {},
   "source": [
    "## 將mail的資料 存為pickle檔"
   ]
  },
  {
   "cell_type": "code",
   "execution_count": 35,
   "metadata": {},
   "outputs": [],
   "source": [
    "## save data as pickle format\n",
    "with open('data/pickle/' + fileName + '.p', \"wb\") as file:\n",
    "    pickle.dump(openMailData, file)"
   ]
  },
  {
   "cell_type": "markdown",
   "metadata": {},
   "source": [
    "## 讀取回pickle 看是否正常"
   ]
  },
  {
   "cell_type": "code",
   "execution_count": 39,
   "metadata": {},
   "outputs": [],
   "source": [
    "## load 'article_cutted'\n",
    "with open('data/pickle/' + fileName + '.p', \"rb\") as file:\n",
    "    openMailData = pickle.load(file)"
   ]
  },
  {
   "cell_type": "code",
   "execution_count": 15,
   "metadata": {},
   "outputs": [
    {
     "data": {
      "text/html": [
       "<div>\n",
       "<style scoped>\n",
       "    .dataframe tbody tr th:only-of-type {\n",
       "        vertical-align: middle;\n",
       "    }\n",
       "\n",
       "    .dataframe tbody tr th {\n",
       "        vertical-align: top;\n",
       "    }\n",
       "\n",
       "    .dataframe thead th {\n",
       "        text-align: right;\n",
       "    }\n",
       "</style>\n",
       "<table border=\"1\" class=\"dataframe\">\n",
       "  <thead>\n",
       "    <tr style=\"text-align: right;\">\n",
       "      <th></th>\n",
       "      <th>recipientSn</th>\n",
       "      <th>campaignSn</th>\n",
       "      <th>mailAddress</th>\n",
       "      <th>domain</th>\n",
       "      <th>openedFlag</th>\n",
       "      <th>fromMailAddress</th>\n",
       "      <th>scheduledDate</th>\n",
       "      <th>domain_count</th>\n",
       "      <th>dayofweek</th>\n",
       "      <th>time</th>\n",
       "    </tr>\n",
       "  </thead>\n",
       "  <tbody>\n",
       "    <tr>\n",
       "      <th>0</th>\n",
       "      <td>00000000606f8cfb0160af1258331bb9</td>\n",
       "      <td>00000000609630da0160af09b8626299</td>\n",
       "      <td>6a359cb4196db9a02c8d195b73f11374d65591365a37d8...</td>\n",
       "      <td>chwa.com.tw</td>\n",
       "      <td>True</td>\n",
       "      <td>jerry.org101@gmail.com</td>\n",
       "      <td>2018-01-01 08:14:59</td>\n",
       "      <td>156</td>\n",
       "      <td>0</td>\n",
       "      <td>-0.555510</td>\n",
       "    </tr>\n",
       "    <tr>\n",
       "      <th>1</th>\n",
       "      <td>00000000606f8cfb0160af1258891bba</td>\n",
       "      <td>00000000609630da0160af09b8626299</td>\n",
       "      <td>804fdb3632b9c90532fb1abaa5945a8d869ca05b92e75a...</td>\n",
       "      <td>gmail.com</td>\n",
       "      <td>False</td>\n",
       "      <td>jerry.org101@gmail.com</td>\n",
       "      <td>2018-01-01 08:14:59</td>\n",
       "      <td>2943558</td>\n",
       "      <td>0</td>\n",
       "      <td>-0.555510</td>\n",
       "    </tr>\n",
       "    <tr>\n",
       "      <th>2</th>\n",
       "      <td>00000000606f8cfb0160af1258891bbb</td>\n",
       "      <td>00000000609630da0160af09b8626299</td>\n",
       "      <td>fa9ae8234796d6caf56919a79af59276f976e928bb65b5...</td>\n",
       "      <td>jerry.org.tw</td>\n",
       "      <td>True</td>\n",
       "      <td>jerry.org101@gmail.com</td>\n",
       "      <td>2018-01-01 08:14:59</td>\n",
       "      <td>25</td>\n",
       "      <td>0</td>\n",
       "      <td>-0.555510</td>\n",
       "    </tr>\n",
       "    <tr>\n",
       "      <th>3</th>\n",
       "      <td>00000000606f8cfb0160af1258891bbc</td>\n",
       "      <td>00000000609630da0160af09b8626299</td>\n",
       "      <td>f58cab34ed3a0687423ecb6a22aba1a7cad758370428ea...</td>\n",
       "      <td>jerry.org.tw</td>\n",
       "      <td>False</td>\n",
       "      <td>jerry.org101@gmail.com</td>\n",
       "      <td>2018-01-01 08:14:59</td>\n",
       "      <td>25</td>\n",
       "      <td>0</td>\n",
       "      <td>-0.555510</td>\n",
       "    </tr>\n",
       "    <tr>\n",
       "      <th>4</th>\n",
       "      <td>00000000606f8cfb0160af3c39a61c20</td>\n",
       "      <td>00000000609630da0160a1fa993b43fe</td>\n",
       "      <td>3f62411f0d85adbcc6010c8ca98fae7e6165f481175588...</td>\n",
       "      <td>msa.hinet.net</td>\n",
       "      <td>False</td>\n",
       "      <td>service.edm@hotains.com.tw</td>\n",
       "      <td>2018-01-01 09:00:00</td>\n",
       "      <td>99925</td>\n",
       "      <td>0</td>\n",
       "      <td>-0.707107</td>\n",
       "    </tr>\n",
       "  </tbody>\n",
       "</table>\n",
       "</div>"
      ],
      "text/plain": [
       "                        recipientSn                        campaignSn  \\\n",
       "0  00000000606f8cfb0160af1258331bb9  00000000609630da0160af09b8626299   \n",
       "1  00000000606f8cfb0160af1258891bba  00000000609630da0160af09b8626299   \n",
       "2  00000000606f8cfb0160af1258891bbb  00000000609630da0160af09b8626299   \n",
       "3  00000000606f8cfb0160af1258891bbc  00000000609630da0160af09b8626299   \n",
       "4  00000000606f8cfb0160af3c39a61c20  00000000609630da0160a1fa993b43fe   \n",
       "\n",
       "                                         mailAddress         domain  \\\n",
       "0  6a359cb4196db9a02c8d195b73f11374d65591365a37d8...    chwa.com.tw   \n",
       "1  804fdb3632b9c90532fb1abaa5945a8d869ca05b92e75a...      gmail.com   \n",
       "2  fa9ae8234796d6caf56919a79af59276f976e928bb65b5...   jerry.org.tw   \n",
       "3  f58cab34ed3a0687423ecb6a22aba1a7cad758370428ea...   jerry.org.tw   \n",
       "4  3f62411f0d85adbcc6010c8ca98fae7e6165f481175588...  msa.hinet.net   \n",
       "\n",
       "   openedFlag             fromMailAddress       scheduledDate  domain_count  \\\n",
       "0        True     jerry.org101@gmail.com  2018-01-01 08:14:59           156   \n",
       "1       False     jerry.org101@gmail.com  2018-01-01 08:14:59       2943558   \n",
       "2        True     jerry.org101@gmail.com  2018-01-01 08:14:59            25   \n",
       "3       False     jerry.org101@gmail.com  2018-01-01 08:14:59            25   \n",
       "4       False  service.edm@hotains.com.tw 2018-01-01 09:00:00         99925   \n",
       "\n",
       "   dayofweek      time  \n",
       "0          0 -0.555510  \n",
       "1          0 -0.555510  \n",
       "2          0 -0.555510  \n",
       "3          0 -0.555510  \n",
       "4          0 -0.707107  "
      ]
     },
     "execution_count": 15,
     "metadata": {},
     "output_type": "execute_result"
    }
   ],
   "source": [
    "openMailData.head()"
   ]
  },
  {
   "cell_type": "code",
   "execution_count": null,
   "metadata": {},
   "outputs": [],
   "source": []
  }
 ],
 "metadata": {
  "kernelspec": {
   "display_name": "Python 3",
   "language": "python",
   "name": "python3"
  },
  "language_info": {
   "codemirror_mode": {
    "name": "ipython",
    "version": 3
   },
   "file_extension": ".py",
   "mimetype": "text/x-python",
   "name": "python",
   "nbconvert_exporter": "python",
   "pygments_lexer": "ipython3",
   "version": "3.6.6"
  }
 },
 "nbformat": 4,
 "nbformat_minor": 2
}
