{
 "cells": [
  {
   "cell_type": "markdown",
   "metadata": {},
   "source": [
    "# 內文相似度檢測"
   ]
  },
  {
   "cell_type": "code",
   "execution_count": 1,
   "metadata": {},
   "outputs": [
    {
     "data": {
      "text/plain": [
       "'/project/at082-group17'"
      ]
     },
     "execution_count": 1,
     "metadata": {},
     "output_type": "execute_result"
    }
   ],
   "source": [
    "from gensim.models import word2vec\n",
    "from gensim.models import Doc2Vec, doc2vec\n",
    "from sklearn.cluster import KMeans\n",
    "import pickle\n",
    "import numpy as np\n",
    "import pandas as pd\n",
    "import os\n",
    "\n",
    "## turn back to main directory\n",
    "os.chdir(\"../\")\n",
    "os.getcwd()"
   ]
  },
  {
   "cell_type": "code",
   "execution_count": 2,
   "metadata": {},
   "outputs": [],
   "source": [
    "model = doc2vec.Doc2Vec.load('AT082_17_Leopard_Read/model/doc2vec')"
   ]
  },
  {
   "cell_type": "code",
   "execution_count": 3,
   "metadata": {},
   "outputs": [],
   "source": [
    "mail = pd.read_csv('data/mail_preprocessed.csv')"
   ]
  },
  {
   "cell_type": "code",
   "execution_count": 4,
   "metadata": {},
   "outputs": [
    {
     "name": "stdout",
     "output_type": "stream",
     "text": [
      "一方青出版國際-張惠卿 11月低碳生活雙城記免費講座-港台綠色生活紀實\n"
     ]
    }
   ],
   "source": [
    "#mail.head()\n",
    "print(mail['content'][555])"
   ]
  },
  {
   "cell_type": "code",
   "execution_count": 7,
   "metadata": {},
   "outputs": [],
   "source": [
    "## load 'article_cutted'\n",
    "with open('data/mail_cutted', 'rb') as file:\n",
    "    cut_data = pickle.load(file)"
   ]
  },
  {
   "cell_type": "code",
   "execution_count": 8,
   "metadata": {},
   "outputs": [],
   "source": [
    "## create a document id map\n",
    "sentence_list = []\n",
    "\n",
    "for i, l in enumerate(cut_data):\n",
    "    sentence_list.append(doc2vec.LabeledSentence(words=l, tags=[str(i)]))"
   ]
  },
  {
   "cell_type": "code",
   "execution_count": 9,
   "metadata": {},
   "outputs": [
    {
     "data": {
      "text/plain": [
       "['server', '专属', '邀请函']"
      ]
     },
     "execution_count": 9,
     "metadata": {},
     "output_type": "execute_result"
    }
   ],
   "source": [
    "sentence_list[0][0]"
   ]
  },
  {
   "cell_type": "code",
   "execution_count": 11,
   "metadata": {},
   "outputs": [],
   "source": [
    "def ceshi(sentence_list, count):\n",
    "    #每次都要重新load model\n",
    "    model_dm = doc2vec.Doc2Vec.load('AT082_17_Leopard_Read/model/doc2vec')\n",
    "    inferred_vector_dm = model_dm.infer_vector(sentence_list)\n",
    "    sims = model_dm.docvecs.most_similar([inferred_vector_dm], topn=count)\n",
    "    print(sims)\n",
    "    return sims"
   ]
  },
  {
   "cell_type": "markdown",
   "metadata": {},
   "source": [
    "## 找出最相似的文件"
   ]
  },
  {
   "cell_type": "code",
   "execution_count": 12,
   "metadata": {},
   "outputs": [
    {
     "name": "stdout",
     "output_type": "stream",
     "text": [
      "[('9261', 0.9505727291107178), ('15519', 0.9503893852233887), ('20984', 0.9499343633651733), ('24418', 0.9492175579071045), ('25081', 0.948952317237854), ('24687', 0.9483498334884644), ('18674', 0.9482574462890625), ('15896', 0.9477009773254395), ('14298', 0.9472925662994385), ('10818', 0.9464406967163086), ('11996', 0.9450724124908447), ('26657', 0.9440292716026306), ('28998', 0.9437779188156128), ('14288', 0.9436113834381104), ('9092', 0.9436014890670776), ('19961', 0.9434422254562378), ('6526', 0.9432950615882874), ('17600', 0.9429575204849243), ('3875', 0.9422575235366821), ('10806', 0.9415121674537659)]\n",
      "9261\n",
      "AROMA DoveWare 必學 年菜 之一｜暖心雞湯 ‧ 清甜不膩口\n",
      "15519\n",
      "傳浩科技  經濟部公告 重要信件直接影響貴公司權益請詳閱(轉發)\n",
      "20984\n",
      "FunSport趣運動   name VIP客人才有的優惠\n",
      "24418\n",
      "WeMo Scooter  name  限時拿騎乘金任務，等你來挑戰！\n",
      "25081\n",
      "華友旅行MITRAVEL ［華友旅刊］七月旅人誌－會員搶先報名免費旅遊講座－喝秘魯國酒！\n",
      "24687\n",
      "利高优惠资讯 世界杯一手资讯 - 利高\n",
      "18674\n",
      "北投之家l美日童裝精品 母親節快樂購物金最後倒數三天！！\n",
      "15896\n",
      "馬克不是咖啡店 收件資料核對—訂閱式咖啡分享包(十二期)\n",
      "14298\n",
      "Leo Lee 台亚光电-液晶面板最新库存-Leo Lee\n",
      "10818\n",
      "桃園市教師會 桃園市教師會第10期電子報\n",
      "11996\n",
      "益思 益思電子報測試\n",
      "26657\n",
      "Ready-Market 提升外銷訂單的質與量-企業二代、外銷經理人研習會《8/21台北場》\n",
      "28998\n",
      "電子豹-Bao 恭喜您！獲得電子豹VIP會員專屬 潔客幫折扣代碼 辦公室＆居家清潔獨家優惠！\n",
      "14288\n",
      "Cindy Cheng 台亚光电-液晶面板最新库存-Cindy Cheng\n",
      "9092\n",
      "LAZYWeb米拉多網頁設計   name  -老闆您好  最狂網頁設計，每天33元包到好-2018超值優惠，官網改版好時機\n",
      "19961\n",
      "Milly Fu 提升外銷訂單的質與量-外銷經理人研習會\n",
      "6526\n",
      "周先生 107年最新勞動檢查-上課通知\n",
      "17600\n",
      "揪挖寶  推薦 2018年 揪挖寶 活動平台，共有11種活動，3種抽獎模組\n",
      "3875\n",
      "一方青-張惠卿 一方青2018年人氣講師推薦\n",
      "10806\n",
      "Wota極致生活體驗 Wota Lifestyle給您的問候\n"
     ]
    }
   ],
   "source": [
    "sims = ceshi(sentence_list[555][0], 20)\n",
    "for i in sims:\n",
    "    print(i[0])\n",
    "    print(mail['content'][int(i[0])])"
   ]
  },
  {
   "cell_type": "markdown",
   "metadata": {},
   "source": [
    "## 沒看過的測資測試"
   ]
  },
  {
   "cell_type": "code",
   "execution_count": 13,
   "metadata": {},
   "outputs": [],
   "source": [
    "import jieba\n",
    "import jieba.posseg as pseg\n",
    "import re"
   ]
  },
  {
   "cell_type": "code",
   "execution_count": 14,
   "metadata": {},
   "outputs": [],
   "source": [
    "## set dictionary (can define yourself)\n",
    "jieba.set_dictionary('AT082_17_Leopard_Read/jieba/dict.txt.big')\n",
    "stop_words = open('AT082_17_Leopard_Read/jieba/stop_words.txt').read().splitlines()"
   ]
  },
  {
   "cell_type": "code",
   "execution_count": 15,
   "metadata": {},
   "outputs": [],
   "source": [
    "def cutTest(text):\n",
    "    line = []\n",
    "    text = text.replace('https?:\\/\\/\\S*|︱', '')\n",
    "    text = text.replace('【', ' ')\n",
    "    text = text.replace('】', ' ')\n",
    "    text = text.replace('{', ' ')\n",
    "    text = text.replace('}', ' ')\n",
    "    text = text.replace('$', '')\n",
    "    text = text.replace('『', ' ')\n",
    "    text = text.replace('』', ' ')\n",
    "    for w in jieba.cut(text, cut_all=False):\n",
    "        if w not in stop_words and not bool(re.match('[0-9]+', w)):\n",
    "            line.append(w)\n",
    "    return line"
   ]
  },
  {
   "cell_type": "code",
   "execution_count": 16,
   "metadata": {},
   "outputs": [],
   "source": [
    "def showTop(text, count):\n",
    "    sims = ceshi(cutTest(text), count)\n",
    "    print(cutTest(text))\n",
    "    indexList = []\n",
    "    contentList = []\n",
    "    similarityList = []\n",
    "    for i in sims:\n",
    "        indexList.append(i[0])\n",
    "        similarityList.append(i[1])\n",
    "        contentList.append(mail['content'][int(i[0])])\n",
    "    df = pd.DataFrame()\n",
    "    df['index'] = indexList\n",
    "    df['similarity'] = similarityList\n",
    "    df['content'] = contentList\n",
    "    return df"
   ]
  },
  {
   "cell_type": "code",
   "execution_count": 17,
   "metadata": {},
   "outputs": [
    {
     "data": {
      "application/vnd.jupyter.widget-view+json": {
       "model_id": "26746e6cc7234594aa0c02a2fc7ad0e9",
       "version_major": 2,
       "version_minor": 0
      },
      "text/plain": [
       "Textarea(value='', description='mail content:', placeholder='')"
      ]
     },
     "metadata": {},
     "output_type": "display_data"
    },
    {
     "data": {
      "application/vnd.jupyter.widget-view+json": {
       "model_id": "7dffa0e99dd14868a9768fa8a765add7",
       "version_major": 2,
       "version_minor": 0
      },
      "text/plain": [
       "IntSlider(value=10, continuous_update=False, description='Top N:', min=1)"
      ]
     },
     "metadata": {},
     "output_type": "display_data"
    },
    {
     "data": {
      "application/vnd.jupyter.widget-view+json": {
       "model_id": "fd26ce4a13d44f98a4855c5b6dbcb32d",
       "version_major": 2,
       "version_minor": 0
      },
      "text/plain": [
       "Button(description='analysis', style=ButtonStyle())"
      ]
     },
     "metadata": {},
     "output_type": "display_data"
    },
    {
     "data": {
      "application/vnd.jupyter.widget-view+json": {
       "model_id": "6b6ce8b9cd10423e9430eb246fe7a09f",
       "version_major": 2,
       "version_minor": 0
      },
      "text/plain": [
       "Output()"
      ]
     },
     "metadata": {},
     "output_type": "display_data"
    }
   ],
   "source": [
    "import ipywidgets as widgets\n",
    "from IPython.display import display\n",
    "\n",
    "intputContent = widgets.Textarea(\n",
    "    value='',\n",
    "    placeholder='',\n",
    "    description='mail content:',\n",
    "    disabled=False\n",
    ")\n",
    "\n",
    "count =  widgets.IntSlider(\n",
    "    value=10,\n",
    "    min=1,\n",
    "    max=100,\n",
    "    step=1,\n",
    "    description='Top N:',\n",
    "    disabled=False,\n",
    "    continuous_update=False,\n",
    "    orientation='horizontal',\n",
    "    readout=True,\n",
    "    readout_format='d'\n",
    ")\n",
    "output = widgets.Output()\n",
    "def clickContent(b):\n",
    "    with output:\n",
    "        print('target :' + intputContent.value)\n",
    "        df = showTop(intputContent.value, count.value)\n",
    "        display(df)\n",
    "        #df.head(count.value)\n",
    "def changeInput(change):\n",
    "    with output:\n",
    "        output.clear_output()\n",
    "        print('target :' + change['new'])\n",
    "        intputContent.value = change['new']\n",
    "def changeCount(change):\n",
    "    with output:\n",
    "        output.clear_output()\n",
    "        count.value = change['new']\n",
    "button = widgets.Button(description=\"analysis\")\n",
    "button.on_click(clickContent)\n",
    "display(intputContent,count, button, output)\n",
    "intputContent.observe(changeInput, names='value')\n",
    "intputContent.observe(count, names='value')"
   ]
  },
  {
   "cell_type": "code",
   "execution_count": null,
   "metadata": {},
   "outputs": [],
   "source": []
  }
 ],
 "metadata": {
  "kernelspec": {
   "display_name": "Python 3",
   "language": "python",
   "name": "python3"
  },
  "language_info": {
   "codemirror_mode": {
    "name": "ipython",
    "version": 3
   },
   "file_extension": ".py",
   "mimetype": "text/x-python",
   "name": "python",
   "nbconvert_exporter": "python",
   "pygments_lexer": "ipython3",
   "version": "3.6.6"
  }
 },
 "nbformat": 4,
 "nbformat_minor": 2
}
