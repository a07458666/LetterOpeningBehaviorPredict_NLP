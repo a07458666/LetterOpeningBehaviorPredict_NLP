{
 "cells": [
  {
   "cell_type": "code",
   "execution_count": 1,
   "metadata": {},
   "outputs": [
    {
     "name": "stderr",
     "output_type": "stream",
     "text": [
      "/opt/conda/lib/python3.6/site-packages/h5py/__init__.py:36: FutureWarning: Conversion of the second argument of issubdtype from `float` to `np.floating` is deprecated. In future, it will be treated as `np.float64 == np.dtype(float).type`.\n",
      "  from ._conv import register_converters as _register_converters\n"
     ]
    }
   ],
   "source": [
    "import numpy as np\n",
    "import tensorflow as tf\n",
    "import pandas as pd\n",
    "import seaborn as sns\n",
    "import matplotlib.pyplot as plt\n",
    "import re\n",
    "import os\n",
    "import pickle\n",
    "import numpy as np\n",
    "from sklearn import preprocessing\n",
    "from tqdm import tqdm_notebook\n",
    "from scipy.stats import skew\n",
    "from sklearn.metrics import f1_score\n",
    "plt.style.use([\"dark_background\"])\n",
    "%matplotlib inline\n"
   ]
  },
  {
   "cell_type": "code",
   "execution_count": 2,
   "metadata": {},
   "outputs": [
    {
     "data": {
      "text/plain": [
       "'/project/at082-group17'"
      ]
     },
     "execution_count": 2,
     "metadata": {},
     "output_type": "execute_result"
    }
   ],
   "source": [
    "os.chdir(\"../\")\n",
    "os.getcwd()"
   ]
  },
  {
   "cell_type": "markdown",
   "metadata": {},
   "source": [
    "### Loading dataset"
   ]
  },
  {
   "cell_type": "code",
   "execution_count": 3,
   "metadata": {},
   "outputs": [
    {
     "name": "stdout",
     "output_type": "stream",
     "text": [
      "data count 33897460\n"
     ]
    }
   ],
   "source": [
    "## load 'data'\n",
    "dataNameList = ['201801', '201802', '201803' ,'201804']\n",
    "dataCount = []\n",
    "df_all = pd.DataFrame()\n",
    "for name in dataNameList:\n",
    "    with open('data/pickle/' + name + '.p', \"rb\") as file:\n",
    "        loadData = pickle.load(file)\n",
    "        dataCount.append(len(loadData.index))\n",
    "        df_all = pd.concat((df_all, loadData), axis = 0, ignore_index = False)\n",
    "print('data count ' + str(len(df_all.index)))"
   ]
  },
  {
   "cell_type": "markdown",
   "metadata": {},
   "source": [
    "## 取得收信量"
   ]
  },
  {
   "cell_type": "code",
   "execution_count": 4,
   "metadata": {},
   "outputs": [],
   "source": [
    "df_temp = df_all[[\"recipientSn\", \"mailAddress\"]].groupby(\"mailAddress\").count().reset_index()\n",
    "\n",
    "df_temp.columns = [\"mailAddress\", \"mailAddress_count\"]\n",
    "df_temp = df_temp.sort_values(by=['mailAddress_count'], ascending = False).reset_index()\n",
    "\n",
    "#df_all = df_all.merge(df_temp, how=\"left\", on=\"mailAddress\")"
   ]
  },
  {
   "cell_type": "code",
   "execution_count": 5,
   "metadata": {},
   "outputs": [
    {
     "data": {
      "text/plain": [
       "['70a0b4aface445d4c01fcda547e15043d5b0a97f74e20117aab3168a7aa76b7e146f15d46b48a3b4a7dd60fcd154c7fb42b61a84ac1136a816800e3afba9c481',\n",
       " '661c3a87c3182435a34df88a525014528ad7808ac2487b4af0a060f57c86323b126e8459b1fda29e5a94d3ea663cbb1b53411068ac2ffe25daff061b90e9a3eb',\n",
       " 'f19e420d5f2dd884d3242d4ff352d598057bee7878e7f09ee72e0ff35952de2d64d40a7684b67eb8936bcac4e69b5b41efba75a2ebd9eeef76525c31cfb50abe',\n",
       " '63b80e02df1855786309304e8bf243e25080fc03e4cf6384f37eb624bce563a8785a83d2359c92fc3181ad38f8bb818a013e1eae219d8ef43256dbeb5656ae42',\n",
       " 'bda88f56fd104ee2d99b73bbab4e4a007801d23ccfd8b1e166f3d314731044d533712f3e23764f163ad3928e61a4f137570b89126920b7f88978a97d7281d9d7',\n",
       " 'f8b226279193bdfea949b4e6d603a2d4f6e9dcf1d6a734bf5e329fc0ce7ceebdb6348a95b08bedc4b40dc6aec1d81f6ff00902bb5d9f6ed07e0b258d436c46fb',\n",
       " '305d859a70c6238e891921db50b97cc5acd04879e4c0e89621db190cce312abdaccbcd0b12add7abc57a11695b9b6edad3a59f2696b67b528a1e058ebe8e3ddb',\n",
       " 'd22883701224a5debd82d5274c37976618058a1b159088bf0d7649b9bcf322618157852b8ce6847ba157402f967a3667f1e31f5415b55a9e885e49563214ee9d',\n",
       " '305a7ccfb01da8ec97d671bb53305e339c3ce16449cefe9ec696bc8970151ed64ef871483e713e60dffc8326889fe48473b8e70540fcec73c263fdd9fffeec40',\n",
       " 'fed6881c2fe3f15d6d161f1025fb95f7aff4ed9d872b5794b1f8719f937c753b3e4b3f5ca53f3e6628305acccc8d4fb1ad83c4e5c97615dd3942d39666c61210']"
      ]
     },
     "execution_count": 5,
     "metadata": {},
     "output_type": "execute_result"
    }
   ],
   "source": [
    "traget = []\n",
    "for i in range(10):\n",
    "    traget.append(df_temp['mailAddress'][i])\n",
    "traget"
   ]
  },
  {
   "cell_type": "code",
   "execution_count": 6,
   "metadata": {},
   "outputs": [
    {
     "data": {
      "text/html": [
       "<div>\n",
       "<style scoped>\n",
       "    .dataframe tbody tr th:only-of-type {\n",
       "        vertical-align: middle;\n",
       "    }\n",
       "\n",
       "    .dataframe tbody tr th {\n",
       "        vertical-align: top;\n",
       "    }\n",
       "\n",
       "    .dataframe thead th {\n",
       "        text-align: right;\n",
       "    }\n",
       "</style>\n",
       "<table border=\"1\" class=\"dataframe\">\n",
       "  <thead>\n",
       "    <tr style=\"text-align: right;\">\n",
       "      <th></th>\n",
       "      <th>recipientSn</th>\n",
       "      <th>campaignSn</th>\n",
       "      <th>mailAddress</th>\n",
       "      <th>domain</th>\n",
       "      <th>openedFlag</th>\n",
       "      <th>fromMailAddress</th>\n",
       "      <th>scheduledDate</th>\n",
       "      <th>domain_count</th>\n",
       "      <th>dayofweek</th>\n",
       "      <th>time</th>\n",
       "    </tr>\n",
       "  </thead>\n",
       "  <tbody>\n",
       "    <tr>\n",
       "      <th>225568</th>\n",
       "      <td>00000000606f8cfb0160b4d635317696</td>\n",
       "      <td>00000000609630da0160b4d5adb86d14</td>\n",
       "      <td>70a0b4aface445d4c01fcda547e15043d5b0a97f74e201...</td>\n",
       "      <td>gmail.com</td>\n",
       "      <td>False</td>\n",
       "      <td>chinchin239@gmail.com</td>\n",
       "      <td>2018-01-02 11:06:59</td>\n",
       "      <td>2943558</td>\n",
       "      <td>1</td>\n",
       "      <td>-0.973363</td>\n",
       "    </tr>\n",
       "    <tr>\n",
       "      <th>225660</th>\n",
       "      <td>00000000606f8cfb0160b4d6ba3c76f7</td>\n",
       "      <td>00000000609630da0160b4d639f06e20</td>\n",
       "      <td>70a0b4aface445d4c01fcda547e15043d5b0a97f74e201...</td>\n",
       "      <td>gmail.com</td>\n",
       "      <td>False</td>\n",
       "      <td>chinchin239@gmail.com</td>\n",
       "      <td>2018-01-02 11:07:32</td>\n",
       "      <td>2943558</td>\n",
       "      <td>1</td>\n",
       "      <td>-0.973910</td>\n",
       "    </tr>\n",
       "    <tr>\n",
       "      <th>225841</th>\n",
       "      <td>00000000606f8cfb0160b4d71daf77af</td>\n",
       "      <td>00000000609630da0160b4d6b9f16e81</td>\n",
       "      <td>70a0b4aface445d4c01fcda547e15043d5b0a97f74e201...</td>\n",
       "      <td>gmail.com</td>\n",
       "      <td>False</td>\n",
       "      <td>chinchin239@gmail.com</td>\n",
       "      <td>2018-01-02 11:08:01</td>\n",
       "      <td>2943558</td>\n",
       "      <td>1</td>\n",
       "      <td>-0.974386</td>\n",
       "    </tr>\n",
       "    <tr>\n",
       "      <th>225867</th>\n",
       "      <td>00000000606f8cfb0160b4d78de177cc</td>\n",
       "      <td>00000000609630da0160b4d72e536ed1</td>\n",
       "      <td>70a0b4aface445d4c01fcda547e15043d5b0a97f74e201...</td>\n",
       "      <td>gmail.com</td>\n",
       "      <td>False</td>\n",
       "      <td>chinchin239@gmail.com</td>\n",
       "      <td>2018-01-02 11:08:31</td>\n",
       "      <td>2943558</td>\n",
       "      <td>1</td>\n",
       "      <td>-0.974875</td>\n",
       "    </tr>\n",
       "    <tr>\n",
       "      <th>225896</th>\n",
       "      <td>00000000606f8cfb0160b4d80a6777ec</td>\n",
       "      <td>00000000609630da0160b4d798ef6f2f</td>\n",
       "      <td>70a0b4aface445d4c01fcda547e15043d5b0a97f74e201...</td>\n",
       "      <td>gmail.com</td>\n",
       "      <td>False</td>\n",
       "      <td>chinchin239@gmail.com</td>\n",
       "      <td>2018-01-02 11:09:00</td>\n",
       "      <td>2943558</td>\n",
       "      <td>1</td>\n",
       "      <td>-0.975342</td>\n",
       "    </tr>\n",
       "  </tbody>\n",
       "</table>\n",
       "</div>"
      ],
      "text/plain": [
       "                             recipientSn                        campaignSn  \\\n",
       "225568  00000000606f8cfb0160b4d635317696  00000000609630da0160b4d5adb86d14   \n",
       "225660  00000000606f8cfb0160b4d6ba3c76f7  00000000609630da0160b4d639f06e20   \n",
       "225841  00000000606f8cfb0160b4d71daf77af  00000000609630da0160b4d6b9f16e81   \n",
       "225867  00000000606f8cfb0160b4d78de177cc  00000000609630da0160b4d72e536ed1   \n",
       "225896  00000000606f8cfb0160b4d80a6777ec  00000000609630da0160b4d798ef6f2f   \n",
       "\n",
       "                                              mailAddress     domain  \\\n",
       "225568  70a0b4aface445d4c01fcda547e15043d5b0a97f74e201...  gmail.com   \n",
       "225660  70a0b4aface445d4c01fcda547e15043d5b0a97f74e201...  gmail.com   \n",
       "225841  70a0b4aface445d4c01fcda547e15043d5b0a97f74e201...  gmail.com   \n",
       "225867  70a0b4aface445d4c01fcda547e15043d5b0a97f74e201...  gmail.com   \n",
       "225896  70a0b4aface445d4c01fcda547e15043d5b0a97f74e201...  gmail.com   \n",
       "\n",
       "        openedFlag        fromMailAddress       scheduledDate  domain_count  \\\n",
       "225568       False  chinchin239@gmail.com 2018-01-02 11:06:59       2943558   \n",
       "225660       False  chinchin239@gmail.com 2018-01-02 11:07:32       2943558   \n",
       "225841       False  chinchin239@gmail.com 2018-01-02 11:08:01       2943558   \n",
       "225867       False  chinchin239@gmail.com 2018-01-02 11:08:31       2943558   \n",
       "225896       False  chinchin239@gmail.com 2018-01-02 11:09:00       2943558   \n",
       "\n",
       "        dayofweek      time  \n",
       "225568          1 -0.973363  \n",
       "225660          1 -0.973910  \n",
       "225841          1 -0.974386  \n",
       "225867          1 -0.974875  \n",
       "225896          1 -0.975342  "
      ]
     },
     "execution_count": 6,
     "metadata": {},
     "output_type": "execute_result"
    }
   ],
   "source": [
    "df_t1 = df_all[df_all['mailAddress'] == traget[0]]\n",
    "df_t1.head(5)"
   ]
  },
  {
   "cell_type": "markdown",
   "metadata": {},
   "source": [
    "## Standardization\n",
    "正規化 將數值轉為[0,1] or [-1,1] <br>\n",
    "只對數值類型的做"
   ]
  },
  {
   "cell_type": "code",
   "execution_count": 7,
   "metadata": {},
   "outputs": [
    {
     "name": "stderr",
     "output_type": "stream",
     "text": [
      "/opt/conda/lib/python3.6/site-packages/ipykernel_launcher.py:3: SettingWithCopyWarning: \n",
      "A value is trying to be set on a copy of a slice from a DataFrame.\n",
      "Try using .loc[row_indexer,col_indexer] = value instead\n",
      "\n",
      "See the caveats in the documentation: http://pandas.pydata.org/pandas-docs/stable/indexing.html#indexing-view-versus-copy\n",
      "  This is separate from the ipykernel package so we can avoid doing imports until\n",
      "/opt/conda/lib/python3.6/site-packages/ipykernel_launcher.py:4: SettingWithCopyWarning: \n",
      "A value is trying to be set on a copy of a slice from a DataFrame.\n",
      "Try using .loc[row_indexer,col_indexer] = value instead\n",
      "\n",
      "See the caveats in the documentation: http://pandas.pydata.org/pandas-docs/stable/indexing.html#indexing-view-versus-copy\n",
      "  after removing the cwd from sys.path.\n"
     ]
    },
    {
     "data": {
      "text/html": [
       "<div>\n",
       "<style scoped>\n",
       "    .dataframe tbody tr th:only-of-type {\n",
       "        vertical-align: middle;\n",
       "    }\n",
       "\n",
       "    .dataframe tbody tr th {\n",
       "        vertical-align: top;\n",
       "    }\n",
       "\n",
       "    .dataframe thead th {\n",
       "        text-align: right;\n",
       "    }\n",
       "</style>\n",
       "<table border=\"1\" class=\"dataframe\">\n",
       "  <thead>\n",
       "    <tr style=\"text-align: right;\">\n",
       "      <th></th>\n",
       "      <th>openedFlag</th>\n",
       "      <th>dayofweek</th>\n",
       "      <th>time</th>\n",
       "    </tr>\n",
       "  </thead>\n",
       "  <tbody>\n",
       "    <tr>\n",
       "      <th>225568</th>\n",
       "      <td>False</td>\n",
       "      <td>1</td>\n",
       "      <td>-0.650320</td>\n",
       "    </tr>\n",
       "    <tr>\n",
       "      <th>225660</th>\n",
       "      <td>False</td>\n",
       "      <td>1</td>\n",
       "      <td>-0.652806</td>\n",
       "    </tr>\n",
       "    <tr>\n",
       "      <th>225841</th>\n",
       "      <td>False</td>\n",
       "      <td>1</td>\n",
       "      <td>-0.654970</td>\n",
       "    </tr>\n",
       "    <tr>\n",
       "      <th>225867</th>\n",
       "      <td>False</td>\n",
       "      <td>1</td>\n",
       "      <td>-0.657187</td>\n",
       "    </tr>\n",
       "    <tr>\n",
       "      <th>225896</th>\n",
       "      <td>False</td>\n",
       "      <td>1</td>\n",
       "      <td>-0.659311</td>\n",
       "    </tr>\n",
       "  </tbody>\n",
       "</table>\n",
       "</div>"
      ],
      "text/plain": [
       "        openedFlag dayofweek      time\n",
       "225568       False         1 -0.650320\n",
       "225660       False         1 -0.652806\n",
       "225841       False         1 -0.654970\n",
       "225867       False         1 -0.657187\n",
       "225896       False         1 -0.659311"
      ]
     },
     "execution_count": 7,
     "metadata": {},
     "output_type": "execute_result"
    }
   ],
   "source": [
    "trainCount = df_t1[df_t1['scheduledDate'].apply(lambda x :x.month) <= 3].count()\n",
    "trainCount = trainCount[0]\n",
    "df_t1[ 'time' ] = preprocessing.scale( df_t1[ 'time'] ,with_mean=True,with_std=True)\n",
    "df_t1['dayofweek'] = df_t1['dayofweek'].astype( str )\n",
    "df_t1 = df_t1.drop(['domain','recipientSn', 'campaignSn', 'mailAddress', 'fromMailAddress', 'scheduledDate', 'domain_count'], axis = 1)\n",
    "X = df_t1.drop(['openedFlag'], axis = 1)\n",
    "y = df_t1[ 'openedFlag' ]\n",
    "\n",
    "x_train = X[:trainCount]\n",
    "y_train = y[:trainCount]\n",
    "x_test = X[trainCount:]\n",
    "y_test = y[trainCount:]\n",
    "df_t1.head()"
   ]
  },
  {
   "cell_type": "markdown",
   "metadata": {},
   "source": [
    "### Build model"
   ]
  },
  {
   "cell_type": "code",
   "execution_count": 8,
   "metadata": {},
   "outputs": [],
   "source": [
    "import tensorflow as tf\n",
    "from tensorflow.keras.preprocessing import sequence\n",
    "from tensorflow.keras.models import Sequential\n",
    "from tensorflow.keras.layers import Dense, Embedding, LSTM"
   ]
  },
  {
   "cell_type": "code",
   "execution_count": 9,
   "metadata": {},
   "outputs": [
    {
     "name": "stdout",
     "output_type": "stream",
     "text": [
      "_________________________________________________________________\n",
      "Layer (type)                 Output Shape              Param #   \n",
      "=================================================================\n",
      "embedding (Embedding)        (None, None, 128)         1280000   \n",
      "_________________________________________________________________\n",
      "lstm (LSTM)                  (None, 150)               167400    \n",
      "_________________________________________________________________\n",
      "dense (Dense)                (None, 1)                 151       \n",
      "=================================================================\n",
      "Total params: 1,447,551\n",
      "Trainable params: 1,447,551\n",
      "Non-trainable params: 0\n",
      "_________________________________________________________________\n"
     ]
    }
   ],
   "source": [
    "model = Sequential()\n",
    "model.add(Embedding(10000, 128))\n",
    "model.add(LSTM(150))\n",
    "model.add(Dense(1, activation = 'sigmoid'))\n",
    "model.summary()"
   ]
  },
  {
   "cell_type": "code",
   "execution_count": 10,
   "metadata": {},
   "outputs": [],
   "source": [
    "model.compile(loss = 'binary_crossentropy',\n",
    "              optimizer = 'adam',\n",
    "              metrics = ['accuracy'])"
   ]
  },
  {
   "cell_type": "code",
   "execution_count": 11,
   "metadata": {},
   "outputs": [
    {
     "name": "stderr",
     "output_type": "stream",
     "text": [
      "/opt/conda/lib/python3.6/site-packages/tensorflow/python/ops/gradients_impl.py:108: UserWarning: Converting sparse IndexedSlices to a dense Tensor of unknown shape. This may consume a large amount of memory.\n",
      "  \"Converting sparse IndexedSlices to a dense Tensor of unknown shape. \"\n",
      "/opt/conda/lib/python3.6/site-packages/tensorflow/python/ops/gradients_impl.py:108: UserWarning: Converting sparse IndexedSlices to a dense Tensor of unknown shape. This may consume a large amount of memory.\n",
      "  \"Converting sparse IndexedSlices to a dense Tensor of unknown shape. \"\n"
     ]
    },
    {
     "name": "stdout",
     "output_type": "stream",
     "text": [
      "Epoch 1/5\n",
      "312/312 [==============================] - 3s 9ms/step - loss: 0.5006 - acc: 0.8397\n",
      "Epoch 2/5\n",
      "312/312 [==============================] - 0s 216us/step - loss: 0.4268 - acc: 0.8429\n",
      "Epoch 3/5\n",
      "312/312 [==============================] - 0s 217us/step - loss: 0.4111 - acc: 0.8429\n",
      "Epoch 4/5\n",
      "312/312 [==============================] - 0s 199us/step - loss: 0.4019 - acc: 0.8429\n",
      "Epoch 5/5\n",
      "312/312 [==============================] - 0s 180us/step - loss: 0.3845 - acc: 0.8462\n"
     ]
    },
    {
     "data": {
      "text/plain": [
       "<tensorflow.python.keras.callbacks.History at 0x7f17093ba710>"
      ]
     },
     "execution_count": 11,
     "metadata": {},
     "output_type": "execute_result"
    }
   ],
   "source": [
    "model.fit(x_train, y_train, batch_size = 32, epochs = 5)"
   ]
  },
  {
   "cell_type": "code",
   "execution_count": 12,
   "metadata": {},
   "outputs": [
    {
     "name": "stdout",
     "output_type": "stream",
     "text": [
      "98/98 [==============================] - 0s 988us/step\n"
     ]
    }
   ],
   "source": [
    "score = model.evaluate(x_test, y_test)"
   ]
  },
  {
   "cell_type": "code",
   "execution_count": 13,
   "metadata": {},
   "outputs": [
    {
     "data": {
      "text/plain": [
       "[0.3602151554457995, 0.8877551020408163]"
      ]
     },
     "execution_count": 13,
     "metadata": {},
     "output_type": "execute_result"
    }
   ],
   "source": [
    "score"
   ]
  },
  {
   "cell_type": "code",
   "execution_count": 14,
   "metadata": {},
   "outputs": [
    {
     "name": "stderr",
     "output_type": "stream",
     "text": [
      "/opt/conda/lib/python3.6/site-packages/sklearn/ensemble/weight_boosting.py:29: DeprecationWarning: numpy.core.umath_tests is an internal NumPy module and should not be imported. It will be removed in a future NumPy release.\n",
      "  from numpy.core.umath_tests import inner1d\n"
     ]
    }
   ],
   "source": [
    "from sklearn.ensemble import RandomForestClassifier\n",
    "from sklearn.metrics import accuracy_score\n",
    "from sklearn.metrics import f1_score\n",
    "from sklearn.metrics import recall_score"
   ]
  },
  {
   "cell_type": "code",
   "execution_count": 15,
   "metadata": {},
   "outputs": [
    {
     "name": "stdout",
     "output_type": "stream",
     "text": [
      "acc = 0.8877551020408163\n",
      "recall = 0.0\n",
      "f1 = 0.0\n"
     ]
    },
    {
     "name": "stderr",
     "output_type": "stream",
     "text": [
      "/opt/conda/lib/python3.6/site-packages/sklearn/metrics/classification.py:1135: UndefinedMetricWarning: F-score is ill-defined and being set to 0.0 due to no predicted samples.\n",
      "  'precision', 'predicted', average, warn_for)\n"
     ]
    }
   ],
   "source": [
    "threshold_LSTM = 0.5\n",
    "\n",
    "y_pred_proba_LSTM = model.predict_proba(x_test)\n",
    "y_pred_LSTM = (y_pred_proba_LSTM >= threshold_LSTM).astype('int')\n",
    "print(\"acc = \" + str(accuracy_score(y_test, y_pred_LSTM)))\n",
    "print(\"recall = \" + str(recall_score(y_test, y_pred_LSTM)))\n",
    "print(\"f1 = \" + str(f1_score(y_test, y_pred_LSTM)))"
   ]
  },
  {
   "cell_type": "code",
   "execution_count": 30,
   "metadata": {},
   "outputs": [
    {
     "name": "stdout",
     "output_type": "stream",
     "text": [
      "測試資料的 loss: 0.37745190639885107\n",
      "測試資料的正確率: 0.8673469387755102\n"
     ]
    }
   ],
   "source": [
    "print('測試資料的 loss:', score[0])\n",
    "print('測試資料的正確率:', score[1])"
   ]
  }
 ],
 "metadata": {
  "kernelspec": {
   "display_name": "Python 3",
   "language": "python",
   "name": "python3"
  },
  "language_info": {
   "codemirror_mode": {
    "name": "ipython",
    "version": 3
   },
   "file_extension": ".py",
   "mimetype": "text/x-python",
   "name": "python",
   "nbconvert_exporter": "python",
   "pygments_lexer": "ipython3",
   "version": "3.6.6"
  }
 },
 "nbformat": 4,
 "nbformat_minor": 2
}
