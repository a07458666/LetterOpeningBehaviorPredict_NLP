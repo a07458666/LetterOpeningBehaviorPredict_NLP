{
 "cells": [
  {
   "cell_type": "markdown",
   "metadata": {},
   "source": [
    "# 使用傳統的ML 嘗試"
   ]
  },
  {
   "cell_type": "code",
   "execution_count": 1,
   "metadata": {},
   "outputs": [
    {
     "name": "stderr",
     "output_type": "stream",
     "text": [
      "/opt/conda/lib/python3.6/site-packages/h5py/__init__.py:36: FutureWarning: Conversion of the second argument of issubdtype from `float` to `np.floating` is deprecated. In future, it will be treated as `np.float64 == np.dtype(float).type`.\n",
      "  from ._conv import register_converters as _register_converters\n"
     ]
    }
   ],
   "source": [
    "import numpy as np\n",
    "import tensorflow as tf\n",
    "import pandas as pd\n",
    "import seaborn as sns\n",
    "import matplotlib.pyplot as plt\n",
    "import re\n",
    "import os\n",
    "import pickle\n",
    "import numpy as np\n",
    "from sklearn import preprocessing\n",
    "from tqdm import tqdm_notebook\n",
    "from scipy.stats import skew\n",
    "#plt.style.use([\"dark_background\"])\n",
    "%matplotlib inline\n",
    "import seaborn as sns\n",
    "sns.set()"
   ]
  },
  {
   "cell_type": "code",
   "execution_count": 2,
   "metadata": {},
   "outputs": [
    {
     "data": {
      "text/plain": [
       "'/project/at082-group17'"
      ]
     },
     "execution_count": 2,
     "metadata": {},
     "output_type": "execute_result"
    }
   ],
   "source": [
    "os.chdir(\"../\")\n",
    "os.getcwd()"
   ]
  },
  {
   "cell_type": "markdown",
   "metadata": {},
   "source": [
    "## 讀入1~4月的data 並合併"
   ]
  },
  {
   "cell_type": "code",
   "execution_count": 3,
   "metadata": {},
   "outputs": [
    {
     "name": "stdout",
     "output_type": "stream",
     "text": [
      "data count 38512321\n"
     ]
    }
   ],
   "source": [
    "## load 'data'\n",
    "dataNameList = ['201812', '201901', '201902' ,'201903']\n",
    "dataCount = []\n",
    "df_all = pd.DataFrame()\n",
    "for name in dataNameList:\n",
    "    with open('data/pickle/' + name + '.p', \"rb\") as file:\n",
    "        loadData = pickle.load(file)\n",
    "        dataCount.append(len(loadData.index))\n",
    "        df_all = pd.concat((df_all, loadData), axis = 0, ignore_index = False)\n",
    "print('data count ' + str(len(df_all.index)))"
   ]
  },
  {
   "cell_type": "code",
   "execution_count": 4,
   "metadata": {},
   "outputs": [
    {
     "data": {
      "text/html": [
       "<div>\n",
       "<style scoped>\n",
       "    .dataframe tbody tr th:only-of-type {\n",
       "        vertical-align: middle;\n",
       "    }\n",
       "\n",
       "    .dataframe tbody tr th {\n",
       "        vertical-align: top;\n",
       "    }\n",
       "\n",
       "    .dataframe thead th {\n",
       "        text-align: right;\n",
       "    }\n",
       "</style>\n",
       "<table border=\"1\" class=\"dataframe\">\n",
       "  <thead>\n",
       "    <tr style=\"text-align: right;\">\n",
       "      <th></th>\n",
       "      <th>domain_count</th>\n",
       "      <th>dayofweek</th>\n",
       "      <th>time</th>\n",
       "    </tr>\n",
       "  </thead>\n",
       "  <tbody>\n",
       "    <tr>\n",
       "      <th>count</th>\n",
       "      <td>3.851232e+07</td>\n",
       "      <td>3.851232e+07</td>\n",
       "      <td>3.851232e+07</td>\n",
       "    </tr>\n",
       "    <tr>\n",
       "      <th>mean</th>\n",
       "      <td>2.676249e+06</td>\n",
       "      <td>2.285623e+00</td>\n",
       "      <td>-4.457066e-01</td>\n",
       "    </tr>\n",
       "    <tr>\n",
       "      <th>std</th>\n",
       "      <td>1.759893e+06</td>\n",
       "      <td>1.537794e+00</td>\n",
       "      <td>5.657999e-01</td>\n",
       "    </tr>\n",
       "    <tr>\n",
       "      <th>min</th>\n",
       "      <td>1.000000e+00</td>\n",
       "      <td>0.000000e+00</td>\n",
       "      <td>-1.000000e+00</td>\n",
       "    </tr>\n",
       "    <tr>\n",
       "      <th>25%</th>\n",
       "      <td>1.051705e+06</td>\n",
       "      <td>1.000000e+00</td>\n",
       "      <td>-9.238795e-01</td>\n",
       "    </tr>\n",
       "    <tr>\n",
       "      <th>50%</th>\n",
       "      <td>2.760272e+06</td>\n",
       "      <td>2.000000e+00</td>\n",
       "      <td>-6.593458e-01</td>\n",
       "    </tr>\n",
       "    <tr>\n",
       "      <th>75%</th>\n",
       "      <td>4.825825e+06</td>\n",
       "      <td>4.000000e+00</td>\n",
       "      <td>-3.686173e-02</td>\n",
       "    </tr>\n",
       "    <tr>\n",
       "      <th>max</th>\n",
       "      <td>4.833533e+06</td>\n",
       "      <td>6.000000e+00</td>\n",
       "      <td>1.000000e+00</td>\n",
       "    </tr>\n",
       "  </tbody>\n",
       "</table>\n",
       "</div>"
      ],
      "text/plain": [
       "       domain_count     dayofweek          time\n",
       "count  3.851232e+07  3.851232e+07  3.851232e+07\n",
       "mean   2.676249e+06  2.285623e+00 -4.457066e-01\n",
       "std    1.759893e+06  1.537794e+00  5.657999e-01\n",
       "min    1.000000e+00  0.000000e+00 -1.000000e+00\n",
       "25%    1.051705e+06  1.000000e+00 -9.238795e-01\n",
       "50%    2.760272e+06  2.000000e+00 -6.593458e-01\n",
       "75%    4.825825e+06  4.000000e+00 -3.686173e-02\n",
       "max    4.833533e+06  6.000000e+00  1.000000e+00"
      ]
     },
     "execution_count": 4,
     "metadata": {},
     "output_type": "execute_result"
    }
   ],
   "source": [
    "df_all.describe()"
   ]
  },
  {
   "cell_type": "markdown",
   "metadata": {},
   "source": [
    "## 合併信件的type"
   ]
  },
  {
   "cell_type": "code",
   "execution_count": 5,
   "metadata": {},
   "outputs": [],
   "source": [
    "mail = pd.read_csv('data/mail_dataV2.csv')"
   ]
  },
  {
   "cell_type": "code",
   "execution_count": 6,
   "metadata": {},
   "outputs": [],
   "source": [
    "mail = mail.drop(['fromName', 'fromMailAddress', 'subject', 'scheduledDate'], axis = 1)"
   ]
  },
  {
   "cell_type": "code",
   "execution_count": 7,
   "metadata": {},
   "outputs": [],
   "source": [
    "mail = mail.drop(['Unnamed: 0'], axis = 1)"
   ]
  },
  {
   "cell_type": "code",
   "execution_count": 8,
   "metadata": {},
   "outputs": [
    {
     "data": {
      "text/html": [
       "<div>\n",
       "<style scoped>\n",
       "    .dataframe tbody tr th:only-of-type {\n",
       "        vertical-align: middle;\n",
       "    }\n",
       "\n",
       "    .dataframe tbody tr th {\n",
       "        vertical-align: top;\n",
       "    }\n",
       "\n",
       "    .dataframe thead th {\n",
       "        text-align: right;\n",
       "    }\n",
       "</style>\n",
       "<table border=\"1\" class=\"dataframe\">\n",
       "  <thead>\n",
       "    <tr style=\"text-align: right;\">\n",
       "      <th></th>\n",
       "      <th>campaignSn</th>\n",
       "      <th>mailType</th>\n",
       "    </tr>\n",
       "  </thead>\n",
       "  <tbody>\n",
       "    <tr>\n",
       "      <th>0</th>\n",
       "      <td>000000005f59c23b015f73f2f5107a39</td>\n",
       "      <td>0</td>\n",
       "    </tr>\n",
       "    <tr>\n",
       "      <th>1</th>\n",
       "      <td>000000005f59c23b015f73f416917a5e</td>\n",
       "      <td>0</td>\n",
       "    </tr>\n",
       "    <tr>\n",
       "      <th>2</th>\n",
       "      <td>000000005f59c23b015f73f6d5207ac6</td>\n",
       "      <td>0</td>\n",
       "    </tr>\n",
       "    <tr>\n",
       "      <th>3</th>\n",
       "      <td>000000005f59c23b015f73f755077adc</td>\n",
       "      <td>0</td>\n",
       "    </tr>\n",
       "    <tr>\n",
       "      <th>4</th>\n",
       "      <td>000000005f59c23b015f710327035577</td>\n",
       "      <td>0</td>\n",
       "    </tr>\n",
       "    <tr>\n",
       "      <th>5</th>\n",
       "      <td>000000005f59c23b015f5b3da4dd1bd4</td>\n",
       "      <td>0</td>\n",
       "    </tr>\n",
       "    <tr>\n",
       "      <th>6</th>\n",
       "      <td>000000005f59c23b015f71d2723d78ff</td>\n",
       "      <td>0</td>\n",
       "    </tr>\n",
       "    <tr>\n",
       "      <th>7</th>\n",
       "      <td>000000005f59c23b015f74e9266313c6</td>\n",
       "      <td>0</td>\n",
       "    </tr>\n",
       "    <tr>\n",
       "      <th>8</th>\n",
       "      <td>000000005f59c23b015f74edf4f014b3</td>\n",
       "      <td>0</td>\n",
       "    </tr>\n",
       "    <tr>\n",
       "      <th>9</th>\n",
       "      <td>000000005f59c23b015f702e7e7c5651</td>\n",
       "      <td>0</td>\n",
       "    </tr>\n",
       "    <tr>\n",
       "      <th>10</th>\n",
       "      <td>000000005f59c23b015f7511b6551d63</td>\n",
       "      <td>0</td>\n",
       "    </tr>\n",
       "    <tr>\n",
       "      <th>11</th>\n",
       "      <td>000000005f59c23b015f6c6ae74f7872</td>\n",
       "      <td>3</td>\n",
       "    </tr>\n",
       "    <tr>\n",
       "      <th>12</th>\n",
       "      <td>000000005f59c23b015f752002e32116</td>\n",
       "      <td>0</td>\n",
       "    </tr>\n",
       "    <tr>\n",
       "      <th>13</th>\n",
       "      <td>000000005f59c23b015f75295bb6237e</td>\n",
       "      <td>0</td>\n",
       "    </tr>\n",
       "    <tr>\n",
       "      <th>14</th>\n",
       "      <td>000000005f59c23b015f751cb6e42025</td>\n",
       "      <td>0</td>\n",
       "    </tr>\n",
       "    <tr>\n",
       "      <th>15</th>\n",
       "      <td>000000005f59c23b015f752fa50f276b</td>\n",
       "      <td>0</td>\n",
       "    </tr>\n",
       "    <tr>\n",
       "      <th>16</th>\n",
       "      <td>000000005f59c23b015f752b89e124c9</td>\n",
       "      <td>0</td>\n",
       "    </tr>\n",
       "    <tr>\n",
       "      <th>17</th>\n",
       "      <td>000000005f59c23b015f7534723c2b34</td>\n",
       "      <td>0</td>\n",
       "    </tr>\n",
       "    <tr>\n",
       "      <th>18</th>\n",
       "      <td>000000005f59c23b015f7536f9b32cc0</td>\n",
       "      <td>0</td>\n",
       "    </tr>\n",
       "    <tr>\n",
       "      <th>19</th>\n",
       "      <td>000000005f59c23b015f71d3f4b27979</td>\n",
       "      <td>0</td>\n",
       "    </tr>\n",
       "    <tr>\n",
       "      <th>20</th>\n",
       "      <td>000000005f59c23b015f6c3b578f5fe3</td>\n",
       "      <td>0</td>\n",
       "    </tr>\n",
       "    <tr>\n",
       "      <th>21</th>\n",
       "      <td>000000005f59c23b015f754b5e4e3ab4</td>\n",
       "      <td>0</td>\n",
       "    </tr>\n",
       "    <tr>\n",
       "      <th>22</th>\n",
       "      <td>000000005f59c23b015f5c47b1ef7e33</td>\n",
       "      <td>0</td>\n",
       "    </tr>\n",
       "    <tr>\n",
       "      <th>23</th>\n",
       "      <td>000000005f59c23b015f6b76fb160c94</td>\n",
       "      <td>0</td>\n",
       "    </tr>\n",
       "    <tr>\n",
       "      <th>24</th>\n",
       "      <td>000000005f59c23b015f6cc3529d1092</td>\n",
       "      <td>0</td>\n",
       "    </tr>\n",
       "    <tr>\n",
       "      <th>25</th>\n",
       "      <td>000000005f59c23b015f728f557454a6</td>\n",
       "      <td>0</td>\n",
       "    </tr>\n",
       "    <tr>\n",
       "      <th>26</th>\n",
       "      <td>000000005f59c23b015f754c23683b39</td>\n",
       "      <td>0</td>\n",
       "    </tr>\n",
       "    <tr>\n",
       "      <th>27</th>\n",
       "      <td>000000005f59c23b015f755462f944fe</td>\n",
       "      <td>0</td>\n",
       "    </tr>\n",
       "    <tr>\n",
       "      <th>28</th>\n",
       "      <td>000000005f59c23b015f7567048b5c61</td>\n",
       "      <td>0</td>\n",
       "    </tr>\n",
       "    <tr>\n",
       "      <th>29</th>\n",
       "      <td>000000005f59c23b015f756612c2598b</td>\n",
       "      <td>0</td>\n",
       "    </tr>\n",
       "    <tr>\n",
       "      <th>...</th>\n",
       "      <td>...</td>\n",
       "      <td>...</td>\n",
       "    </tr>\n",
       "    <tr>\n",
       "      <th>57249</th>\n",
       "      <td>000000006a672552016a6cfdd1f60558</td>\n",
       "      <td>0</td>\n",
       "    </tr>\n",
       "    <tr>\n",
       "      <th>57250</th>\n",
       "      <td>000000006a672552016a6d1a15d81716</td>\n",
       "      <td>0</td>\n",
       "    </tr>\n",
       "    <tr>\n",
       "      <th>57251</th>\n",
       "      <td>000000006a672552016a6d1c186d1800</td>\n",
       "      <td>0</td>\n",
       "    </tr>\n",
       "    <tr>\n",
       "      <th>57252</th>\n",
       "      <td>000000006a672552016a6d1d80fe1e61</td>\n",
       "      <td>0</td>\n",
       "    </tr>\n",
       "    <tr>\n",
       "      <th>57253</th>\n",
       "      <td>000000006a672552016a6d25aa762119</td>\n",
       "      <td>0</td>\n",
       "    </tr>\n",
       "    <tr>\n",
       "      <th>57254</th>\n",
       "      <td>000000006a672552016a68f700090b24</td>\n",
       "      <td>0</td>\n",
       "    </tr>\n",
       "    <tr>\n",
       "      <th>57255</th>\n",
       "      <td>000000006a672552016a6cdca48162ad</td>\n",
       "      <td>0</td>\n",
       "    </tr>\n",
       "    <tr>\n",
       "      <th>57256</th>\n",
       "      <td>000000006a672552016a6d56ab270f5c</td>\n",
       "      <td>0</td>\n",
       "    </tr>\n",
       "    <tr>\n",
       "      <th>57257</th>\n",
       "      <td>000000006a672552016a6c34fe1a6904</td>\n",
       "      <td>0</td>\n",
       "    </tr>\n",
       "    <tr>\n",
       "      <th>57258</th>\n",
       "      <td>0000000069bf518d016a4d2d67b37926</td>\n",
       "      <td>0</td>\n",
       "    </tr>\n",
       "    <tr>\n",
       "      <th>57259</th>\n",
       "      <td>000000006a672552016a6d5c85380171</td>\n",
       "      <td>0</td>\n",
       "    </tr>\n",
       "    <tr>\n",
       "      <th>57260</th>\n",
       "      <td>000000006a672552016a6c99d2ed2f92</td>\n",
       "      <td>0</td>\n",
       "    </tr>\n",
       "    <tr>\n",
       "      <th>57261</th>\n",
       "      <td>000000006a672552016a6d7313030f66</td>\n",
       "      <td>2</td>\n",
       "    </tr>\n",
       "    <tr>\n",
       "      <th>57262</th>\n",
       "      <td>0000000069bf518d016a66abef664f3e</td>\n",
       "      <td>0</td>\n",
       "    </tr>\n",
       "    <tr>\n",
       "      <th>57263</th>\n",
       "      <td>000000006a672552016a6d6a55bb0b39</td>\n",
       "      <td>0</td>\n",
       "    </tr>\n",
       "    <tr>\n",
       "      <th>57264</th>\n",
       "      <td>000000006a672552016a6c16b5c2558a</td>\n",
       "      <td>0</td>\n",
       "    </tr>\n",
       "    <tr>\n",
       "      <th>57265</th>\n",
       "      <td>000000006a672552016a6d3533e34971</td>\n",
       "      <td>0</td>\n",
       "    </tr>\n",
       "    <tr>\n",
       "      <th>57266</th>\n",
       "      <td>000000006a672552016a6cdbed716278</td>\n",
       "      <td>0</td>\n",
       "    </tr>\n",
       "    <tr>\n",
       "      <th>57267</th>\n",
       "      <td>000000006a672552016a6cdc206b6288</td>\n",
       "      <td>0</td>\n",
       "    </tr>\n",
       "    <tr>\n",
       "      <th>57268</th>\n",
       "      <td>000000006a672552016a6d3e67855a14</td>\n",
       "      <td>0</td>\n",
       "    </tr>\n",
       "    <tr>\n",
       "      <th>57269</th>\n",
       "      <td>000000006a672552016a6dc373c50f16</td>\n",
       "      <td>0</td>\n",
       "    </tr>\n",
       "    <tr>\n",
       "      <th>57270</th>\n",
       "      <td>000000006a672552016a6d8a2d3f6ead</td>\n",
       "      <td>0</td>\n",
       "    </tr>\n",
       "    <tr>\n",
       "      <th>57271</th>\n",
       "      <td>000000006a672552016a6dc568110f83</td>\n",
       "      <td>0</td>\n",
       "    </tr>\n",
       "    <tr>\n",
       "      <th>57272</th>\n",
       "      <td>000000006a672552016a6c92626a2d86</td>\n",
       "      <td>0</td>\n",
       "    </tr>\n",
       "    <tr>\n",
       "      <th>57273</th>\n",
       "      <td>000000006a672552016a6c93c6632de8</td>\n",
       "      <td>0</td>\n",
       "    </tr>\n",
       "    <tr>\n",
       "      <th>57274</th>\n",
       "      <td>000000006a672552016a6d9383750145</td>\n",
       "      <td>0</td>\n",
       "    </tr>\n",
       "    <tr>\n",
       "      <th>57275</th>\n",
       "      <td>000000006a672552016a6e4e195c364c</td>\n",
       "      <td>0</td>\n",
       "    </tr>\n",
       "    <tr>\n",
       "      <th>57276</th>\n",
       "      <td>000000006a672552016a6ddf08681b41</td>\n",
       "      <td>0</td>\n",
       "    </tr>\n",
       "    <tr>\n",
       "      <th>57277</th>\n",
       "      <td>000000006a672552016a6db7ab0f0c78</td>\n",
       "      <td>0</td>\n",
       "    </tr>\n",
       "    <tr>\n",
       "      <th>57278</th>\n",
       "      <td>000000006a672552016a6e9be4984725</td>\n",
       "      <td>0</td>\n",
       "    </tr>\n",
       "  </tbody>\n",
       "</table>\n",
       "<p>57279 rows × 2 columns</p>\n",
       "</div>"
      ],
      "text/plain": [
       "                             campaignSn  mailType\n",
       "0      000000005f59c23b015f73f2f5107a39         0\n",
       "1      000000005f59c23b015f73f416917a5e         0\n",
       "2      000000005f59c23b015f73f6d5207ac6         0\n",
       "3      000000005f59c23b015f73f755077adc         0\n",
       "4      000000005f59c23b015f710327035577         0\n",
       "5      000000005f59c23b015f5b3da4dd1bd4         0\n",
       "6      000000005f59c23b015f71d2723d78ff         0\n",
       "7      000000005f59c23b015f74e9266313c6         0\n",
       "8      000000005f59c23b015f74edf4f014b3         0\n",
       "9      000000005f59c23b015f702e7e7c5651         0\n",
       "10     000000005f59c23b015f7511b6551d63         0\n",
       "11     000000005f59c23b015f6c6ae74f7872         3\n",
       "12     000000005f59c23b015f752002e32116         0\n",
       "13     000000005f59c23b015f75295bb6237e         0\n",
       "14     000000005f59c23b015f751cb6e42025         0\n",
       "15     000000005f59c23b015f752fa50f276b         0\n",
       "16     000000005f59c23b015f752b89e124c9         0\n",
       "17     000000005f59c23b015f7534723c2b34         0\n",
       "18     000000005f59c23b015f7536f9b32cc0         0\n",
       "19     000000005f59c23b015f71d3f4b27979         0\n",
       "20     000000005f59c23b015f6c3b578f5fe3         0\n",
       "21     000000005f59c23b015f754b5e4e3ab4         0\n",
       "22     000000005f59c23b015f5c47b1ef7e33         0\n",
       "23     000000005f59c23b015f6b76fb160c94         0\n",
       "24     000000005f59c23b015f6cc3529d1092         0\n",
       "25     000000005f59c23b015f728f557454a6         0\n",
       "26     000000005f59c23b015f754c23683b39         0\n",
       "27     000000005f59c23b015f755462f944fe         0\n",
       "28     000000005f59c23b015f7567048b5c61         0\n",
       "29     000000005f59c23b015f756612c2598b         0\n",
       "...                                 ...       ...\n",
       "57249  000000006a672552016a6cfdd1f60558         0\n",
       "57250  000000006a672552016a6d1a15d81716         0\n",
       "57251  000000006a672552016a6d1c186d1800         0\n",
       "57252  000000006a672552016a6d1d80fe1e61         0\n",
       "57253  000000006a672552016a6d25aa762119         0\n",
       "57254  000000006a672552016a68f700090b24         0\n",
       "57255  000000006a672552016a6cdca48162ad         0\n",
       "57256  000000006a672552016a6d56ab270f5c         0\n",
       "57257  000000006a672552016a6c34fe1a6904         0\n",
       "57258  0000000069bf518d016a4d2d67b37926         0\n",
       "57259  000000006a672552016a6d5c85380171         0\n",
       "57260  000000006a672552016a6c99d2ed2f92         0\n",
       "57261  000000006a672552016a6d7313030f66         2\n",
       "57262  0000000069bf518d016a66abef664f3e         0\n",
       "57263  000000006a672552016a6d6a55bb0b39         0\n",
       "57264  000000006a672552016a6c16b5c2558a         0\n",
       "57265  000000006a672552016a6d3533e34971         0\n",
       "57266  000000006a672552016a6cdbed716278         0\n",
       "57267  000000006a672552016a6cdc206b6288         0\n",
       "57268  000000006a672552016a6d3e67855a14         0\n",
       "57269  000000006a672552016a6dc373c50f16         0\n",
       "57270  000000006a672552016a6d8a2d3f6ead         0\n",
       "57271  000000006a672552016a6dc568110f83         0\n",
       "57272  000000006a672552016a6c92626a2d86         0\n",
       "57273  000000006a672552016a6c93c6632de8         0\n",
       "57274  000000006a672552016a6d9383750145         0\n",
       "57275  000000006a672552016a6e4e195c364c         0\n",
       "57276  000000006a672552016a6ddf08681b41         0\n",
       "57277  000000006a672552016a6db7ab0f0c78         0\n",
       "57278  000000006a672552016a6e9be4984725         0\n",
       "\n",
       "[57279 rows x 2 columns]"
      ]
     },
     "execution_count": 8,
     "metadata": {},
     "output_type": "execute_result"
    }
   ],
   "source": [
    "mail"
   ]
  },
  {
   "cell_type": "code",
   "execution_count": 9,
   "metadata": {},
   "outputs": [],
   "source": [
    "df_all = df_all.merge(mail, how=\"left\", on=\"campaignSn\")"
   ]
  },
  {
   "cell_type": "code",
   "execution_count": null,
   "metadata": {},
   "outputs": [],
   "source": [
    "df_all[\"mailAddress\"].nunique()"
   ]
  },
  {
   "cell_type": "markdown",
   "metadata": {},
   "source": [
    "## 先將train資料切出來(要取開信與收信率)"
   ]
  },
  {
   "cell_type": "code",
   "execution_count": 10,
   "metadata": {},
   "outputs": [],
   "source": [
    "trainCount = df_all[df_all['scheduledDate'].apply(lambda x :x.month) <= 3].count()\n",
    "trainCount = trainCount[0]"
   ]
  },
  {
   "cell_type": "code",
   "execution_count": 11,
   "metadata": {},
   "outputs": [],
   "source": [
    "df_train = df_all[:trainCount]"
   ]
  },
  {
   "cell_type": "markdown",
   "metadata": {},
   "source": [
    "## 移除收信資料少於5封的收件者"
   ]
  },
  {
   "cell_type": "code",
   "execution_count": 12,
   "metadata": {},
   "outputs": [],
   "source": [
    "df_temp = df_all[[\"recipientSn\", \"mailAddress\"]].groupby(\"mailAddress\").count().reset_index()\n",
    "\n",
    "df_temp.columns = [\"mailAddress\", \"mailAddress_count\"]\n",
    "df_temp.sort_values(by=['mailAddress_count'])\n",
    "\n",
    "df_all = df_all.merge(df_temp, how=\"left\", on=\"mailAddress\")\n",
    "df_all = df_all[df_all['mailAddress_count'] >= 5]\n",
    "#del df_all['mailAddress_count']"
   ]
  },
  {
   "cell_type": "markdown",
   "metadata": {},
   "source": [
    "## 移除沒有開過信的使用者"
   ]
  },
  {
   "cell_type": "code",
   "execution_count": 13,
   "metadata": {},
   "outputs": [],
   "source": [
    "df_temp = df_train.groupby(\"mailAddress\")['openedFlag'].agg(['sum'])\n",
    "df_temp.columns = [\"openSum\"]\n",
    "df_all = df_all.merge(df_temp, how=\"left\", on=\"mailAddress\")\n",
    "df_all = df_all[df_all['openSum'] > 0]\n",
    "#del df_all['sum']"
   ]
  },
  {
   "cell_type": "code",
   "execution_count": null,
   "metadata": {},
   "outputs": [],
   "source": [
    "df_all[\"mailAddress\"].nunique()"
   ]
  },
  {
   "cell_type": "code",
   "execution_count": 14,
   "metadata": {},
   "outputs": [],
   "source": [
    "trainCount = df_all[df_all['scheduledDate'].apply(lambda x :x.month) <= 3].count()\n",
    "trainCount = trainCount[0]"
   ]
  },
  {
   "cell_type": "code",
   "execution_count": 15,
   "metadata": {},
   "outputs": [
    {
     "data": {
      "text/html": [
       "<div>\n",
       "<style scoped>\n",
       "    .dataframe tbody tr th:only-of-type {\n",
       "        vertical-align: middle;\n",
       "    }\n",
       "\n",
       "    .dataframe tbody tr th {\n",
       "        vertical-align: top;\n",
       "    }\n",
       "\n",
       "    .dataframe thead th {\n",
       "        text-align: right;\n",
       "    }\n",
       "</style>\n",
       "<table border=\"1\" class=\"dataframe\">\n",
       "  <thead>\n",
       "    <tr style=\"text-align: right;\">\n",
       "      <th></th>\n",
       "      <th>recipientSn</th>\n",
       "      <th>campaignSn</th>\n",
       "      <th>mailAddress</th>\n",
       "      <th>domain</th>\n",
       "      <th>openedFlag</th>\n",
       "      <th>fromMailAddress</th>\n",
       "      <th>scheduledDate</th>\n",
       "      <th>domain_count</th>\n",
       "      <th>dayofweek</th>\n",
       "      <th>time</th>\n",
       "      <th>mailType</th>\n",
       "      <th>mailAddress_count</th>\n",
       "      <th>openSum</th>\n",
       "    </tr>\n",
       "  </thead>\n",
       "  <tbody>\n",
       "    <tr>\n",
       "      <th>1</th>\n",
       "      <td>0000000067025082016765aa02a37954</td>\n",
       "      <td>00000000676335ca016765a7eab43701</td>\n",
       "      <td>1528020b92abfecd65c94bf047163ce224710f18a726ed...</td>\n",
       "      <td>gmail.com</td>\n",
       "      <td>True</td>\n",
       "      <td>chin55777@gmail.com</td>\n",
       "      <td>2018-12-01 01:28:18</td>\n",
       "      <td>4119025</td>\n",
       "      <td>5</td>\n",
       "      <td>0.926693</td>\n",
       "      <td>0</td>\n",
       "      <td>29</td>\n",
       "      <td>8.0</td>\n",
       "    </tr>\n",
       "    <tr>\n",
       "      <th>2</th>\n",
       "      <td>0000000067025082016765aa02a3795c</td>\n",
       "      <td>00000000676335ca016765a7eab43701</td>\n",
       "      <td>bcb873a73b34be1184d3d5eaad662744de533def386e47...</td>\n",
       "      <td>gmail.com</td>\n",
       "      <td>False</td>\n",
       "      <td>chin55777@gmail.com</td>\n",
       "      <td>2018-12-01 01:28:18</td>\n",
       "      <td>4119025</td>\n",
       "      <td>5</td>\n",
       "      <td>0.926693</td>\n",
       "      <td>0</td>\n",
       "      <td>14</td>\n",
       "      <td>8.0</td>\n",
       "    </tr>\n",
       "    <tr>\n",
       "      <th>3</th>\n",
       "      <td>0000000067025082016765aa02a3795d</td>\n",
       "      <td>00000000676335ca016765a7eab43701</td>\n",
       "      <td>e5f402d2076eb85c44a3ce85a59752a1a84abbd26727dc...</td>\n",
       "      <td>gmail.com</td>\n",
       "      <td>False</td>\n",
       "      <td>chin55777@gmail.com</td>\n",
       "      <td>2018-12-01 01:28:18</td>\n",
       "      <td>4119025</td>\n",
       "      <td>5</td>\n",
       "      <td>0.926693</td>\n",
       "      <td>0</td>\n",
       "      <td>6</td>\n",
       "      <td>2.0</td>\n",
       "    </tr>\n",
       "    <tr>\n",
       "      <th>4</th>\n",
       "      <td>0000000067025082016765aa02a37960</td>\n",
       "      <td>00000000676335ca016765a7eab43701</td>\n",
       "      <td>0f2248971f4d71995f69e7da30cb717b509365793d428a...</td>\n",
       "      <td>gmail.com</td>\n",
       "      <td>False</td>\n",
       "      <td>chin55777@gmail.com</td>\n",
       "      <td>2018-12-01 01:28:18</td>\n",
       "      <td>4119025</td>\n",
       "      <td>5</td>\n",
       "      <td>0.926693</td>\n",
       "      <td>0</td>\n",
       "      <td>22</td>\n",
       "      <td>1.0</td>\n",
       "    </tr>\n",
       "    <tr>\n",
       "      <th>5</th>\n",
       "      <td>0000000067025082016765aa02a37967</td>\n",
       "      <td>00000000676335ca016765a7eab43701</td>\n",
       "      <td>c350d0c98dad526a2897bdb0a0e871c5ef0d1373be7ab6...</td>\n",
       "      <td>gmail.com</td>\n",
       "      <td>True</td>\n",
       "      <td>chin55777@gmail.com</td>\n",
       "      <td>2018-12-01 01:28:18</td>\n",
       "      <td>4119025</td>\n",
       "      <td>5</td>\n",
       "      <td>0.926693</td>\n",
       "      <td>0</td>\n",
       "      <td>6</td>\n",
       "      <td>2.0</td>\n",
       "    </tr>\n",
       "  </tbody>\n",
       "</table>\n",
       "</div>"
      ],
      "text/plain": [
       "                        recipientSn                        campaignSn  \\\n",
       "1  0000000067025082016765aa02a37954  00000000676335ca016765a7eab43701   \n",
       "2  0000000067025082016765aa02a3795c  00000000676335ca016765a7eab43701   \n",
       "3  0000000067025082016765aa02a3795d  00000000676335ca016765a7eab43701   \n",
       "4  0000000067025082016765aa02a37960  00000000676335ca016765a7eab43701   \n",
       "5  0000000067025082016765aa02a37967  00000000676335ca016765a7eab43701   \n",
       "\n",
       "                                         mailAddress     domain  openedFlag  \\\n",
       "1  1528020b92abfecd65c94bf047163ce224710f18a726ed...  gmail.com        True   \n",
       "2  bcb873a73b34be1184d3d5eaad662744de533def386e47...  gmail.com       False   \n",
       "3  e5f402d2076eb85c44a3ce85a59752a1a84abbd26727dc...  gmail.com       False   \n",
       "4  0f2248971f4d71995f69e7da30cb717b509365793d428a...  gmail.com       False   \n",
       "5  c350d0c98dad526a2897bdb0a0e871c5ef0d1373be7ab6...  gmail.com        True   \n",
       "\n",
       "       fromMailAddress       scheduledDate  domain_count  dayofweek      time  \\\n",
       "1  chin55777@gmail.com 2018-12-01 01:28:18       4119025          5  0.926693   \n",
       "2  chin55777@gmail.com 2018-12-01 01:28:18       4119025          5  0.926693   \n",
       "3  chin55777@gmail.com 2018-12-01 01:28:18       4119025          5  0.926693   \n",
       "4  chin55777@gmail.com 2018-12-01 01:28:18       4119025          5  0.926693   \n",
       "5  chin55777@gmail.com 2018-12-01 01:28:18       4119025          5  0.926693   \n",
       "\n",
       "   mailType  mailAddress_count  openSum  \n",
       "1         0                 29      8.0  \n",
       "2         0                 14      8.0  \n",
       "3         0                  6      2.0  \n",
       "4         0                 22      1.0  \n",
       "5         0                  6      2.0  "
      ]
     },
     "execution_count": 15,
     "metadata": {},
     "output_type": "execute_result"
    }
   ],
   "source": [
    "df_all.head()"
   ]
  },
  {
   "cell_type": "markdown",
   "metadata": {},
   "source": [
    "## Standardization\n",
    "正規化 將數值轉為[0,1] or [-1,1] <br>\n",
    "只對數值類型的做"
   ]
  },
  {
   "cell_type": "code",
   "execution_count": 16,
   "metadata": {},
   "outputs": [
    {
     "name": "stderr",
     "output_type": "stream",
     "text": [
      "/opt/conda/lib/python3.6/site-packages/sklearn/utils/validation.py:475: DataConversionWarning: Data with input dtype int64 was converted to float64 by the scale function.\n",
      "  warnings.warn(msg, DataConversionWarning)\n",
      "/opt/conda/lib/python3.6/site-packages/sklearn/utils/validation.py:475: DataConversionWarning: Data with input dtype int64 was converted to float64 by the scale function.\n",
      "  warnings.warn(msg, DataConversionWarning)\n"
     ]
    }
   ],
   "source": [
    "df_all[ 'time' ] = preprocessing.scale( df_all[ 'time'] ,with_mean=True,with_std=True)\n",
    "df_all[ 'domain_count' ] = preprocessing.scale( df_all[ 'domain_count'],with_mean=True,with_std=True )\n",
    "df_all[ 'mailAddress_count' ] = preprocessing.scale( df_all[ 'mailAddress_count'],with_mean=True,with_std=True )\n",
    "df_all[ 'openSum' ] = preprocessing.scale( df_all[ 'openSum'],with_mean=True,with_std=True )\n"
   ]
  },
  {
   "cell_type": "code",
   "execution_count": 17,
   "metadata": {},
   "outputs": [
    {
     "data": {
      "text/plain": [
       "(array([3429506., 1124209., 1201790.,  550356.,  758447.,  500992.,\n",
       "         315899.,  947724.,  258320.,  214968.,  210100.,  701026.,\n",
       "         229794.,  129703.,  375812.,  153774.,  204055.,  105066.,\n",
       "        1365538.,   89223.,   86637.,   56464.,  253848.,   47445.,\n",
       "         104263.,  285609.,   86229.,  177511.,   56593.,  314345.]),\n",
       " array([-0.98311756, -0.86555119, -0.74798482, -0.63041845, -0.51285208,\n",
       "        -0.39528571, -0.27771934, -0.16015297, -0.0425866 ,  0.07497978,\n",
       "         0.19254615,  0.31011252,  0.42767889,  0.54524526,  0.66281163,\n",
       "         0.780378  ,  0.89794437,  1.01551074,  1.13307711,  1.25064348,\n",
       "         1.36820985,  1.48577622,  1.60334259,  1.72090896,  1.83847533,\n",
       "         1.9560417 ,  2.07360807,  2.19117444,  2.30874081,  2.42630718,\n",
       "         2.54387355]),\n",
       " <a list of 30 Patch objects>)"
      ]
     },
     "execution_count": 17,
     "metadata": {},
     "output_type": "execute_result"
    },
    {
     "data": {
      "image/png": "[encoded data removed]",
      "text/plain": [
       "<Figure size 432x288 with 1 Axes>"
      ]
     },
     "metadata": {
      "needs_background": "light"
     },
     "output_type": "display_data"
    }
   ],
   "source": [
    "data = df_all['time']\n",
    "plt.hist(data, bins= 30)"
   ]
  },
  {
   "cell_type": "code",
   "execution_count": 18,
   "metadata": {},
   "outputs": [],
   "source": [
    "df_all['dayofweek'] = df_all['dayofweek'].astype( str )\n",
    "df_all['mailType'] = df_all['mailType'].astype( str )\n"
   ]
  },
  {
   "cell_type": "code",
   "execution_count": 19,
   "metadata": {},
   "outputs": [],
   "source": [
    "df_all = df_all.drop(['domain','recipientSn', 'campaignSn', 'mailAddress', 'fromMailAddress', 'scheduledDate'], axis = 1)"
   ]
  },
  {
   "cell_type": "code",
   "execution_count": 20,
   "metadata": {},
   "outputs": [
    {
     "data": {
      "text/html": [
       "<div>\n",
       "<style scoped>\n",
       "    .dataframe tbody tr th:only-of-type {\n",
       "        vertical-align: middle;\n",
       "    }\n",
       "\n",
       "    .dataframe tbody tr th {\n",
       "        vertical-align: top;\n",
       "    }\n",
       "\n",
       "    .dataframe thead th {\n",
       "        text-align: right;\n",
       "    }\n",
       "</style>\n",
       "<table border=\"1\" class=\"dataframe\">\n",
       "  <thead>\n",
       "    <tr style=\"text-align: right;\">\n",
       "      <th></th>\n",
       "      <th>openedFlag</th>\n",
       "      <th>domain_count</th>\n",
       "      <th>dayofweek</th>\n",
       "      <th>time</th>\n",
       "      <th>mailType</th>\n",
       "      <th>mailAddress_count</th>\n",
       "      <th>openSum</th>\n",
       "    </tr>\n",
       "  </thead>\n",
       "  <tbody>\n",
       "    <tr>\n",
       "      <th>1</th>\n",
       "      <td>True</td>\n",
       "      <td>0.631987</td>\n",
       "      <td>5</td>\n",
       "      <td>2.414596</td>\n",
       "      <td>0</td>\n",
       "      <td>-0.055534</td>\n",
       "      <td>0.294342</td>\n",
       "    </tr>\n",
       "    <tr>\n",
       "      <th>2</th>\n",
       "      <td>False</td>\n",
       "      <td>0.631987</td>\n",
       "      <td>5</td>\n",
       "      <td>2.414596</td>\n",
       "      <td>0</td>\n",
       "      <td>-0.477082</td>\n",
       "      <td>0.294342</td>\n",
       "    </tr>\n",
       "    <tr>\n",
       "      <th>3</th>\n",
       "      <td>False</td>\n",
       "      <td>0.631987</td>\n",
       "      <td>5</td>\n",
       "      <td>2.414596</td>\n",
       "      <td>0</td>\n",
       "      <td>-0.701908</td>\n",
       "      <td>-0.387055</td>\n",
       "    </tr>\n",
       "    <tr>\n",
       "      <th>4</th>\n",
       "      <td>False</td>\n",
       "      <td>0.631987</td>\n",
       "      <td>5</td>\n",
       "      <td>2.414596</td>\n",
       "      <td>0</td>\n",
       "      <td>-0.252256</td>\n",
       "      <td>-0.500621</td>\n",
       "    </tr>\n",
       "    <tr>\n",
       "      <th>5</th>\n",
       "      <td>True</td>\n",
       "      <td>0.631987</td>\n",
       "      <td>5</td>\n",
       "      <td>2.414596</td>\n",
       "      <td>0</td>\n",
       "      <td>-0.701908</td>\n",
       "      <td>-0.387055</td>\n",
       "    </tr>\n",
       "    <tr>\n",
       "      <th>6</th>\n",
       "      <td>False</td>\n",
       "      <td>0.631987</td>\n",
       "      <td>5</td>\n",
       "      <td>2.414596</td>\n",
       "      <td>0</td>\n",
       "      <td>0.281705</td>\n",
       "      <td>-0.273489</td>\n",
       "    </tr>\n",
       "    <tr>\n",
       "      <th>9</th>\n",
       "      <td>False</td>\n",
       "      <td>0.631987</td>\n",
       "      <td>5</td>\n",
       "      <td>2.414596</td>\n",
       "      <td>0</td>\n",
       "      <td>-0.673805</td>\n",
       "      <td>-0.387055</td>\n",
       "    </tr>\n",
       "    <tr>\n",
       "      <th>10</th>\n",
       "      <td>False</td>\n",
       "      <td>0.631987</td>\n",
       "      <td>5</td>\n",
       "      <td>2.414596</td>\n",
       "      <td>0</td>\n",
       "      <td>-0.336566</td>\n",
       "      <td>-0.159923</td>\n",
       "    </tr>\n",
       "    <tr>\n",
       "      <th>11</th>\n",
       "      <td>True</td>\n",
       "      <td>0.631987</td>\n",
       "      <td>5</td>\n",
       "      <td>2.414596</td>\n",
       "      <td>0</td>\n",
       "      <td>0.000673</td>\n",
       "      <td>-0.500621</td>\n",
       "    </tr>\n",
       "    <tr>\n",
       "      <th>12</th>\n",
       "      <td>False</td>\n",
       "      <td>0.631987</td>\n",
       "      <td>5</td>\n",
       "      <td>2.414596</td>\n",
       "      <td>0</td>\n",
       "      <td>-0.589495</td>\n",
       "      <td>-0.387055</td>\n",
       "    </tr>\n",
       "    <tr>\n",
       "      <th>15</th>\n",
       "      <td>False</td>\n",
       "      <td>0.631987</td>\n",
       "      <td>5</td>\n",
       "      <td>2.414596</td>\n",
       "      <td>0</td>\n",
       "      <td>-0.701908</td>\n",
       "      <td>-0.500621</td>\n",
       "    </tr>\n",
       "    <tr>\n",
       "      <th>16</th>\n",
       "      <td>False</td>\n",
       "      <td>0.631987</td>\n",
       "      <td>5</td>\n",
       "      <td>2.414596</td>\n",
       "      <td>0</td>\n",
       "      <td>-0.617599</td>\n",
       "      <td>-0.387055</td>\n",
       "    </tr>\n",
       "    <tr>\n",
       "      <th>17</th>\n",
       "      <td>True</td>\n",
       "      <td>0.631987</td>\n",
       "      <td>5</td>\n",
       "      <td>2.414596</td>\n",
       "      <td>0</td>\n",
       "      <td>-0.533289</td>\n",
       "      <td>-0.500621</td>\n",
       "    </tr>\n",
       "    <tr>\n",
       "      <th>18</th>\n",
       "      <td>False</td>\n",
       "      <td>-1.656294</td>\n",
       "      <td>5</td>\n",
       "      <td>2.414596</td>\n",
       "      <td>0</td>\n",
       "      <td>-0.589495</td>\n",
       "      <td>-0.500621</td>\n",
       "    </tr>\n",
       "    <tr>\n",
       "      <th>19</th>\n",
       "      <td>True</td>\n",
       "      <td>-1.655388</td>\n",
       "      <td>5</td>\n",
       "      <td>2.414596</td>\n",
       "      <td>0</td>\n",
       "      <td>-0.589495</td>\n",
       "      <td>-0.500621</td>\n",
       "    </tr>\n",
       "    <tr>\n",
       "      <th>20</th>\n",
       "      <td>True</td>\n",
       "      <td>-1.655777</td>\n",
       "      <td>5</td>\n",
       "      <td>2.414596</td>\n",
       "      <td>0</td>\n",
       "      <td>-0.533289</td>\n",
       "      <td>-0.159923</td>\n",
       "    </tr>\n",
       "    <tr>\n",
       "      <th>21</th>\n",
       "      <td>True</td>\n",
       "      <td>0.631987</td>\n",
       "      <td>5</td>\n",
       "      <td>2.414596</td>\n",
       "      <td>0</td>\n",
       "      <td>-0.617599</td>\n",
       "      <td>-0.387055</td>\n",
       "    </tr>\n",
       "    <tr>\n",
       "      <th>22</th>\n",
       "      <td>False</td>\n",
       "      <td>0.631987</td>\n",
       "      <td>5</td>\n",
       "      <td>2.414596</td>\n",
       "      <td>0</td>\n",
       "      <td>-0.701908</td>\n",
       "      <td>-0.387055</td>\n",
       "    </tr>\n",
       "    <tr>\n",
       "      <th>23</th>\n",
       "      <td>True</td>\n",
       "      <td>0.631987</td>\n",
       "      <td>5</td>\n",
       "      <td>2.414596</td>\n",
       "      <td>0</td>\n",
       "      <td>-0.308463</td>\n",
       "      <td>0.180776</td>\n",
       "    </tr>\n",
       "    <tr>\n",
       "      <th>24</th>\n",
       "      <td>False</td>\n",
       "      <td>0.631987</td>\n",
       "      <td>5</td>\n",
       "      <td>2.414596</td>\n",
       "      <td>0</td>\n",
       "      <td>-0.533289</td>\n",
       "      <td>-0.159923</td>\n",
       "    </tr>\n",
       "    <tr>\n",
       "      <th>27</th>\n",
       "      <td>True</td>\n",
       "      <td>0.631987</td>\n",
       "      <td>5</td>\n",
       "      <td>2.414596</td>\n",
       "      <td>0</td>\n",
       "      <td>-0.561392</td>\n",
       "      <td>-0.046357</td>\n",
       "    </tr>\n",
       "    <tr>\n",
       "      <th>28</th>\n",
       "      <td>False</td>\n",
       "      <td>0.631987</td>\n",
       "      <td>5</td>\n",
       "      <td>2.414596</td>\n",
       "      <td>0</td>\n",
       "      <td>-0.224153</td>\n",
       "      <td>-0.387055</td>\n",
       "    </tr>\n",
       "    <tr>\n",
       "      <th>29</th>\n",
       "      <td>False</td>\n",
       "      <td>0.631987</td>\n",
       "      <td>5</td>\n",
       "      <td>2.414596</td>\n",
       "      <td>0</td>\n",
       "      <td>-0.505186</td>\n",
       "      <td>0.180776</td>\n",
       "    </tr>\n",
       "    <tr>\n",
       "      <th>30</th>\n",
       "      <td>False</td>\n",
       "      <td>0.631987</td>\n",
       "      <td>5</td>\n",
       "      <td>2.414596</td>\n",
       "      <td>0</td>\n",
       "      <td>-0.448979</td>\n",
       "      <td>-0.273489</td>\n",
       "    </tr>\n",
       "    <tr>\n",
       "      <th>33</th>\n",
       "      <td>False</td>\n",
       "      <td>0.631987</td>\n",
       "      <td>5</td>\n",
       "      <td>2.414596</td>\n",
       "      <td>0</td>\n",
       "      <td>-0.477082</td>\n",
       "      <td>-0.500621</td>\n",
       "    </tr>\n",
       "    <tr>\n",
       "      <th>35</th>\n",
       "      <td>False</td>\n",
       "      <td>0.631987</td>\n",
       "      <td>5</td>\n",
       "      <td>2.414596</td>\n",
       "      <td>0</td>\n",
       "      <td>-0.505186</td>\n",
       "      <td>-0.273489</td>\n",
       "    </tr>\n",
       "    <tr>\n",
       "      <th>37</th>\n",
       "      <td>False</td>\n",
       "      <td>0.631987</td>\n",
       "      <td>5</td>\n",
       "      <td>2.300833</td>\n",
       "      <td>0</td>\n",
       "      <td>-0.701908</td>\n",
       "      <td>-0.500621</td>\n",
       "    </tr>\n",
       "    <tr>\n",
       "      <th>39</th>\n",
       "      <td>False</td>\n",
       "      <td>0.631987</td>\n",
       "      <td>5</td>\n",
       "      <td>2.300833</td>\n",
       "      <td>0</td>\n",
       "      <td>-0.617599</td>\n",
       "      <td>-0.500621</td>\n",
       "    </tr>\n",
       "    <tr>\n",
       "      <th>42</th>\n",
       "      <td>True</td>\n",
       "      <td>-0.149524</td>\n",
       "      <td>5</td>\n",
       "      <td>2.300833</td>\n",
       "      <td>0</td>\n",
       "      <td>-0.730012</td>\n",
       "      <td>-0.500621</td>\n",
       "    </tr>\n",
       "    <tr>\n",
       "      <th>43</th>\n",
       "      <td>False</td>\n",
       "      <td>0.631987</td>\n",
       "      <td>5</td>\n",
       "      <td>2.300833</td>\n",
       "      <td>0</td>\n",
       "      <td>-0.027430</td>\n",
       "      <td>-0.159923</td>\n",
       "    </tr>\n",
       "    <tr>\n",
       "      <th>...</th>\n",
       "      <td>...</td>\n",
       "      <td>...</td>\n",
       "      <td>...</td>\n",
       "      <td>...</td>\n",
       "      <td>...</td>\n",
       "      <td>...</td>\n",
       "      <td>...</td>\n",
       "    </tr>\n",
       "    <tr>\n",
       "      <th>30339386</th>\n",
       "      <td>True</td>\n",
       "      <td>-0.223742</td>\n",
       "      <td>6</td>\n",
       "      <td>2.433271</td>\n",
       "      <td>0</td>\n",
       "      <td>-0.336566</td>\n",
       "      <td>-0.500621</td>\n",
       "    </tr>\n",
       "    <tr>\n",
       "      <th>30339387</th>\n",
       "      <td>False</td>\n",
       "      <td>1.024644</td>\n",
       "      <td>6</td>\n",
       "      <td>2.433271</td>\n",
       "      <td>0</td>\n",
       "      <td>-0.701908</td>\n",
       "      <td>-0.500621</td>\n",
       "    </tr>\n",
       "    <tr>\n",
       "      <th>30339390</th>\n",
       "      <td>False</td>\n",
       "      <td>-0.223742</td>\n",
       "      <td>6</td>\n",
       "      <td>2.433271</td>\n",
       "      <td>0</td>\n",
       "      <td>-0.477082</td>\n",
       "      <td>-0.046357</td>\n",
       "    </tr>\n",
       "    <tr>\n",
       "      <th>30339392</th>\n",
       "      <td>True</td>\n",
       "      <td>-0.223742</td>\n",
       "      <td>6</td>\n",
       "      <td>2.433271</td>\n",
       "      <td>0</td>\n",
       "      <td>-0.055534</td>\n",
       "      <td>0.748606</td>\n",
       "    </tr>\n",
       "    <tr>\n",
       "      <th>30339393</th>\n",
       "      <td>False</td>\n",
       "      <td>1.024644</td>\n",
       "      <td>6</td>\n",
       "      <td>2.433271</td>\n",
       "      <td>0</td>\n",
       "      <td>-0.645702</td>\n",
       "      <td>-0.387055</td>\n",
       "    </tr>\n",
       "    <tr>\n",
       "      <th>30339394</th>\n",
       "      <td>False</td>\n",
       "      <td>1.024644</td>\n",
       "      <td>6</td>\n",
       "      <td>2.433271</td>\n",
       "      <td>0</td>\n",
       "      <td>-0.701908</td>\n",
       "      <td>-0.387055</td>\n",
       "    </tr>\n",
       "    <tr>\n",
       "      <th>30339395</th>\n",
       "      <td>True</td>\n",
       "      <td>1.024644</td>\n",
       "      <td>6</td>\n",
       "      <td>2.433271</td>\n",
       "      <td>0</td>\n",
       "      <td>0.169292</td>\n",
       "      <td>-0.159923</td>\n",
       "    </tr>\n",
       "    <tr>\n",
       "      <th>30339397</th>\n",
       "      <td>False</td>\n",
       "      <td>-1.072839</td>\n",
       "      <td>6</td>\n",
       "      <td>2.433271</td>\n",
       "      <td>0</td>\n",
       "      <td>0.028776</td>\n",
       "      <td>0.067210</td>\n",
       "    </tr>\n",
       "    <tr>\n",
       "      <th>30339398</th>\n",
       "      <td>True</td>\n",
       "      <td>1.024644</td>\n",
       "      <td>6</td>\n",
       "      <td>2.433271</td>\n",
       "      <td>0</td>\n",
       "      <td>-0.561392</td>\n",
       "      <td>-0.500621</td>\n",
       "    </tr>\n",
       "    <tr>\n",
       "      <th>30339400</th>\n",
       "      <td>True</td>\n",
       "      <td>-1.072839</td>\n",
       "      <td>6</td>\n",
       "      <td>2.433271</td>\n",
       "      <td>0</td>\n",
       "      <td>0.309809</td>\n",
       "      <td>0.748606</td>\n",
       "    </tr>\n",
       "    <tr>\n",
       "      <th>30339401</th>\n",
       "      <td>False</td>\n",
       "      <td>1.024644</td>\n",
       "      <td>6</td>\n",
       "      <td>2.433271</td>\n",
       "      <td>0</td>\n",
       "      <td>-0.589495</td>\n",
       "      <td>-0.273489</td>\n",
       "    </tr>\n",
       "    <tr>\n",
       "      <th>30339402</th>\n",
       "      <td>True</td>\n",
       "      <td>1.024644</td>\n",
       "      <td>6</td>\n",
       "      <td>2.433271</td>\n",
       "      <td>0</td>\n",
       "      <td>0.197396</td>\n",
       "      <td>-0.159923</td>\n",
       "    </tr>\n",
       "    <tr>\n",
       "      <th>30339403</th>\n",
       "      <td>False</td>\n",
       "      <td>1.024644</td>\n",
       "      <td>6</td>\n",
       "      <td>2.433271</td>\n",
       "      <td>0</td>\n",
       "      <td>-0.196050</td>\n",
       "      <td>-0.387055</td>\n",
       "    </tr>\n",
       "    <tr>\n",
       "      <th>30339406</th>\n",
       "      <td>True</td>\n",
       "      <td>1.024644</td>\n",
       "      <td>6</td>\n",
       "      <td>2.433271</td>\n",
       "      <td>0</td>\n",
       "      <td>1.096699</td>\n",
       "      <td>0.635040</td>\n",
       "    </tr>\n",
       "    <tr>\n",
       "      <th>30339408</th>\n",
       "      <td>True</td>\n",
       "      <td>1.024644</td>\n",
       "      <td>6</td>\n",
       "      <td>2.433271</td>\n",
       "      <td>0</td>\n",
       "      <td>-0.364669</td>\n",
       "      <td>0.294342</td>\n",
       "    </tr>\n",
       "    <tr>\n",
       "      <th>30339409</th>\n",
       "      <td>True</td>\n",
       "      <td>1.024644</td>\n",
       "      <td>6</td>\n",
       "      <td>2.433271</td>\n",
       "      <td>0</td>\n",
       "      <td>-0.364669</td>\n",
       "      <td>-0.159923</td>\n",
       "    </tr>\n",
       "    <tr>\n",
       "      <th>30339410</th>\n",
       "      <td>True</td>\n",
       "      <td>1.024644</td>\n",
       "      <td>6</td>\n",
       "      <td>2.433271</td>\n",
       "      <td>0</td>\n",
       "      <td>-0.308463</td>\n",
       "      <td>0.748606</td>\n",
       "    </tr>\n",
       "    <tr>\n",
       "      <th>30339411</th>\n",
       "      <td>True</td>\n",
       "      <td>1.024644</td>\n",
       "      <td>6</td>\n",
       "      <td>2.433271</td>\n",
       "      <td>0</td>\n",
       "      <td>-0.701908</td>\n",
       "      <td>-0.500621</td>\n",
       "    </tr>\n",
       "    <tr>\n",
       "      <th>30339412</th>\n",
       "      <td>True</td>\n",
       "      <td>-0.223742</td>\n",
       "      <td>6</td>\n",
       "      <td>2.433271</td>\n",
       "      <td>0</td>\n",
       "      <td>-0.505186</td>\n",
       "      <td>-0.273489</td>\n",
       "    </tr>\n",
       "    <tr>\n",
       "      <th>30339415</th>\n",
       "      <td>False</td>\n",
       "      <td>1.024644</td>\n",
       "      <td>6</td>\n",
       "      <td>2.433271</td>\n",
       "      <td>0</td>\n",
       "      <td>0.084983</td>\n",
       "      <td>-0.387055</td>\n",
       "    </tr>\n",
       "    <tr>\n",
       "      <th>30339417</th>\n",
       "      <td>True</td>\n",
       "      <td>1.024644</td>\n",
       "      <td>6</td>\n",
       "      <td>2.433271</td>\n",
       "      <td>0</td>\n",
       "      <td>-0.505186</td>\n",
       "      <td>-0.387055</td>\n",
       "    </tr>\n",
       "    <tr>\n",
       "      <th>30339418</th>\n",
       "      <td>False</td>\n",
       "      <td>1.024644</td>\n",
       "      <td>6</td>\n",
       "      <td>2.433271</td>\n",
       "      <td>0</td>\n",
       "      <td>-0.505186</td>\n",
       "      <td>-0.273489</td>\n",
       "    </tr>\n",
       "    <tr>\n",
       "      <th>30339419</th>\n",
       "      <td>False</td>\n",
       "      <td>1.024644</td>\n",
       "      <td>6</td>\n",
       "      <td>2.433271</td>\n",
       "      <td>0</td>\n",
       "      <td>1.012390</td>\n",
       "      <td>-0.159923</td>\n",
       "    </tr>\n",
       "    <tr>\n",
       "      <th>30339420</th>\n",
       "      <td>True</td>\n",
       "      <td>-1.656283</td>\n",
       "      <td>6</td>\n",
       "      <td>2.433271</td>\n",
       "      <td>0</td>\n",
       "      <td>0.422221</td>\n",
       "      <td>0.180776</td>\n",
       "    </tr>\n",
       "    <tr>\n",
       "      <th>30339421</th>\n",
       "      <td>True</td>\n",
       "      <td>-1.571874</td>\n",
       "      <td>6</td>\n",
       "      <td>2.473493</td>\n",
       "      <td>0</td>\n",
       "      <td>-0.533289</td>\n",
       "      <td>-0.500621</td>\n",
       "    </tr>\n",
       "    <tr>\n",
       "      <th>30339422</th>\n",
       "      <td>True</td>\n",
       "      <td>-1.656293</td>\n",
       "      <td>6</td>\n",
       "      <td>2.473493</td>\n",
       "      <td>0</td>\n",
       "      <td>-0.420876</td>\n",
       "      <td>0.407908</td>\n",
       "    </tr>\n",
       "    <tr>\n",
       "      <th>30339423</th>\n",
       "      <td>True</td>\n",
       "      <td>-1.656286</td>\n",
       "      <td>6</td>\n",
       "      <td>2.473493</td>\n",
       "      <td>0</td>\n",
       "      <td>0.590841</td>\n",
       "      <td>2.452098</td>\n",
       "    </tr>\n",
       "    <tr>\n",
       "      <th>30339424</th>\n",
       "      <td>True</td>\n",
       "      <td>-1.571874</td>\n",
       "      <td>6</td>\n",
       "      <td>2.495626</td>\n",
       "      <td>0</td>\n",
       "      <td>-0.533289</td>\n",
       "      <td>-0.500621</td>\n",
       "    </tr>\n",
       "    <tr>\n",
       "      <th>30339425</th>\n",
       "      <td>True</td>\n",
       "      <td>-1.656293</td>\n",
       "      <td>6</td>\n",
       "      <td>2.495626</td>\n",
       "      <td>0</td>\n",
       "      <td>-0.420876</td>\n",
       "      <td>0.407908</td>\n",
       "    </tr>\n",
       "    <tr>\n",
       "      <th>30339426</th>\n",
       "      <td>True</td>\n",
       "      <td>-1.656286</td>\n",
       "      <td>6</td>\n",
       "      <td>2.495626</td>\n",
       "      <td>0</td>\n",
       "      <td>0.590841</td>\n",
       "      <td>2.452098</td>\n",
       "    </tr>\n",
       "  </tbody>\n",
       "</table>\n",
       "<p>14335246 rows × 7 columns</p>\n",
       "</div>"
      ],
      "text/plain": [
       "          openedFlag  domain_count dayofweek      time mailType  \\\n",
       "1               True      0.631987         5  2.414596        0   \n",
       "2              False      0.631987         5  2.414596        0   \n",
       "3              False      0.631987         5  2.414596        0   \n",
       "4              False      0.631987         5  2.414596        0   \n",
       "5               True      0.631987         5  2.414596        0   \n",
       "6              False      0.631987         5  2.414596        0   \n",
       "9              False      0.631987         5  2.414596        0   \n",
       "10             False      0.631987         5  2.414596        0   \n",
       "11              True      0.631987         5  2.414596        0   \n",
       "12             False      0.631987         5  2.414596        0   \n",
       "15             False      0.631987         5  2.414596        0   \n",
       "16             False      0.631987         5  2.414596        0   \n",
       "17              True      0.631987         5  2.414596        0   \n",
       "18             False     -1.656294         5  2.414596        0   \n",
       "19              True     -1.655388         5  2.414596        0   \n",
       "20              True     -1.655777         5  2.414596        0   \n",
       "21              True      0.631987         5  2.414596        0   \n",
       "22             False      0.631987         5  2.414596        0   \n",
       "23              True      0.631987         5  2.414596        0   \n",
       "24             False      0.631987         5  2.414596        0   \n",
       "27              True      0.631987         5  2.414596        0   \n",
       "28             False      0.631987         5  2.414596        0   \n",
       "29             False      0.631987         5  2.414596        0   \n",
       "30             False      0.631987         5  2.414596        0   \n",
       "33             False      0.631987         5  2.414596        0   \n",
       "35             False      0.631987         5  2.414596        0   \n",
       "37             False      0.631987         5  2.300833        0   \n",
       "39             False      0.631987         5  2.300833        0   \n",
       "42              True     -0.149524         5  2.300833        0   \n",
       "43             False      0.631987         5  2.300833        0   \n",
       "...              ...           ...       ...       ...      ...   \n",
       "30339386        True     -0.223742         6  2.433271        0   \n",
       "30339387       False      1.024644         6  2.433271        0   \n",
       "30339390       False     -0.223742         6  2.433271        0   \n",
       "30339392        True     -0.223742         6  2.433271        0   \n",
       "30339393       False      1.024644         6  2.433271        0   \n",
       "30339394       False      1.024644         6  2.433271        0   \n",
       "30339395        True      1.024644         6  2.433271        0   \n",
       "30339397       False     -1.072839         6  2.433271        0   \n",
       "30339398        True      1.024644         6  2.433271        0   \n",
       "30339400        True     -1.072839         6  2.433271        0   \n",
       "30339401       False      1.024644         6  2.433271        0   \n",
       "30339402        True      1.024644         6  2.433271        0   \n",
       "30339403       False      1.024644         6  2.433271        0   \n",
       "30339406        True      1.024644         6  2.433271        0   \n",
       "30339408        True      1.024644         6  2.433271        0   \n",
       "30339409        True      1.024644         6  2.433271        0   \n",
       "30339410        True      1.024644         6  2.433271        0   \n",
       "30339411        True      1.024644         6  2.433271        0   \n",
       "30339412        True     -0.223742         6  2.433271        0   \n",
       "30339415       False      1.024644         6  2.433271        0   \n",
       "30339417        True      1.024644         6  2.433271        0   \n",
       "30339418       False      1.024644         6  2.433271        0   \n",
       "30339419       False      1.024644         6  2.433271        0   \n",
       "30339420        True     -1.656283         6  2.433271        0   \n",
       "30339421        True     -1.571874         6  2.473493        0   \n",
       "30339422        True     -1.656293         6  2.473493        0   \n",
       "30339423        True     -1.656286         6  2.473493        0   \n",
       "30339424        True     -1.571874         6  2.495626        0   \n",
       "30339425        True     -1.656293         6  2.495626        0   \n",
       "30339426        True     -1.656286         6  2.495626        0   \n",
       "\n",
       "          mailAddress_count   openSum  \n",
       "1                 -0.055534  0.294342  \n",
       "2                 -0.477082  0.294342  \n",
       "3                 -0.701908 -0.387055  \n",
       "4                 -0.252256 -0.500621  \n",
       "5                 -0.701908 -0.387055  \n",
       "6                  0.281705 -0.273489  \n",
       "9                 -0.673805 -0.387055  \n",
       "10                -0.336566 -0.159923  \n",
       "11                 0.000673 -0.500621  \n",
       "12                -0.589495 -0.387055  \n",
       "15                -0.701908 -0.500621  \n",
       "16                -0.617599 -0.387055  \n",
       "17                -0.533289 -0.500621  \n",
       "18                -0.589495 -0.500621  \n",
       "19                -0.589495 -0.500621  \n",
       "20                -0.533289 -0.159923  \n",
       "21                -0.617599 -0.387055  \n",
       "22                -0.701908 -0.387055  \n",
       "23                -0.308463  0.180776  \n",
       "24                -0.533289 -0.159923  \n",
       "27                -0.561392 -0.046357  \n",
       "28                -0.224153 -0.387055  \n",
       "29                -0.505186  0.180776  \n",
       "30                -0.448979 -0.273489  \n",
       "33                -0.477082 -0.500621  \n",
       "35                -0.505186 -0.273489  \n",
       "37                -0.701908 -0.500621  \n",
       "39                -0.617599 -0.500621  \n",
       "42                -0.730012 -0.500621  \n",
       "43                -0.027430 -0.159923  \n",
       "...                     ...       ...  \n",
       "30339386          -0.336566 -0.500621  \n",
       "30339387          -0.701908 -0.500621  \n",
       "30339390          -0.477082 -0.046357  \n",
       "30339392          -0.055534  0.748606  \n",
       "30339393          -0.645702 -0.387055  \n",
       "30339394          -0.701908 -0.387055  \n",
       "30339395           0.169292 -0.159923  \n",
       "30339397           0.028776  0.067210  \n",
       "30339398          -0.561392 -0.500621  \n",
       "30339400           0.309809  0.748606  \n",
       "30339401          -0.589495 -0.273489  \n",
       "30339402           0.197396 -0.159923  \n",
       "30339403          -0.196050 -0.387055  \n",
       "30339406           1.096699  0.635040  \n",
       "30339408          -0.364669  0.294342  \n",
       "30339409          -0.364669 -0.159923  \n",
       "30339410          -0.308463  0.748606  \n",
       "30339411          -0.701908 -0.500621  \n",
       "30339412          -0.505186 -0.273489  \n",
       "30339415           0.084983 -0.387055  \n",
       "30339417          -0.505186 -0.387055  \n",
       "30339418          -0.505186 -0.273489  \n",
       "30339419           1.012390 -0.159923  \n",
       "30339420           0.422221  0.180776  \n",
       "30339421          -0.533289 -0.500621  \n",
       "30339422          -0.420876  0.407908  \n",
       "30339423           0.590841  2.452098  \n",
       "30339424          -0.533289 -0.500621  \n",
       "30339425          -0.420876  0.407908  \n",
       "30339426           0.590841  2.452098  \n",
       "\n",
       "[14335246 rows x 7 columns]"
      ]
     },
     "execution_count": 20,
     "metadata": {},
     "output_type": "execute_result"
    }
   ],
   "source": [
    "df_all"
   ]
  },
  {
   "cell_type": "markdown",
   "metadata": {},
   "source": [
    "## One-Hot Encoding\n",
    "要訓練非數值的feature 需要做One-Hot EncodingOne hot"
   ]
  },
  {
   "cell_type": "code",
   "execution_count": 21,
   "metadata": {},
   "outputs": [],
   "source": [
    "df_all_dum = pd.get_dummies(df_all)\n"
   ]
  },
  {
   "cell_type": "code",
   "execution_count": 22,
   "metadata": {},
   "outputs": [
    {
     "data": {
      "text/html": [
       "<div>\n",
       "<style scoped>\n",
       "    .dataframe tbody tr th:only-of-type {\n",
       "        vertical-align: middle;\n",
       "    }\n",
       "\n",
       "    .dataframe tbody tr th {\n",
       "        vertical-align: top;\n",
       "    }\n",
       "\n",
       "    .dataframe thead th {\n",
       "        text-align: right;\n",
       "    }\n",
       "</style>\n",
       "<table border=\"1\" class=\"dataframe\">\n",
       "  <thead>\n",
       "    <tr style=\"text-align: right;\">\n",
       "      <th></th>\n",
       "      <th>openedFlag</th>\n",
       "      <th>domain_count</th>\n",
       "      <th>time</th>\n",
       "      <th>mailAddress_count</th>\n",
       "      <th>openSum</th>\n",
       "      <th>dayofweek_0</th>\n",
       "      <th>dayofweek_1</th>\n",
       "      <th>dayofweek_2</th>\n",
       "      <th>dayofweek_3</th>\n",
       "      <th>dayofweek_4</th>\n",
       "      <th>dayofweek_5</th>\n",
       "      <th>dayofweek_6</th>\n",
       "      <th>mailType_0</th>\n",
       "      <th>mailType_1</th>\n",
       "      <th>mailType_2</th>\n",
       "      <th>mailType_3</th>\n",
       "    </tr>\n",
       "  </thead>\n",
       "  <tbody>\n",
       "    <tr>\n",
       "      <th>1</th>\n",
       "      <td>True</td>\n",
       "      <td>0.631987</td>\n",
       "      <td>2.414596</td>\n",
       "      <td>-0.055534</td>\n",
       "      <td>0.294342</td>\n",
       "      <td>0</td>\n",
       "      <td>0</td>\n",
       "      <td>0</td>\n",
       "      <td>0</td>\n",
       "      <td>0</td>\n",
       "      <td>1</td>\n",
       "      <td>0</td>\n",
       "      <td>1</td>\n",
       "      <td>0</td>\n",
       "      <td>0</td>\n",
       "      <td>0</td>\n",
       "    </tr>\n",
       "    <tr>\n",
       "      <th>2</th>\n",
       "      <td>False</td>\n",
       "      <td>0.631987</td>\n",
       "      <td>2.414596</td>\n",
       "      <td>-0.477082</td>\n",
       "      <td>0.294342</td>\n",
       "      <td>0</td>\n",
       "      <td>0</td>\n",
       "      <td>0</td>\n",
       "      <td>0</td>\n",
       "      <td>0</td>\n",
       "      <td>1</td>\n",
       "      <td>0</td>\n",
       "      <td>1</td>\n",
       "      <td>0</td>\n",
       "      <td>0</td>\n",
       "      <td>0</td>\n",
       "    </tr>\n",
       "    <tr>\n",
       "      <th>3</th>\n",
       "      <td>False</td>\n",
       "      <td>0.631987</td>\n",
       "      <td>2.414596</td>\n",
       "      <td>-0.701908</td>\n",
       "      <td>-0.387055</td>\n",
       "      <td>0</td>\n",
       "      <td>0</td>\n",
       "      <td>0</td>\n",
       "      <td>0</td>\n",
       "      <td>0</td>\n",
       "      <td>1</td>\n",
       "      <td>0</td>\n",
       "      <td>1</td>\n",
       "      <td>0</td>\n",
       "      <td>0</td>\n",
       "      <td>0</td>\n",
       "    </tr>\n",
       "    <tr>\n",
       "      <th>4</th>\n",
       "      <td>False</td>\n",
       "      <td>0.631987</td>\n",
       "      <td>2.414596</td>\n",
       "      <td>-0.252256</td>\n",
       "      <td>-0.500621</td>\n",
       "      <td>0</td>\n",
       "      <td>0</td>\n",
       "      <td>0</td>\n",
       "      <td>0</td>\n",
       "      <td>0</td>\n",
       "      <td>1</td>\n",
       "      <td>0</td>\n",
       "      <td>1</td>\n",
       "      <td>0</td>\n",
       "      <td>0</td>\n",
       "      <td>0</td>\n",
       "    </tr>\n",
       "    <tr>\n",
       "      <th>5</th>\n",
       "      <td>True</td>\n",
       "      <td>0.631987</td>\n",
       "      <td>2.414596</td>\n",
       "      <td>-0.701908</td>\n",
       "      <td>-0.387055</td>\n",
       "      <td>0</td>\n",
       "      <td>0</td>\n",
       "      <td>0</td>\n",
       "      <td>0</td>\n",
       "      <td>0</td>\n",
       "      <td>1</td>\n",
       "      <td>0</td>\n",
       "      <td>1</td>\n",
       "      <td>0</td>\n",
       "      <td>0</td>\n",
       "      <td>0</td>\n",
       "    </tr>\n",
       "  </tbody>\n",
       "</table>\n",
       "</div>"
      ],
      "text/plain": [
       "   openedFlag  domain_count      time  mailAddress_count   openSum  \\\n",
       "1        True      0.631987  2.414596          -0.055534  0.294342   \n",
       "2       False      0.631987  2.414596          -0.477082  0.294342   \n",
       "3       False      0.631987  2.414596          -0.701908 -0.387055   \n",
       "4       False      0.631987  2.414596          -0.252256 -0.500621   \n",
       "5        True      0.631987  2.414596          -0.701908 -0.387055   \n",
       "\n",
       "   dayofweek_0  dayofweek_1  dayofweek_2  dayofweek_3  dayofweek_4  \\\n",
       "1            0            0            0            0            0   \n",
       "2            0            0            0            0            0   \n",
       "3            0            0            0            0            0   \n",
       "4            0            0            0            0            0   \n",
       "5            0            0            0            0            0   \n",
       "\n",
       "   dayofweek_5  dayofweek_6  mailType_0  mailType_1  mailType_2  mailType_3  \n",
       "1            1            0           1           0           0           0  \n",
       "2            1            0           1           0           0           0  \n",
       "3            1            0           1           0           0           0  \n",
       "4            1            0           1           0           0           0  \n",
       "5            1            0           1           0           0           0  "
      ]
     },
     "execution_count": 22,
     "metadata": {},
     "output_type": "execute_result"
    }
   ],
   "source": [
    "df_all_dum.head()"
   ]
  },
  {
   "cell_type": "markdown",
   "metadata": {},
   "source": [
    "## 讀存檔"
   ]
  },
  {
   "cell_type": "code",
   "execution_count": 23,
   "metadata": {},
   "outputs": [],
   "source": [
    "## save data as pickle format\n",
    "with open('data/pickle/' + 'df_all_dum' + '.p', \"wb\") as file:\n",
    "    pickle.dump(df_all_dum, file)"
   ]
  },
  {
   "cell_type": "code",
   "execution_count": 24,
   "metadata": {},
   "outputs": [],
   "source": [
    "## load 'df_all_dum'\n",
    "with open('data/pickle/' + 'df_all_dum' + '.p', \"rb\") as file:\n",
    "    df_all_dum = pickle.load(file)"
   ]
  },
  {
   "cell_type": "markdown",
   "metadata": {},
   "source": [
    "## Training 開始\n",
    "資料分割\n"
   ]
  },
  {
   "cell_type": "code",
   "execution_count": 25,
   "metadata": {},
   "outputs": [
    {
     "name": "stdout",
     "output_type": "stream",
     "text": [
      "df_all_dum =  (14335246, 16)\n",
      "df_train =  10836556\n",
      "X =  (10836556, 15)\n",
      "X_test =  (3498690, 15)\n"
     ]
    }
   ],
   "source": [
    "from sklearn.model_selection import train_test_split\n",
    "from sklearn import metrics\n",
    "\n",
    "print(\"df_all_dum = \", df_all_dum.shape)\n",
    "print(\"df_train = \",trainCount)\n",
    "\n",
    "#將train的部分取出(因為前面有先將train和test的資料和並)\n",
    "X = df_all_dum[:trainCount]\n",
    "X = X.drop(['openedFlag'], axis = 1)\n",
    "y = df_all_dum['openedFlag']\n",
    "y = y[:trainCount]\n",
    "print(\"X = \",X.shape)\n",
    "\n",
    "#切分為trainData和ValData\n",
    "X_train, X_val, y_train, y_val = train_test_split(X, y, test_size = 0.1, random_state = 77, stratify=y)\n",
    "\n",
    "#將後半剩下的test資料取出\n",
    "y_test = df_all_dum[ trainCount : ]\n",
    "y_test = y_test[ 'openedFlag' ]\n",
    "X_test = df_all_dum[ trainCount : ]\n",
    "X_test = X_test.drop(['openedFlag'], axis = 1)\n",
    "\n",
    "print(\"X_test = \",X_test.shape)\n"
   ]
  },
  {
   "cell_type": "markdown",
   "metadata": {},
   "source": [
    "### Random Forest"
   ]
  },
  {
   "cell_type": "code",
   "execution_count": 26,
   "metadata": {},
   "outputs": [
    {
     "name": "stderr",
     "output_type": "stream",
     "text": [
      "/opt/conda/lib/python3.6/site-packages/sklearn/ensemble/weight_boosting.py:29: DeprecationWarning: numpy.core.umath_tests is an internal NumPy module and should not be imported. It will be removed in a future NumPy release.\n",
      "  from numpy.core.umath_tests import inner1d\n"
     ]
    }
   ],
   "source": [
    "from sklearn.ensemble import RandomForestClassifier\n",
    "from sklearn.metrics import accuracy_score\n",
    "from sklearn.metrics import f1_score\n",
    "from sklearn.metrics import recall_score\n"
   ]
  },
  {
   "cell_type": "code",
   "execution_count": 27,
   "metadata": {},
   "outputs": [
    {
     "name": "stderr",
     "output_type": "stream",
     "text": [
      "[Parallel(n_jobs=1)]: Done  10 out of  10 | elapsed:  6.6min finished\n"
     ]
    },
    {
     "data": {
      "text/plain": [
       "RandomForestClassifier(bootstrap=True, class_weight=None, criterion='gini',\n",
       "            max_depth=None, max_features='auto', max_leaf_nodes=None,\n",
       "            min_impurity_decrease=0.0, min_impurity_split=None,\n",
       "            min_samples_leaf=1, min_samples_split=2,\n",
       "            min_weight_fraction_leaf=0.0, n_estimators=10, n_jobs=1,\n",
       "            oob_score=False, random_state=None, verbose=1,\n",
       "            warm_start=False)"
      ]
     },
     "execution_count": 27,
     "metadata": {},
     "output_type": "execute_result"
    }
   ],
   "source": [
    "clf = RandomForestClassifier(verbose = 1)\n",
    "clf.fit(X_train, y_train)"
   ]
  },
  {
   "cell_type": "code",
   "execution_count": 28,
   "metadata": {},
   "outputs": [],
   "source": [
    "def feature_importance_plot(model, data_X):\n",
    "\n",
    "    importances = model.feature_importances_\n",
    "    indices = np.argsort(importances)[::-1]\n",
    "    \n",
    "    plt.figure()\n",
    "    plt.title(\"Feature importances\")\n",
    "    plt.bar(range(data_X.shape[1]), importances[indices],\n",
    "           color=\"b\", align=\"center\")\n",
    "    plt.xticks(range(data_X.shape[1]), data_X.columns[indices], rotation = 'vertical')\n",
    "    plt.yticks(np.arange(0, 0.7, step=0.1))\n",
    "    #plt.xticks(range(X.shape[1]), indices)\n",
    "    plt.xlim([-1, data_X.shape[1]])\n",
    "    plt.show()"
   ]
  },
  {
   "cell_type": "code",
   "execution_count": 29,
   "metadata": {},
   "outputs": [
    {
     "data": {
      "image/png": "[encoded data removed]",
      "text/plain": [
       "<Figure size 432x288 with 1 Axes>"
      ]
     },
     "metadata": {
      "needs_background": "light"
     },
     "output_type": "display_data"
    }
   ],
   "source": [
    "feature_importance_plot(clf, X)"
   ]
  },
  {
   "cell_type": "code",
   "execution_count": 30,
   "metadata": {},
   "outputs": [],
   "source": [
    "with open('data/pickle/RandomForestModel', \"wb\") as file:\n",
    "    pickle.dump(clf, file)"
   ]
  },
  {
   "cell_type": "code",
   "execution_count": 31,
   "metadata": {},
   "outputs": [
    {
     "name": "stderr",
     "output_type": "stream",
     "text": [
      "[Parallel(n_jobs=1)]: Done  10 out of  10 | elapsed:    6.0s finished\n"
     ]
    },
    {
     "name": "stdout",
     "output_type": "stream",
     "text": [
      "acc 0.5983402481968447\n",
      "recall = 0.9160511583398752\n",
      "f1_score 0.5950031961605132\n"
     ]
    }
   ],
   "source": [
    "\n",
    "threshold_RF = 0.1\n",
    "\n",
    "y_pred_proba_RF = clf.predict_proba(X_val)\n",
    "y_pred_RF = (y_pred_proba_RF [:,1] >= threshold_RF).astype('int')\n",
    "\n",
    "print('acc ' + str(accuracy_score(y_val, y_pred_RF)))\n",
    "print(\"recall = \" + str(recall_score(y_val, y_pred_RF)))\n",
    "print('f1_score ' + str(f1_score(y_val, y_pred_RF)))"
   ]
  },
  {
   "cell_type": "code",
   "execution_count": 32,
   "metadata": {},
   "outputs": [],
   "source": [
    "def errorCount(y_pred, y_val):\n",
    "    errorCount = 0\n",
    "    missCount = 0\n",
    "    for i in range(y_val.shape[0]):\n",
    "        if y_val.data[i] != y_pred.data[i] and y_pred.data[i] == 1:\n",
    "            errorCount = errorCount + 1\n",
    "        if y_val.data[i] != y_pred.data[i] and y_pred.data[i] == 0:\n",
    "            missCount = missCount + 1\n",
    "    print('error count : ' + str(errorCount))\n",
    "    print('miss count : ' + str(missCount))"
   ]
  },
  {
   "cell_type": "code",
   "execution_count": 33,
   "metadata": {},
   "outputs": [
    {
     "name": "stderr",
     "output_type": "stream",
     "text": [
      "/opt/conda/lib/python3.6/site-packages/ipykernel_launcher.py:5: FutureWarning: Series.data is deprecated and will be removed in a future version\n",
      "  \"\"\"\n",
      "/opt/conda/lib/python3.6/site-packages/ipykernel_launcher.py:7: FutureWarning: Series.data is deprecated and will be removed in a future version\n",
      "  import sys\n"
     ]
    },
    {
     "name": "stdout",
     "output_type": "stream",
     "text": [
      "error count : 405960\n",
      "miss count : 29301\n"
     ]
    }
   ],
   "source": [
    "errorCount(y_pred_RF, y_val)"
   ]
  },
  {
   "cell_type": "code",
   "execution_count": 34,
   "metadata": {},
   "outputs": [
    {
     "name": "stderr",
     "output_type": "stream",
     "text": [
      "[Parallel(n_jobs=1)]: Done  10 out of  10 | elapsed:    8.6s finished\n"
     ]
    }
   ],
   "source": [
    "y_test_proba = clf.predict_proba(X_test)\n",
    "y_ans_pred = (y_test_proba [:,1] >= threshold_RF).astype('int')"
   ]
  },
  {
   "cell_type": "code",
   "execution_count": 35,
   "metadata": {},
   "outputs": [
    {
     "name": "stdout",
     "output_type": "stream",
     "text": [
      "acc 0.49444963686408344\n",
      "recall = 0.8805026201863673\n",
      "f1_score 0.49469776094672396\n"
     ]
    }
   ],
   "source": [
    "print('acc ' + str(accuracy_score(y_test, y_ans_pred)))\n",
    "print(\"recall = \" + str(recall_score(y_test, y_ans_pred)))\n",
    "print('f1_score ' + str(f1_score(y_test, y_ans_pred)))"
   ]
  },
  {
   "cell_type": "markdown",
   "metadata": {},
   "source": [
    "acc 0.749054360346301<br>\n",
    "recall = 0.25923827983976844<br>\n",
    "f1_score 0.36736361455037525<br>"
   ]
  },
  {
   "cell_type": "markdown",
   "metadata": {},
   "source": [
    "### lightGBM"
   ]
  },
  {
   "cell_type": "code",
   "execution_count": 36,
   "metadata": {},
   "outputs": [
    {
     "data": {
      "text/plain": [
       "LGBMClassifier(boosting_type='gbdt', class_weight=None, colsample_bytree=1.0,\n",
       "        importance_type='split', learning_rate=0.1, max_depth=-1,\n",
       "        min_child_samples=20, min_child_weight=0.001, min_split_gain=0.0,\n",
       "        n_estimators=100, n_jobs=-1, num_leaves=31, objective='binary',\n",
       "        random_state=None, reg_alpha=0.0, reg_lambda=0.0,\n",
       "        scale_pos_weight=5, silent=True, subsample=1.0,\n",
       "        subsample_for_bin=200000, subsample_freq=0)"
      ]
     },
     "execution_count": 36,
     "metadata": {},
     "output_type": "execute_result"
    }
   ],
   "source": [
    "import lightgbm as lgb\n",
    "pos_weight = 5\n",
    "lgbm = lgb.LGBMClassifier(objective = 'binary', scale_pos_weight=pos_weight)\n",
    "lgbm.fit(X_train, y_train)"
   ]
  },
  {
   "cell_type": "code",
   "execution_count": 37,
   "metadata": {},
   "outputs": [
    {
     "data": {
      "text/plain": [
       "LGBMClassifier(boosting_type='gbdt', class_weight=None, colsample_bytree=1.0,\n",
       "        importance_type='gain', learning_rate=0.1, max_depth=-1,\n",
       "        min_child_samples=20, min_child_weight=0.001, min_split_gain=0.0,\n",
       "        n_estimators=100, n_jobs=-1, num_leaves=31, objective='binary',\n",
       "        random_state=None, reg_alpha=0.0, reg_lambda=0.0,\n",
       "        scale_pos_weight=5, silent=True, subsample=1.0,\n",
       "        subsample_for_bin=200000, subsample_freq=0)"
      ]
     },
     "execution_count": 37,
     "metadata": {},
     "output_type": "execute_result"
    }
   ],
   "source": [
    "lgbm1 = lgb.LGBMClassifier(objective = 'binary', scale_pos_weight=pos_weight, importance_type='gain')\n",
    "lgbm1.fit(X_train, y_train)"
   ]
  },
  {
   "cell_type": "code",
   "execution_count": 38,
   "metadata": {},
   "outputs": [
    {
     "data": {
      "image/png": "[encoded data removed]",
      "text/plain": [
       "<Figure size 432x288 with 1 Axes>"
      ]
     },
     "metadata": {
      "needs_background": "light"
     },
     "output_type": "display_data"
    }
   ],
   "source": [
    "feature_importance_plot(lgbm, X)"
   ]
  },
  {
   "cell_type": "code",
   "execution_count": 39,
   "metadata": {},
   "outputs": [
    {
     "data": {
      "image/png": "[encoded data removed]",
      "text/plain": [
       "<Figure size 432x288 with 1 Axes>"
      ]
     },
     "metadata": {
      "needs_background": "light"
     },
     "output_type": "display_data"
    }
   ],
   "source": [
    "importances = lgbm1.feature_importances_/sum(lgbm1.feature_importances_)\n",
    "indices = np.argsort(importances)[::-1]\n",
    "\n",
    "plt.figure()\n",
    "plt.title(\"Feature importances\")\n",
    "plt.bar(range(X.shape[1]), importances[indices],\n",
    "       color=\"b\", align=\"center\")\n",
    "plt.xticks(range(X.shape[1]), X.columns[indices], rotation = 'vertical')\n",
    "plt.yticks(np.arange(0, 0.7, step=0.1))\n",
    "plt.xlim([-1, X.shape[1]])\n",
    "plt.show()"
   ]
  },
  {
   "cell_type": "code",
   "execution_count": 40,
   "metadata": {},
   "outputs": [],
   "source": [
    "with open('data/pickle/LightGBMModel', \"wb\") as file:\n",
    "    pickle.dump(lgbm, file)"
   ]
  },
  {
   "cell_type": "code",
   "execution_count": 41,
   "metadata": {},
   "outputs": [
    {
     "name": "stdout",
     "output_type": "stream",
     "text": [
      "acc = 0.361782705950966\n",
      "recall = 0.9986620214649575\n",
      "f1 = 0.5019895704169673\n"
     ]
    }
   ],
   "source": [
    "threshold_GBM = 0.1\n",
    "\n",
    "y_pred_proba_GBM = lgbm.predict_proba(X_val)\n",
    "y_pred_GBM = (y_pred_proba_GBM [:,1] >= threshold_GBM).astype('int')\n",
    "print(\"acc = \" + str(accuracy_score(y_val, y_pred_GBM)))\n",
    "print(\"recall = \" + str(recall_score(y_val, y_pred_GBM)))\n",
    "print(\"f1 = \" + str(f1_score(y_val, y_pred_GBM)))"
   ]
  },
  {
   "cell_type": "code",
   "execution_count": 42,
   "metadata": {},
   "outputs": [
    {
     "name": "stderr",
     "output_type": "stream",
     "text": [
      "/opt/conda/lib/python3.6/site-packages/ipykernel_launcher.py:5: FutureWarning: Series.data is deprecated and will be removed in a future version\n",
      "  \"\"\"\n",
      "/opt/conda/lib/python3.6/site-packages/ipykernel_launcher.py:7: FutureWarning: Series.data is deprecated and will be removed in a future version\n",
      "  import sys\n"
     ]
    },
    {
     "name": "stdout",
     "output_type": "stream",
     "text": [
      "error count : 691141\n",
      "miss count : 467\n"
     ]
    }
   ],
   "source": [
    "errorCount(y_pred_GBM, y_val)"
   ]
  },
  {
   "cell_type": "code",
   "execution_count": 43,
   "metadata": {},
   "outputs": [
    {
     "name": "stdout",
     "output_type": "stream",
     "text": [
      "0.959444694626339\n",
      "1039708\n",
      "1083656\n"
     ]
    }
   ],
   "source": [
    "sendRate = y_pred_GBM.sum() / X_val.shape[0]\n",
    "print(sendRate)\n",
    "print( y_pred_GBM.sum())\n",
    "print(X_val.shape[0])"
   ]
  },
  {
   "cell_type": "code",
   "execution_count": 44,
   "metadata": {},
   "outputs": [
    {
     "data": {
      "text/plain": [
       "1039708"
      ]
     },
     "execution_count": 44,
     "metadata": {},
     "output_type": "execute_result"
    }
   ],
   "source": [
    " y_pred_GBM.sum()"
   ]
  },
  {
   "cell_type": "code",
   "execution_count": 45,
   "metadata": {},
   "outputs": [
    {
     "name": "stdout",
     "output_type": "stream",
     "text": [
      "acc = 0.31760630407381046\n",
      "recall = 0.996774216511903\n",
      "f1 = 0.4508746274547506\n"
     ]
    }
   ],
   "source": [
    "threshold_GBM = 0.1\n",
    "\n",
    "y_pred_proba_GBM = lgbm.predict_proba(X_test)\n",
    "y_pred_GBM = (y_pred_proba_GBM [:,1] >= threshold_GBM).astype('int')\n",
    "print(\"acc = \" + str(accuracy_score(y_test, y_pred_GBM)))\n",
    "print(\"recall = \" + str(recall_score(y_test, y_pred_GBM)))\n",
    "print(\"f1 = \" + str(f1_score(y_test, y_pred_GBM)))"
   ]
  },
  {
   "cell_type": "code",
   "execution_count": 46,
   "metadata": {},
   "outputs": [
    {
     "name": "stdout",
     "output_type": "stream",
     "text": [
      "0.961636212410931\n",
      "3364467\n",
      "3498690\n"
     ]
    }
   ],
   "source": [
    "sendRate = y_pred_GBM.sum() / y_test.shape[0]\n",
    "print(sendRate)\n",
    "print( y_pred_GBM.sum())\n",
    "print(y_test.shape[0])"
   ]
  },
  {
   "cell_type": "markdown",
   "metadata": {},
   "source": [
    "## Naive Bayes Classification\n"
   ]
  },
  {
   "cell_type": "code",
   "execution_count": 47,
   "metadata": {},
   "outputs": [
    {
     "data": {
      "text/plain": [
       "GaussianNB(priors=None)"
      ]
     },
     "execution_count": 47,
     "metadata": {},
     "output_type": "execute_result"
    }
   ],
   "source": [
    "from sklearn.naive_bayes import GaussianNB\n",
    "modelNB = GaussianNB()\n",
    "modelNB.fit(X_train, y_train)"
   ]
  },
  {
   "cell_type": "code",
   "execution_count": 48,
   "metadata": {},
   "outputs": [
    {
     "name": "stdout",
     "output_type": "stream",
     "text": [
      "acc = 0.32227662653092864\n",
      "recall = 0.9999570242440564\n",
      "f1 = 0.4873011894946934\n"
     ]
    }
   ],
   "source": [
    "threshold_NB = 0.000001\n",
    "\n",
    "y_pred_proba_NB = modelNB.predict_proba(X_val)\n",
    "y_pred_NB = (y_pred_proba_NB [:,1] >= threshold_NB).astype('int')\n",
    "print(\"acc = \" + str(accuracy_score(y_val, y_pred_NB)))\n",
    "print(\"recall = \" + str(recall_score(y_val, y_pred_NB)))\n",
    "print(\"f1 = \" + str(f1_score(y_val, y_pred_NB)))"
   ]
  },
  {
   "cell_type": "code",
   "execution_count": 49,
   "metadata": {},
   "outputs": [
    {
     "name": "stdout",
     "output_type": "stream",
     "text": [
      "acc = 0.43319413837750703\n",
      "recall = 0.9347094099928102\n",
      "f1 = 0.48105004333571993\n"
     ]
    }
   ],
   "source": [
    "threshold_NB = 0.1\n",
    "\n",
    "y_pred_proba_NB = modelNB.predict_proba(X_test)\n",
    "y_pred_NB = (y_pred_proba_NB [:,1] >= threshold_NB).astype('int')\n",
    "print(\"acc = \" + str(accuracy_score(y_test, y_pred_NB)))\n",
    "print(\"recall = \" + str(recall_score(y_test, y_pred_NB)))\n",
    "print(\"f1 = \" + str(f1_score(y_test, y_pred_NB)))"
   ]
  },
  {
   "cell_type": "markdown",
   "metadata": {},
   "source": [
    "# feature selection "
   ]
  },
  {
   "cell_type": "code",
   "execution_count": 50,
   "metadata": {},
   "outputs": [],
   "source": [
    "X_train_select = X_train.iloc[:, 0:4]\n",
    "X_test_select = X_test.iloc[:, 0:4]"
   ]
  },
  {
   "cell_type": "code",
   "execution_count": 51,
   "metadata": {},
   "outputs": [
    {
     "data": {
      "text/plain": [
       "LGBMClassifier(boosting_type='gbdt', class_weight=None, colsample_bytree=1.0,\n",
       "        importance_type='gain', learning_rate=0.1, max_depth=-1,\n",
       "        min_child_samples=20, min_child_weight=0.001, min_split_gain=0.0,\n",
       "        n_estimators=100, n_jobs=-1, num_leaves=31, objective='binary',\n",
       "        random_state=None, reg_alpha=0.0, reg_lambda=0.0,\n",
       "        scale_pos_weight=5, silent=True, subsample=1.0,\n",
       "        subsample_for_bin=200000, subsample_freq=0)"
      ]
     },
     "execution_count": 51,
     "metadata": {},
     "output_type": "execute_result"
    }
   ],
   "source": [
    "lgbm_select = lgb.LGBMClassifier(objective = 'binary', scale_pos_weight=pos_weight, importance_type='gain')\n",
    "lgbm_select.fit(X_train_select, y_train)"
   ]
  },
  {
   "cell_type": "code",
   "execution_count": 52,
   "metadata": {},
   "outputs": [
    {
     "name": "stdout",
     "output_type": "stream",
     "text": [
      "acc = 0.31742280682198193\n",
      "recall = 0.99671014830265\n",
      "f1 = 0.4507921468340574\n"
     ]
    }
   ],
   "source": [
    "threshold_GBM = 0.1\n",
    "\n",
    "y_pred_proba_GBM_select = lgbm_select.predict_proba(X_test_select)\n",
    "y_pred_GBM_select = (y_pred_proba_GBM_select [:,1] >= threshold_GBM).astype('int')\n",
    "print(\"acc = \" + str(accuracy_score(y_test, y_pred_GBM_select)))\n",
    "print(\"recall = \" + str(recall_score(y_test, y_pred_GBM_select)))\n",
    "print(\"f1 = \" + str(f1_score(y_test, y_pred_GBM_select)))"
   ]
  }
 ],
 "metadata": {
  "kernelspec": {
   "display_name": "Python 3",
   "language": "python",
   "name": "python3"
  },
  "language_info": {
   "codemirror_mode": {
    "name": "ipython",
    "version": 3
   },
   "file_extension": ".py",
   "mimetype": "text/x-python",
   "name": "python",
   "nbconvert_exporter": "python",
   "pygments_lexer": "ipython3",
   "version": "3.6.6"
  }
 },
 "nbformat": 4,
 "nbformat_minor": 2
}
