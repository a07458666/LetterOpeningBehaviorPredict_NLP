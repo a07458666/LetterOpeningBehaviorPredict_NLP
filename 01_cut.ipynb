{
 "cells": [
  {
   "cell_type": "markdown",
   "metadata": {},
   "source": [
    "# 01 cut word"
   ]
  },
  {
   "cell_type": "code",
   "execution_count": 1,
   "metadata": {},
   "outputs": [],
   "source": [
    "import pandas as pd\n",
    "import re\n",
    "import os\n",
    "import jieba\n",
    "import jieba.posseg as pseg\n",
    "import pickle\n",
    "import numpy as np\n",
    "from tqdm import tqdm_notebook"
   ]
  },
  {
   "cell_type": "code",
   "execution_count": 2,
   "metadata": {},
   "outputs": [
    {
     "data": {
      "text/plain": [
       "'/project/at082-group17'"
      ]
     },
     "execution_count": 2,
     "metadata": {},
     "output_type": "execute_result"
    }
   ],
   "source": [
    "## turn back to main directory\n",
    "os.chdir(\"../\")\n",
    "os.getcwd()"
   ]
  },
  {
   "cell_type": "markdown",
   "metadata": {},
   "source": [
    "## load mail data"
   ]
  },
  {
   "cell_type": "code",
   "execution_count": 3,
   "metadata": {},
   "outputs": [],
   "source": [
    "mail = pd.read_csv('data/mail_data.csv')"
   ]
  },
  {
   "cell_type": "markdown",
   "metadata": {},
   "source": [
    "## 根據規則 清除符號"
   ]
  },
  {
   "cell_type": "code",
   "execution_count": 4,
   "metadata": {},
   "outputs": [],
   "source": [
    "## filter rules\n",
    "mail['subject'] = mail['subject'].str.replace('https?:\\/\\/\\S*|︱', '')\n",
    "mail['subject'] = mail['subject'].str.replace('【', ' ')\n",
    "mail['subject'] = mail['subject'].str.replace('】', ' ')\n",
    "mail['subject'] = mail['subject'].str.replace('{', ' ')\n",
    "mail['subject'] = mail['subject'].str.replace('}', ' ')\n",
    "mail['subject'] = mail['subject'].str.replace('$', '')\n",
    "mail['subject'] = mail['subject'].str.replace('『', ' ')\n",
    "mail['subject'] = mail['subject'].str.replace('』', ' ')\n",
    "\n",
    "mail['subject'] = mail['subject'].replace('', np.nan)\n",
    "mail['content'] = mail['fromName'] + ' ' + mail['subject']"
   ]
  },
  {
   "cell_type": "code",
   "execution_count": 5,
   "metadata": {},
   "outputs": [],
   "source": [
    "mail = mail.drop(['subject','fromName','campaignSn','scheduledDate','fromMailAddress'] ,axis = 1)\n",
    "mail.to_csv('data/mail_preprocessed.csv', index=False)"
   ]
  },
  {
   "cell_type": "markdown",
   "metadata": {},
   "source": [
    "## jieba 結巴切字"
   ]
  },
  {
   "cell_type": "code",
   "execution_count": 6,
   "metadata": {},
   "outputs": [],
   "source": [
    "## set dictionary (can define yourself)\n",
    "jieba.set_dictionary('AT082_17_Leopard_Read/jieba/dict.txt.big')\n",
    "stop_words = open('AT082_17_Leopard_Read/jieba/stop_words.txt').read().splitlines()"
   ]
  },
  {
   "cell_type": "code",
   "execution_count": 7,
   "metadata": {},
   "outputs": [
    {
     "name": "stdout",
     "output_type": "stream",
     "text": [
      "['\\ufeff,', '?', '、', '。', '“']\n"
     ]
    }
   ],
   "source": [
    "print(stop_words[:5])"
   ]
  },
  {
   "cell_type": "code",
   "execution_count": 14,
   "metadata": {},
   "outputs": [],
   "source": [
    "data = pd.read_csv('data/mail_preprocessed.csv')\n",
    "data = data['content'].unique().tolist()\n",
    "#data = data['content'].tolist()"
   ]
  },
  {
   "cell_type": "code",
   "execution_count": 15,
   "metadata": {},
   "outputs": [
    {
     "name": "stdout",
     "output_type": "stream",
     "text": [
      "['server 专属邀请函', '動腦每日報 品牌遇母則強 媽媽經濟5大洞察iPhone X 銷售大預測  random  ', '禾宸生醫國際有限公司  台灣原生 山芙蓉 修護保濕霜 立即體驗用品申請 ', '鮮乳坊  恭喜中獎 鮮乳坊FlyingV集資回饋問卷中獎通知', '財團法人台北行天宮附設玄空圖書館 ．玄空圖書館電子報．106/11/01生活焦點資訊']\n"
     ]
    }
   ],
   "source": [
    "print(data[:5])"
   ]
  },
  {
   "cell_type": "code",
   "execution_count": 16,
   "metadata": {},
   "outputs": [
    {
     "data": {
      "application/vnd.jupyter.widget-view+json": {
       "model_id": "31dc9c6a266f4fc2a53ac8fdd06c9852",
       "version_major": 2,
       "version_minor": 0
      },
      "text/plain": [
       "HBox(children=(IntProgress(value=0, max=30627), HTML(value='')))"
      ]
     },
     "metadata": {},
     "output_type": "display_data"
    },
    {
     "name": "stdout",
     "output_type": "stream",
     "text": [
      "\n"
     ]
    }
   ],
   "source": [
    "sentences = []\n",
    "\n",
    "for i, text in enumerate(tqdm_notebook(data)):\n",
    "    line = []\n",
    "\n",
    "    for w in jieba.cut(text, cut_all=False):\n",
    "        \n",
    "        ## remove stopwords and digits\n",
    "        ## can define your own rules\n",
    "        if w not in stop_words and not bool(re.match('[0-9]+', w)):\n",
    "            line.append(w)\n",
    "\n",
    "    sentences.append(line)"
   ]
  },
  {
   "cell_type": "code",
   "execution_count": 11,
   "metadata": {},
   "outputs": [
    {
     "name": "stdout",
     "output_type": "stream",
     "text": [
      "[['content']]\n"
     ]
    }
   ],
   "source": [
    "print(sentences[0:10])"
   ]
  },
  {
   "cell_type": "code",
   "execution_count": 15,
   "metadata": {},
   "outputs": [],
   "source": [
    "## save data as pickle format\n",
    "with open(\"data/mail_cutted\", \"wb\") as file:\n",
    "    pickle.dump(sentences, file)"
   ]
  }
 ],
 "metadata": {
  "kernelspec": {
   "display_name": "Python 3",
   "language": "python",
   "name": "python3"
  },
  "language_info": {
   "codemirror_mode": {
    "name": "ipython",
    "version": 3
   },
   "file_extension": ".py",
   "mimetype": "text/x-python",
   "name": "python",
   "nbconvert_exporter": "python",
   "pygments_lexer": "ipython3",
   "version": "3.6.6"
  }
 },
 "nbformat": 4,
 "nbformat_minor": 2
}
